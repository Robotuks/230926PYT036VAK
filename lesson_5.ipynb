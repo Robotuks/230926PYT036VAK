{
 "cells": [
  {
   "cell_type": "markdown",
   "metadata": {},
   "source": [
    "# Papildomos užduotys"
   ]
  },
  {
   "cell_type": "markdown",
   "metadata": {},
   "source": [
    "## nr 2"
   ]
  },
  {
   "cell_type": "markdown",
   "metadata": {},
   "source": [
    "1. Surasti didžiausią reikšmę esančia sąraše. Gautą reikšmę padalinti iš sąrašo narių sumos ir atspausdinti."
   ]
  },
  {
   "cell_type": "code",
   "execution_count": 2,
   "metadata": {},
   "outputs": [
    {
     "name": "stdout",
     "output_type": "stream",
     "text": [
      "0.34615384615384615\n"
     ]
    }
   ],
   "source": [
    "numbers = [3, 7, 1, 9, 4, 2]\n",
    "\n",
    "# Ats: 0.34615384615384615\n",
    "print( max(numbers) / sum( numbers ) )"
   ]
  },
  {
   "cell_type": "markdown",
   "metadata": {},
   "source": [
    "2. Turite sąrašą `fruits`, kuriame yra turimi vaisiai. Leisti vartotojui nurodyti norimą vaisių (naudoti input() ) ir atspausdinti ar vaisius yra sąraše."
   ]
  },
  {
   "cell_type": "code",
   "execution_count": 7,
   "metadata": {},
   "outputs": [
    {
     "name": "stdout",
     "output_type": "stream",
     "text": [
      "kiwi\n",
      "False\n",
      "False\n"
     ]
    }
   ],
   "source": [
    "fruits = ['apple', 'banana', 'orange', 'grapes', 'pineapple',]\n",
    "\n",
    "user_fruit = input('Enter fruit: ')\n",
    "print( user_fruit )\n",
    "print( user_fruit in fruits )\n",
    "print( user_fruit.lower() in fruits )"
   ]
  },
  {
   "cell_type": "markdown",
   "metadata": {},
   "source": [
    "3. Paklauskite vartotojo, kiek skaičių (1-100) nori panaudoti skaičiavimams. Iš `list_1` paimti vartotojo nurodytą skaičių kiekį (naudoti *slicing*) ir išsaugoti `selected_numbers` kintamajame. Paskaičiuoti ir atspausdinti `selected_numbers` sumą, vidutinę, minimalią ir maksimalią vertę"
   ]
  },
  {
   "cell_type": "code",
   "execution_count": 10,
   "metadata": {},
   "outputs": [
    {
     "name": "stdout",
     "output_type": "stream",
     "text": [
      "selected_numbers (10): [11, 23, 97, 10, 55, 46, 16, 72, 3, 72]\n",
      "Pasirinktu skaiciu suma: 405\n",
      "Pasirinktu skaiciu vidurkis: 40.5\n",
      "Maziausias pasirinktos imties skaicius: 3\n",
      "Didziausias pasirinktos imties skaicius: 97\n"
     ]
    }
   ],
   "source": [
    "list_1 = [11, 23, 97, 10, 55, 46, 16, 72, 3, 72, 17, 29, 21, 48, 50, 4, 73, 44, 18, 30, 53, 95, 15, 69, 86, 39, 6, 89, 89, 2, 26, 54, 27, 39, 3, 69, 21, 62, 99, 11, 49, 58, 78, 53, 46, 50, 39, 100, 77, 41, 7, 10, 53, 33, 74, 78, 20, 41, 65, 9, 84, 11, 90, 65, 43, 78, 15, 49, 87, 48, 84, 31, 17, 17, 60, 47, 71, 7, 23, 56, 74, 45, 74, 17, 27, 52, 80, 26, 93, 14, 76, 28, 99, 3, 61, 67, 71, 24, 77, 74]\n",
    "\n",
    "norimas_skaiciu_kiekis = int(input('Iveskite, kiek (is eiles einanciu) skaiciu norite panaudoti skaičiavimams [1-100]'))\n",
    "selected_numbers = list_1[0:norimas_skaiciu_kiekis]\n",
    "print(f'selected_numbers ({len(selected_numbers)}): {selected_numbers}')\n",
    "print('Pasirinktu skaiciu suma:', sum(selected_numbers))\n",
    "print('Pasirinktu skaiciu vidurkis:', sum(selected_numbers)/len(selected_numbers))\n",
    "print('Maziausias pasirinktos imties skaicius:', min(selected_numbers))\n",
    "print('Didziausias pasirinktos imties skaicius:', max(selected_numbers))"
   ]
  },
  {
   "cell_type": "markdown",
   "metadata": {},
   "source": [
    "## nr 3"
   ]
  },
  {
   "cell_type": "markdown",
   "metadata": {},
   "source": [
    "1. Iš pirmų 100 skaičių, jeigu skaičius dalinasi iš 2 be liekanos, atspausdinkite `Fizz`, jeigu skaičius dalinasi iš 3 be liekanos atspausdinkite `Buzz`, jei skaičius dalinasi iš 2 ir 3 be liekanos, atspausdinkite `FizzBuzz`\n",
    "Pvz:\n",
    "\n",
    "1 - ''\n",
    "\n",
    "2 - 'Fizz'\n",
    "\n",
    "3 - 'Buzz'\n",
    "\n",
    "4 - 'Fizz'\n",
    "\n",
    "5 - ''\n",
    "\n",
    "6 - 'FizzBuzz'"
   ]
  },
  {
   "cell_type": "code",
   "execution_count": 13,
   "metadata": {},
   "outputs": [
    {
     "name": "stdout",
     "output_type": "stream",
     "text": [
      "1 -\n",
      "2 - Fizz\n",
      "3 - Buzz\n",
      "4 - Fizz\n",
      "5 -\n",
      "6 - FizzBuzz\n",
      "7 -\n",
      "8 - Fizz\n",
      "9 - Buzz\n",
      "10 - Fizz\n",
      "11 -\n",
      "12 - FizzBuzz\n",
      "13 -\n",
      "14 - Fizz\n",
      "15 - Buzz\n",
      "16 - Fizz\n",
      "17 -\n",
      "18 - FizzBuzz\n",
      "19 -\n",
      "20 - Fizz\n",
      "21 - Buzz\n",
      "22 - Fizz\n",
      "23 -\n",
      "24 - FizzBuzz\n",
      "25 -\n",
      "26 - Fizz\n",
      "27 - Buzz\n",
      "28 - Fizz\n",
      "29 -\n",
      "30 - FizzBuzz\n",
      "31 -\n",
      "32 - Fizz\n",
      "33 - Buzz\n",
      "34 - Fizz\n",
      "35 -\n",
      "36 - FizzBuzz\n",
      "37 -\n",
      "38 - Fizz\n",
      "39 - Buzz\n",
      "40 - Fizz\n",
      "41 -\n",
      "42 - FizzBuzz\n",
      "43 -\n",
      "44 - Fizz\n",
      "45 - Buzz\n",
      "46 - Fizz\n",
      "47 -\n",
      "48 - FizzBuzz\n",
      "49 -\n",
      "50 - Fizz\n",
      "51 - Buzz\n",
      "52 - Fizz\n",
      "53 -\n",
      "54 - FizzBuzz\n",
      "55 -\n",
      "56 - Fizz\n",
      "57 - Buzz\n",
      "58 - Fizz\n",
      "59 -\n",
      "60 - FizzBuzz\n",
      "61 -\n",
      "62 - Fizz\n",
      "63 - Buzz\n",
      "64 - Fizz\n",
      "65 -\n",
      "66 - FizzBuzz\n",
      "67 -\n",
      "68 - Fizz\n",
      "69 - Buzz\n",
      "70 - Fizz\n",
      "71 -\n",
      "72 - FizzBuzz\n",
      "73 -\n",
      "74 - Fizz\n",
      "75 - Buzz\n",
      "76 - Fizz\n",
      "77 -\n",
      "78 - FizzBuzz\n",
      "79 -\n",
      "80 - Fizz\n",
      "81 - Buzz\n",
      "82 - Fizz\n",
      "83 -\n",
      "84 - FizzBuzz\n",
      "85 -\n",
      "86 - Fizz\n",
      "87 - Buzz\n",
      "88 - Fizz\n",
      "89 -\n",
      "90 - FizzBuzz\n",
      "91 -\n",
      "92 - Fizz\n",
      "93 - Buzz\n",
      "94 - Fizz\n",
      "95 -\n",
      "96 - FizzBuzz\n",
      "97 -\n",
      "98 - Fizz\n",
      "99 - Buzz\n",
      "100 - Fizz\n"
     ]
    }
   ],
   "source": [
    "for number in range(1, 101):\n",
    "    if number % 2 == 0 and number % 3 == 0:\n",
    "        print(f'{number} - FizzBuzz')\n",
    "    elif number % 2 == 0:\n",
    "        print(f'{number} - Fizz')\n",
    "    elif number % 3 == 0:\n",
    "        print(f'{number} - Buzz')\n",
    "    else:\n",
    "        print(f'{number} -')"
   ]
  },
  {
   "cell_type": "code",
   "execution_count": 16,
   "metadata": {},
   "outputs": [
    {
     "name": "stdout",
     "output_type": "stream",
     "text": [
      "1 - \n",
      "2 - Fizz\n",
      "3 - Buzz\n",
      "4 - Fizz\n",
      "5 - \n",
      "6 - FizzBuzz\n",
      "7 - \n",
      "8 - Fizz\n",
      "9 - Buzz\n",
      "10 - Fizz\n",
      "11 - \n",
      "12 - FizzBuzz\n",
      "13 - \n",
      "14 - Fizz\n",
      "15 - Buzz\n",
      "16 - Fizz\n",
      "17 - \n",
      "18 - FizzBuzz\n",
      "19 - \n",
      "20 - Fizz\n",
      "21 - Buzz\n",
      "22 - Fizz\n",
      "23 - \n",
      "24 - FizzBuzz\n",
      "25 - \n",
      "26 - Fizz\n",
      "27 - Buzz\n",
      "28 - Fizz\n",
      "29 - \n",
      "30 - FizzBuzz\n",
      "31 - \n",
      "32 - Fizz\n",
      "33 - Buzz\n",
      "34 - Fizz\n",
      "35 - \n",
      "36 - FizzBuzz\n",
      "37 - \n",
      "38 - Fizz\n",
      "39 - Buzz\n",
      "40 - Fizz\n",
      "41 - \n",
      "42 - FizzBuzz\n",
      "43 - \n",
      "44 - Fizz\n",
      "45 - Buzz\n",
      "46 - Fizz\n",
      "47 - \n",
      "48 - FizzBuzz\n",
      "49 - \n",
      "50 - Fizz\n",
      "51 - Buzz\n",
      "52 - Fizz\n",
      "53 - \n",
      "54 - FizzBuzz\n",
      "55 - \n",
      "56 - Fizz\n",
      "57 - Buzz\n",
      "58 - Fizz\n",
      "59 - \n",
      "60 - FizzBuzz\n",
      "61 - \n",
      "62 - Fizz\n",
      "63 - Buzz\n",
      "64 - Fizz\n",
      "65 - \n",
      "66 - FizzBuzz\n",
      "67 - \n",
      "68 - Fizz\n",
      "69 - Buzz\n",
      "70 - Fizz\n",
      "71 - \n",
      "72 - FizzBuzz\n",
      "73 - \n",
      "74 - Fizz\n",
      "75 - Buzz\n",
      "76 - Fizz\n",
      "77 - \n",
      "78 - FizzBuzz\n",
      "79 - \n",
      "80 - Fizz\n",
      "81 - Buzz\n",
      "82 - Fizz\n",
      "83 - \n",
      "84 - FizzBuzz\n",
      "85 - \n",
      "86 - Fizz\n",
      "87 - Buzz\n",
      "88 - Fizz\n",
      "89 - \n",
      "90 - FizzBuzz\n",
      "91 - \n",
      "92 - Fizz\n",
      "93 - Buzz\n",
      "94 - Fizz\n",
      "95 - \n",
      "96 - FizzBuzz\n",
      "97 - \n",
      "98 - Fizz\n",
      "99 - Buzz\n",
      "100 - Fizz\n"
     ]
    }
   ],
   "source": [
    "for number in range(1, 101):\n",
    "     result = f'{number} - '\n",
    "     if number % 2 == 0:\n",
    "          result += 'Fizz'\n",
    "     \n",
    "     if number % 3 == 0:\n",
    "          result += 'Buzz'\n",
    "     \n",
    "     print(result)"
   ]
  },
  {
   "cell_type": "markdown",
   "metadata": {},
   "source": [
    "2. Leiskite vartotojui pasirinkti skaičių, jeigu įvestas skaičius yra daugiau arba lygus 10, einant per skaičius nuo 1 iki pasirinkto skaičiaus, atspausdinkite visus skaičius kurie dalinasi iš 5 su liekana"
   ]
  },
  {
   "cell_type": "code",
   "execution_count": null,
   "metadata": {},
   "outputs": [],
   "source": [
    "# Ctrl + f"
   ]
  },
  {
   "cell_type": "code",
   "execution_count": 19,
   "metadata": {},
   "outputs": [
    {
     "name": "stdout",
     "output_type": "stream",
     "text": [
      "Jusu pasirinktas skaicius - 15, yra tinkamas\n",
      " 1 yra nedalus is 5\n",
      " 2 yra nedalus is 5\n",
      " 3 yra nedalus is 5\n",
      " 4 yra nedalus is 5\n",
      " 6 yra nedalus is 5\n",
      " 7 yra nedalus is 5\n",
      " 8 yra nedalus is 5\n",
      " 9 yra nedalus is 5\n",
      " 11 yra nedalus is 5\n",
      " 12 yra nedalus is 5\n",
      " 13 yra nedalus is 5\n",
      " 14 yra nedalus is 5\n"
     ]
    }
   ],
   "source": [
    "my_end_user_num = int(input('Pasirinkite skaiciu'))\n",
    "if my_end_user_num>=10:\n",
    "    print(f'Jusu pasirinktas skaicius - {my_end_user_num}, yra tinkamas')\n",
    "    for num in range(1, my_end_user_num+1):\n",
    "        if num % 5 != 0:\n",
    "            print(f' {num} yra nedalus is 5')\n",
    "else:\n",
    "    print(f'Jusu pasirinktas skaicius - {my_end_user_num}, yra netinkamas')"
   ]
  },
  {
   "cell_type": "markdown",
   "metadata": {},
   "source": [
    "3. Koks yra sąrašo ilgis sudaryto iš pateiktų sąrašų kombinacijų, jeigu norime rasti visas įmanomas reikšmes? Išrikiuokite sąrašą nuo didžiausios iki mažiausios reikšmės (teks atlikti papildomų veiksmų tam atlikti teisingai, naudoti viena iš 3 narių rikiavimui)\n"
   ]
  },
  {
   "cell_type": "code",
   "execution_count": 28,
   "metadata": {},
   "outputs": [
    {
     "name": "stdout",
     "output_type": "stream",
     "text": [
      "['1', 'labas', 10]\n",
      "['1', 'vakaras', 10]\n",
      "['1', 'kokia grazi diena', 10]\n",
      "['1', 'siandien uz lango', 10]\n",
      "['1', '10 laipsniu silumos', 10]\n",
      "['2', 'labas', 10]\n",
      "['2', 'vakaras', 10]\n",
      "['2', 'kokia grazi diena', 10]\n",
      "['2', 'siandien uz lango', 10]\n",
      "['2', '10 laipsniu silumos', 10]\n",
      "['3', 'labas', 10]\n",
      "['3', 'vakaras', 10]\n",
      "['3', 'kokia grazi diena', 10]\n",
      "['3', 'siandien uz lango', 10]\n",
      "['3', '10 laipsniu silumos', 10]\n",
      "['4', 'labas', 10]\n",
      "['4', 'vakaras', 10]\n",
      "['4', 'kokia grazi diena', 10]\n",
      "['4', 'siandien uz lango', 10]\n",
      "['4', '10 laipsniu silumos', 10]\n",
      "['5', 'labas', 10]\n",
      "['5', 'vakaras', 10]\n",
      "['5', 'kokia grazi diena', 10]\n",
      "['5', 'siandien uz lango', 10]\n",
      "['5', '10 laipsniu silumos', 10]\n",
      "['1', 'labas', 40]\n",
      "['1', 'vakaras', 40]\n",
      "['1', 'kokia grazi diena', 40]\n",
      "['1', 'siandien uz lango', 40]\n",
      "['1', '10 laipsniu silumos', 40]\n",
      "['2', 'labas', 40]\n",
      "['2', 'vakaras', 40]\n",
      "['2', 'kokia grazi diena', 40]\n",
      "['2', 'siandien uz lango', 40]\n",
      "['2', '10 laipsniu silumos', 40]\n",
      "['3', 'labas', 40]\n",
      "['3', 'vakaras', 40]\n",
      "['3', 'kokia grazi diena', 40]\n",
      "['3', 'siandien uz lango', 40]\n",
      "['3', '10 laipsniu silumos', 40]\n",
      "['4', 'labas', 40]\n",
      "['4', 'vakaras', 40]\n",
      "['4', 'kokia grazi diena', 40]\n",
      "['4', 'siandien uz lango', 40]\n",
      "['4', '10 laipsniu silumos', 40]\n",
      "['5', 'labas', 40]\n",
      "['5', 'vakaras', 40]\n",
      "['5', 'kokia grazi diena', 40]\n",
      "['5', 'siandien uz lango', 40]\n",
      "['5', '10 laipsniu silumos', 40]\n",
      "['1', 'labas', 100]\n",
      "['1', 'vakaras', 100]\n",
      "['1', 'kokia grazi diena', 100]\n",
      "['1', 'siandien uz lango', 100]\n",
      "['1', '10 laipsniu silumos', 100]\n",
      "['2', 'labas', 100]\n",
      "['2', 'vakaras', 100]\n",
      "['2', 'kokia grazi diena', 100]\n",
      "['2', 'siandien uz lango', 100]\n",
      "['2', '10 laipsniu silumos', 100]\n",
      "['3', 'labas', 100]\n",
      "['3', 'vakaras', 100]\n",
      "['3', 'kokia grazi diena', 100]\n",
      "['3', 'siandien uz lango', 100]\n",
      "['3', '10 laipsniu silumos', 100]\n",
      "['4', 'labas', 100]\n",
      "['4', 'vakaras', 100]\n",
      "['4', 'kokia grazi diena', 100]\n",
      "['4', 'siandien uz lango', 100]\n",
      "['4', '10 laipsniu silumos', 100]\n",
      "['5', 'labas', 100]\n",
      "['5', 'vakaras', 100]\n",
      "['5', 'kokia grazi diena', 100]\n",
      "['5', 'siandien uz lango', 100]\n",
      "['5', '10 laipsniu silumos', 100]\n",
      "['1', 'labas', 200]\n",
      "['1', 'vakaras', 200]\n",
      "['1', 'kokia grazi diena', 200]\n",
      "['1', 'siandien uz lango', 200]\n",
      "['1', '10 laipsniu silumos', 200]\n",
      "['2', 'labas', 200]\n",
      "['2', 'vakaras', 200]\n",
      "['2', 'kokia grazi diena', 200]\n",
      "['2', 'siandien uz lango', 200]\n",
      "['2', '10 laipsniu silumos', 200]\n",
      "['3', 'labas', 200]\n",
      "['3', 'vakaras', 200]\n",
      "['3', 'kokia grazi diena', 200]\n",
      "['3', 'siandien uz lango', 200]\n",
      "['3', '10 laipsniu silumos', 200]\n",
      "['4', 'labas', 200]\n",
      "['4', 'vakaras', 200]\n",
      "['4', 'kokia grazi diena', 200]\n",
      "['4', 'siandien uz lango', 200]\n",
      "['4', '10 laipsniu silumos', 200]\n",
      "['5', 'labas', 200]\n",
      "['5', 'vakaras', 200]\n",
      "['5', 'kokia grazi diena', 200]\n",
      "['5', 'siandien uz lango', 200]\n",
      "['5', '10 laipsniu silumos', 200]\n"
     ]
    },
    {
     "data": {
      "text/plain": [
       "[None,\n",
       " None,\n",
       " None,\n",
       " None,\n",
       " None,\n",
       " None,\n",
       " None,\n",
       " None,\n",
       " None,\n",
       " None,\n",
       " None,\n",
       " None,\n",
       " None,\n",
       " None,\n",
       " None,\n",
       " None,\n",
       " None,\n",
       " None,\n",
       " None,\n",
       " None,\n",
       " None,\n",
       " None,\n",
       " None,\n",
       " None,\n",
       " None,\n",
       " None,\n",
       " None,\n",
       " None,\n",
       " None,\n",
       " None,\n",
       " None,\n",
       " None,\n",
       " None,\n",
       " None,\n",
       " None,\n",
       " None,\n",
       " None,\n",
       " None,\n",
       " None,\n",
       " None,\n",
       " None,\n",
       " None,\n",
       " None,\n",
       " None,\n",
       " None,\n",
       " None,\n",
       " None,\n",
       " None,\n",
       " None,\n",
       " None,\n",
       " None,\n",
       " None,\n",
       " None,\n",
       " None,\n",
       " None,\n",
       " None,\n",
       " None,\n",
       " None,\n",
       " None,\n",
       " None,\n",
       " None,\n",
       " None,\n",
       " None,\n",
       " None,\n",
       " None,\n",
       " None,\n",
       " None,\n",
       " None,\n",
       " None,\n",
       " None,\n",
       " None,\n",
       " None,\n",
       " None,\n",
       " None,\n",
       " None,\n",
       " None,\n",
       " None,\n",
       " None,\n",
       " None,\n",
       " None,\n",
       " None,\n",
       " None,\n",
       " None,\n",
       " None,\n",
       " None,\n",
       " None,\n",
       " None,\n",
       " None,\n",
       " None,\n",
       " None,\n",
       " None,\n",
       " None,\n",
       " None,\n",
       " None,\n",
       " None,\n",
       " None,\n",
       " None,\n",
       " None,\n",
       " None,\n",
       " None]"
      ]
     },
     "execution_count": 28,
     "metadata": {},
     "output_type": "execute_result"
    }
   ],
   "source": [
    "a = ['1','2','3','4','5']\n",
    "b = ['labas', 'vakaras', 'kokia grazi diena', 'siandien uz lango', '10 laipsniu silumos']\n",
    "c = ['100', '200', 40, 10]\n",
    "\n",
    "c[0] = int(c[0])\n",
    "c[1] = int(c[1])\n",
    "\n",
    "kombinacijos = []\n",
    "for val_1 in a:\n",
    "    for val_2 in b:\n",
    "        for val_3 in c:\n",
    "            kombinacijos.append( [val_1, val_2, val_3] )\n",
    "\n",
    "kombinacijos = sorted(kombinacijos, key=lambda x: x[2])\n",
    "# print(kombinacijos)\n",
    "\n",
    "[print (k) for k in kombinacijos]"
   ]
  },
  {
   "cell_type": "markdown",
   "metadata": {},
   "source": [
    "# Tuple"
   ]
  },
  {
   "cell_type": "code",
   "execution_count": 29,
   "metadata": {},
   "outputs": [],
   "source": [
    "my_tuple = (1, 2, 3, 4, 5, 6, 7, 8, 9, 10)"
   ]
  },
  {
   "cell_type": "code",
   "execution_count": 30,
   "metadata": {},
   "outputs": [
    {
     "name": "stdout",
     "output_type": "stream",
     "text": [
      "(1, 2, 3, 4, 5, 6, 7, 8, 9, 10)\n",
      "<class 'tuple'>\n",
      "10\n"
     ]
    }
   ],
   "source": [
    "print(my_tuple)\n",
    "print(type(my_tuple))\n",
    "print(len(my_tuple))"
   ]
  },
  {
   "cell_type": "code",
   "execution_count": 33,
   "metadata": {},
   "outputs": [
    {
     "ename": "TypeError",
     "evalue": "can only concatenate tuple (not \"int\") to tuple",
     "output_type": "error",
     "traceback": [
      "\u001b[1;31m---------------------------------------------------------------------------\u001b[0m",
      "\u001b[1;31mTypeError\u001b[0m                                 Traceback (most recent call last)",
      "\u001b[1;32mc:\\Users\\Robotux\\Documents\\Python\\230926PYT036VAK\\lesson_5.ipynb Cell 21\u001b[0m line \u001b[0;36m<module>\u001b[1;34m\u001b[0m\n\u001b[1;32m----> <a href='vscode-notebook-cell:/c%3A/Users/Robotux/Documents/Python/230926PYT036VAK/lesson_5.ipynb#X26sZmlsZQ%3D%3D?line=0'>1</a>\u001b[0m my_tuple \u001b[39m+\u001b[39;49m \u001b[39m5\u001b[39;49m\n",
      "\u001b[1;31mTypeError\u001b[0m: can only concatenate tuple (not \"int\") to tuple"
     ]
    }
   ],
   "source": [
    "my_tuple + 5"
   ]
  },
  {
   "cell_type": "code",
   "execution_count": 36,
   "metadata": {},
   "outputs": [
    {
     "name": "stdout",
     "output_type": "stream",
     "text": [
      "(1, 2, 3, 4, 5, 6, 7, 8, 9, 10, 5, 5, 4, 5, 5, 4, 5, 5, 4)\n"
     ]
    },
    {
     "ename": "TypeError",
     "evalue": "'tuple' object does not support item assignment",
     "output_type": "error",
     "traceback": [
      "\u001b[1;31m---------------------------------------------------------------------------\u001b[0m",
      "\u001b[1;31mTypeError\u001b[0m                                 Traceback (most recent call last)",
      "\u001b[1;32mc:\\Users\\Robotux\\Documents\\Python\\230926PYT036VAK\\lesson_5.ipynb Cell 22\u001b[0m line \u001b[0;36m<module>\u001b[1;34m\u001b[0m\n\u001b[0;32m      <a href='vscode-notebook-cell:/c%3A/Users/Robotux/Documents/Python/230926PYT036VAK/lesson_5.ipynb#X25sZmlsZQ%3D%3D?line=0'>1</a>\u001b[0m my_tuple \u001b[39m=\u001b[39m my_tuple \u001b[39m+\u001b[39m (\u001b[39m5\u001b[39m, \u001b[39m5\u001b[39m, \u001b[39m4\u001b[39m)\n\u001b[0;32m      <a href='vscode-notebook-cell:/c%3A/Users/Robotux/Documents/Python/230926PYT036VAK/lesson_5.ipynb#X25sZmlsZQ%3D%3D?line=1'>2</a>\u001b[0m \u001b[39mprint\u001b[39m(my_tuple)\n\u001b[1;32m----> <a href='vscode-notebook-cell:/c%3A/Users/Robotux/Documents/Python/230926PYT036VAK/lesson_5.ipynb#X25sZmlsZQ%3D%3D?line=2'>3</a>\u001b[0m my_tuple[\u001b[39m-\u001b[39m\u001b[39m1\u001b[39m] \u001b[39m=\u001b[39m \u001b[39m100\u001b[39m\n",
      "\u001b[1;31mTypeError\u001b[0m: 'tuple' object does not support item assignment"
     ]
    }
   ],
   "source": [
    "my_tuple = my_tuple + (5, 5, 4)\n",
    "print(my_tuple)\n",
    "# my_tuple[-1] = 100 # negalite perrašyti narių"
   ]
  },
  {
   "cell_type": "code",
   "execution_count": 39,
   "metadata": {},
   "outputs": [
    {
     "name": "stdout",
     "output_type": "stream",
     "text": [
      "5\n",
      "(6, 7, 8, 9, 10)\n"
     ]
    }
   ],
   "source": [
    "print(my_tuple[10])\n",
    "print(my_tuple[5:10])"
   ]
  },
  {
   "cell_type": "code",
   "execution_count": 42,
   "metadata": {},
   "outputs": [
    {
     "name": "stdout",
     "output_type": "stream",
     "text": [
      "(1, 2, 3, 4, 5, 6, 7, 8, 9, 10, 5, 5, 4, 5, 5, 4, 5, 5, 4)\n",
      "7\n",
      "4\n"
     ]
    }
   ],
   "source": [
    "print(my_tuple)\n",
    "print(my_tuple.count(5))\n",
    "print(my_tuple.index(5))"
   ]
  },
  {
   "cell_type": "code",
   "execution_count": 43,
   "metadata": {},
   "outputs": [
    {
     "name": "stdout",
     "output_type": "stream",
     "text": [
      "True\n"
     ]
    }
   ],
   "source": [
    "print (10 in my_tuple)"
   ]
  },
  {
   "cell_type": "code",
   "execution_count": 48,
   "metadata": {},
   "outputs": [
    {
     "name": "stdout",
     "output_type": "stream",
     "text": [
      "4\n",
      "[6, [7, 8]]\n",
      "[7, 8]\n",
      "8\n",
      "8\n"
     ]
    }
   ],
   "source": [
    "my_tuple = (1, 2, ['3', 4, 5], [6, [7, (8)] ] )\n",
    "print (len(my_tuple) )\n",
    "print (my_tuple[3])\n",
    "print (my_tuple[3][1])\n",
    "print (my_tuple[3][1][1])\n",
    "print (my_tuple[-1][-1][-1])"
   ]
  },
  {
   "cell_type": "code",
   "execution_count": 56,
   "metadata": {},
   "outputs": [
    {
     "name": "stdout",
     "output_type": "stream",
     "text": [
      "(1, 5, 7)\n",
      "<class 'tuple'>\n",
      "1 5 7\n"
     ]
    }
   ],
   "source": [
    "this_is_also_tuple = 1,5,7\n",
    "print (this_is_also_tuple)\n",
    "print (type(this_is_also_tuple))\n",
    "\n",
    "a, b, c = 1,5,7\n",
    "print(a,b,c)\n",
    "# a, *b = 1,5,7\n",
    "# print(a,b)"
   ]
  },
  {
   "cell_type": "code",
   "execution_count": 52,
   "metadata": {},
   "outputs": [
    {
     "name": "stdout",
     "output_type": "stream",
     "text": [
      "1\n",
      "<class 'int'>\n",
      "(1,)\n",
      "<class 'tuple'>\n"
     ]
    }
   ],
   "source": [
    "this_is_NOT_tuple = (1)\n",
    "print (this_is_NOT_tuple)\n",
    "print (type(this_is_NOT_tuple))\n",
    "\n",
    "this_is_IS_tuple = (1,)\n",
    "print (this_is_IS_tuple)\n",
    "print (type(this_is_IS_tuple))"
   ]
  },
  {
   "cell_type": "code",
   "execution_count": 57,
   "metadata": {},
   "outputs": [
    {
     "name": "stdout",
     "output_type": "stream",
     "text": [
      "(11, [222, 22], 44, 55)\n"
     ]
    }
   ],
   "source": [
    "# 1 sprendimas\n",
    "tuple2 = (11, [222, 33], 44, 55)\n",
    "list_1 = list(tuple2)\n",
    "\n",
    "list_1[1] = [222, 22]\n",
    "list_1[1][1] = 22\n",
    "\n",
    "tuple2 = tuple(list_1)\n",
    "print(tuple2)\n"
   ]
  },
  {
   "cell_type": "code",
   "execution_count": null,
   "metadata": {},
   "outputs": [],
   "source": [
    "# 2 sprendimas\n",
    "tuple2 = (11, [222, 33], 44, 55)\n",
    "list1 = list(tuple2)\n",
    "list1[1][1] = 22\n",
    "tuple1 = tuple(list1)\n",
    "print(tuple2)"
   ]
  },
  {
   "cell_type": "code",
   "execution_count": 60,
   "metadata": {},
   "outputs": [
    {
     "name": "stdout",
     "output_type": "stream",
     "text": [
      "1849846173248\n",
      "1849846173248\n",
      "(11, [222, 22], 44, 55)\n"
     ]
    }
   ],
   "source": [
    "# 3 sprendimas\n",
    "tuple1 = (11, [222, 33], 44, 55)\n",
    "print(id(tuple1[1]))\n",
    "tuple1[1][1] = 22\n",
    "print(id(tuple1[1]))\n",
    "# tuple1[1] = [222, 22] # error\n",
    "print(tuple1)"
   ]
  },
  {
   "cell_type": "code",
   "execution_count": 61,
   "metadata": {},
   "outputs": [
    {
     "name": "stdout",
     "output_type": "stream",
     "text": [
      "(11, [222, 22], 44, 55)\n"
     ]
    }
   ],
   "source": [
    "tuple1 = (11, [222, 33], 44, 55)\n",
    "tuple1[1].pop()\n",
    "tuple1[1].append(22)\n",
    "print(tuple1)"
   ]
  },
  {
   "cell_type": "code",
   "execution_count": 66,
   "metadata": {},
   "outputs": [
    {
     "name": "stdout",
     "output_type": "stream",
     "text": [
      "(1, 2, 3, 4, 5, 6, 7, 8, 9, 2, 4, 5, 8, 9, 10, 15, 2)\n",
      "[1, 2, 3, 4, 5, 6, 7, 8, 9, 2, 4, 5, 8, 9, 10, 15, 2]\n",
      "[1, 2, 3, 4, 5, 6, 7, 8, 9, 2, 4, 5, 8, 9, 10, 15]\n",
      "[1, 2, 2, 3, 4, 4, 5, 5, 6, 7, 8, 8, 9, 9, 10, 15]\n",
      "(1, 2, 2, 3, 4, 4, 5, 5, 6, 7, 8, 8, 9, 9, 10, 15)\n",
      "2\n",
      "15\n",
      "15\n"
     ]
    }
   ],
   "source": [
    "first_tuple = (1, 2, 3, 4, 5, 6, 7, 8, 9)\n",
    "\n",
    "second_tuple = (2,4,5,8,9,10,15,2)\n",
    "\n",
    "both_tuples = first_tuple + second_tuple\n",
    "print(both_tuples)\n",
    "my_list = list(both_tuples)\n",
    "print(my_list)\n",
    "my_list.pop()\n",
    "print(my_list)\n",
    "my_list = sorted(my_list)\n",
    "print(my_list)\n",
    "both_tuples = tuple(my_list)\n",
    "print(both_tuples)\n",
    "print(both_tuples.count(2))\n",
    "print(max(both_tuples))\n",
    "print(both_tuples[-1])"
   ]
  },
  {
   "cell_type": "markdown",
   "metadata": {},
   "source": [
    "# None a.k.a null, nill"
   ]
  },
  {
   "cell_type": "code",
   "execution_count": 68,
   "metadata": {},
   "outputs": [
    {
     "name": "stdout",
     "output_type": "stream",
     "text": [
      "None\n",
      "<class 'NoneType'>\n"
     ]
    }
   ],
   "source": [
    "niekas = None\n",
    "print(niekas)\n",
    "print(type(niekas))"
   ]
  },
  {
   "cell_type": "code",
   "execution_count": 69,
   "metadata": {},
   "outputs": [
    {
     "name": "stdout",
     "output_type": "stream",
     "text": [
      "None\n",
      "[1, 2, 3, 10, 48, 6849]\n"
     ]
    }
   ],
   "source": [
    "my_list = [1,2,3,48,6849,10]\n",
    "print(my_list.sort())\n",
    "print(my_list)"
   ]
  },
  {
   "cell_type": "code",
   "execution_count": 72,
   "metadata": {},
   "outputs": [
    {
     "name": "stdout",
     "output_type": "stream",
     "text": [
      "\n"
     ]
    }
   ],
   "source": [
    "vardas = ''\n",
    "\n",
    "# ilgas kodas\n",
    "if False:\n",
    "    vardas = input('Iveskite varda: ')\n",
    "print(vardas)"
   ]
  },
  {
   "cell_type": "code",
   "execution_count": 74,
   "metadata": {},
   "outputs": [
    {
     "name": "stdout",
     "output_type": "stream",
     "text": [
      "\n"
     ]
    }
   ],
   "source": [
    "vardas = None\n",
    "\n",
    "# ilgas kodas\n",
    "# if False:\n",
    "if True:\n",
    "    vardas = input('Iveskite varda: ')\n",
    "print(vardas)"
   ]
  },
  {
   "cell_type": "markdown",
   "metadata": {},
   "source": [
    "# List comprehension"
   ]
  },
  {
   "cell_type": "code",
   "execution_count": 77,
   "metadata": {},
   "outputs": [
    {
     "name": "stdout",
     "output_type": "stream",
     "text": [
      "[1, 2, 3, 4, 5, 6, 7, 8, 9, 10, 11, 12, 13, 14, 15, 16, 17, 18, 19, 20]\n",
      "[3, 6, 9, 12, 15, 18]\n"
     ]
    }
   ],
   "source": [
    "numbers = list(range(1,21) )\n",
    "print(numbers)\n",
    "# take numbers divisible by 3\n",
    "divisble_by_3 = []\n",
    "for number in numbers:\n",
    "    if number % 3 == 0:\n",
    "        divisble_by_3.append(number)\n",
    "\n",
    "print(divisble_by_3)"
   ]
  },
  {
   "cell_type": "code",
   "execution_count": 80,
   "metadata": {},
   "outputs": [
    {
     "name": "stdout",
     "output_type": "stream",
     "text": [
      "[3, 6, 9, 12, 15, 18]\n",
      "[9, 36, 81, 144, 225, 324]\n",
      "[2, 4, 6, 8, 10, 12, 14, 16, 18, 20, 22, 24, 26, 28, 30, 32, 34, 36, 38, 40]\n"
     ]
    }
   ],
   "source": [
    "divisble_by_3 = [number for number in numbers if number % 3 == 0]\n",
    "print(divisble_by_3)\n",
    "divisble_by_3_squared = [number**2 for number in numbers if number % 3 == 0]\n",
    "print(divisble_by_3_squared)\n",
    "\n",
    "numbers_multiply_2 = [number * 2 for number in numbers]\n",
    "print(numbers_multiply_2)"
   ]
  },
  {
   "cell_type": "code",
   "execution_count": 81,
   "metadata": {},
   "outputs": [
    {
     "name": "stdout",
     "output_type": "stream",
     "text": [
      "['1 nesidalina is 3', '2 nesidalina is 3', 3, '4 nesidalina is 3', '5 nesidalina is 3', 6, '7 nesidalina is 3', '8 nesidalina is 3', 9, '10 nesidalina is 3', '11 nesidalina is 3', 12, '13 nesidalina is 3', '14 nesidalina is 3', 15, '16 nesidalina is 3', '17 nesidalina is 3', 18, '19 nesidalina is 3', '20 nesidalina is 3']\n"
     ]
    }
   ],
   "source": [
    "dividible_by_3 = [ number if number % 3 ==0 else f'{number} nesidalina is 3' for number in range(1,21) ]\n",
    "print(dividible_by_3)"
   ]
  },
  {
   "cell_type": "markdown",
   "metadata": {},
   "source": [
    "# Dictionary"
   ]
  },
  {
   "cell_type": "markdown",
   "metadata": {},
   "source": [
    "## DICTIONARY IS MUTABLE. BE CAREFULL "
   ]
  },
  {
   "cell_type": "code",
   "execution_count": 83,
   "metadata": {},
   "outputs": [
    {
     "name": "stdout",
     "output_type": "stream",
     "text": [
      "{'name': 'Tomas', 'age': 25, 'city': 'Vilnius'}\n"
     ]
    }
   ],
   "source": [
    "me = {\n",
    "    # key: value\n",
    "    'name': 'Tomas',\n",
    "    'age': 25,\n",
    "    'city': 'Vilnius'\n",
    "}\n",
    "print(me)"
   ]
  },
  {
   "cell_type": "code",
   "execution_count": 85,
   "metadata": {},
   "outputs": [
    {
     "name": "stdout",
     "output_type": "stream",
     "text": [
      "Tomas\n",
      "25\n"
     ]
    }
   ],
   "source": [
    "print(me[ 'name' ])\n",
    "print(me[ 'age' ])"
   ]
  },
  {
   "cell_type": "code",
   "execution_count": 87,
   "metadata": {},
   "outputs": [
    {
     "name": "stdout",
     "output_type": "stream",
     "text": [
      "{'name': 'Tomas', 'age': 25, 'city': 'Vilnius', 'hobbies': ['coding', 'reading', 'gaming']}\n",
      "{'name': 'Tomas', 'age': 27, 'city': 'Vilnius', 'hobbies': ['coding', 'reading', 'gaming']}\n"
     ]
    }
   ],
   "source": [
    "me[ 'hobbies' ] = ['coding', 'reading', 'gaming']\n",
    "print(me)\n",
    "me[ 'age' ] = 27\n",
    "print(me)"
   ]
  },
  {
   "cell_type": "code",
   "execution_count": 95,
   "metadata": {},
   "outputs": [
    {
     "name": "stdout",
     "output_type": "stream",
     "text": [
      "{True: 'tiesa', False: 'melas', None: 'niekas', 2: 'du'}\n",
      "tiesa\n",
      "melas\n",
      "niekas\n",
      "du\n"
     ]
    },
    {
     "ename": "KeyError",
     "evalue": "3",
     "output_type": "error",
     "traceback": [
      "\u001b[1;31m---------------------------------------------------------------------------\u001b[0m",
      "\u001b[1;31mKeyError\u001b[0m                                  Traceback (most recent call last)",
      "\u001b[1;32mc:\\Users\\Robotux\\Documents\\Python\\230926PYT036VAK\\lesson_5.ipynb Cell 47\u001b[0m line \u001b[0;36m<module>\u001b[1;34m\u001b[0m\n\u001b[0;32m     <a href='vscode-notebook-cell:/c%3A/Users/Robotux/Documents/Python/230926PYT036VAK/lesson_5.ipynb#Y104sZmlsZQ%3D%3D?line=9'>10</a>\u001b[0m \u001b[39mprint\u001b[39m(someone[\u001b[39mNone\u001b[39;00m])\n\u001b[0;32m     <a href='vscode-notebook-cell:/c%3A/Users/Robotux/Documents/Python/230926PYT036VAK/lesson_5.ipynb#Y104sZmlsZQ%3D%3D?line=10'>11</a>\u001b[0m \u001b[39mprint\u001b[39m(someone[\u001b[39m2\u001b[39m])\n\u001b[1;32m---> <a href='vscode-notebook-cell:/c%3A/Users/Robotux/Documents/Python/230926PYT036VAK/lesson_5.ipynb#Y104sZmlsZQ%3D%3D?line=11'>12</a>\u001b[0m \u001b[39mprint\u001b[39m(someone[\u001b[39m3\u001b[39;49m])\n",
      "\u001b[1;31mKeyError\u001b[0m: 3"
     ]
    }
   ],
   "source": [
    "someone = {\n",
    "    True: 'tiesa',\n",
    "    False: 'melas',\n",
    "    None: 'niekas',\n",
    "    2: 'du',\n",
    "}\n",
    "print(someone)\n",
    "print(someone[True])\n",
    "print(someone[False])\n",
    "print(someone[None])\n",
    "print(someone[2])\n",
    "# print(someone[3]) # Klaida KeyError - nera tokio rakto"
   ]
  },
  {
   "cell_type": "code",
   "execution_count": 97,
   "metadata": {},
   "outputs": [
    {
     "name": "stdout",
     "output_type": "stream",
     "text": [
      "[{'vardas': 'Jonas', 'amzius': 35}, {'vardas': 'Petras', 'amzius': 50}]\n",
      "{'vardas': 'Jonas', 'amzius': 35}\n",
      "Jonas\n",
      "35\n",
      "{'vardas': 'Petras', 'amzius': 50}\n",
      "Petras\n",
      "50\n"
     ]
    }
   ],
   "source": [
    "zmones = [\n",
    "    {'vardas': 'Jonas', 'amzius': 35},\n",
    "    {'vardas': 'Petras', 'amzius': 50}\n",
    "]\n",
    "print(zmones)\n",
    "for zmogus in zmones:\n",
    "    print(zmogus)\n",
    "    print(zmogus['vardas'])\n",
    "    print(zmogus['amzius'])"
   ]
  },
  {
   "cell_type": "code",
   "execution_count": 98,
   "metadata": {},
   "outputs": [
    {
     "name": "stdout",
     "output_type": "stream",
     "text": [
      "{'name': 'Tomas', 'age': 27, 'city': 'Vilnius', 'hobbies': ['coding', 'reading', 'gaming']}\n",
      "4\n"
     ]
    }
   ],
   "source": [
    "print(me)\n",
    "print(len(me))"
   ]
  },
  {
   "cell_type": "code",
   "execution_count": 100,
   "metadata": {},
   "outputs": [
    {
     "name": "stdout",
     "output_type": "stream",
     "text": [
      "{'name': 'Tomas', 'age': 27, 'city': 'Vilnius', 'hobbies': ['coding', 'reading', 'gaming']}\n",
      "{'name': 'Tomas', 'age': 27, 'city': 'Vilnius'}\n"
     ]
    }
   ],
   "source": [
    "me = {'name': 'Tomas', 'age': 27, 'city': 'Vilnius', 'hobbies': ['coding', 'reading', 'gaming']}\n",
    "print(me)\n",
    "# me.clear() # isvalo dict'a\n",
    "del me['hobbies']\n",
    "print(me)\n"
   ]
  },
  {
   "cell_type": "code",
   "execution_count": 101,
   "metadata": {},
   "outputs": [
    {
     "name": "stdout",
     "output_type": "stream",
     "text": [
      "{'name': 'Tomas', 'age': 27, 'city': 'Vilnius'}\n"
     ]
    }
   ],
   "source": [
    "me = {'name': 'Tomas', 'age': 27, 'city': 'Vilnius', 'hobbies': ['coding', 'reading', 'gaming']}\n",
    "me.pop('hobbies')\n",
    "print(me)"
   ]
  },
  {
   "cell_type": "code",
   "execution_count": 103,
   "metadata": {},
   "outputs": [
    {
     "name": "stdout",
     "output_type": "stream",
     "text": [
      "('hobbies', ['coding', 'reading', 'gaming'])\n",
      "('city', 'Vilnius')\n",
      "{'name': 'Tomas', 'age': 27}\n"
     ]
    }
   ],
   "source": [
    "me = {'name': 'Tomas', 'age': 27, 'city': 'Vilnius', 'hobbies': ['coding', 'reading', 'gaming']}\n",
    "print( me.popitem() )\n",
    "print( me.popitem() )\n",
    "print( me )"
   ]
  },
  {
   "cell_type": "code",
   "execution_count": 108,
   "metadata": {},
   "outputs": [
    {
     "name": "stdout",
     "output_type": "stream",
     "text": [
      "None\n",
      "nerastas\n",
      "0\n",
      "Tomas\n"
     ]
    }
   ],
   "source": [
    "me = {'name': 'Tomas', 'age': 27, 'city': 'Vilnius', 'hobbies': ['coding', 'reading', 'gaming']}\n",
    "# print( me['neegzistuojantis_raktas'] ) # KeyError\n",
    "print( me.get('neegzistuojantis_raktas') ) # No error, returns None\n",
    "print( me.get('neegzistuojantis_raktas', 'nerastas') ) # No error, returns 'nerastas'\n",
    "print( me.get('neegzistuojantis_raktas', 0) ) # No error, returns 0\n",
    "print( me.get('name', 0) ) # No error, returns 0"
   ]
  },
  {
   "cell_type": "code",
   "execution_count": 111,
   "metadata": {},
   "outputs": [
    {
     "name": "stdout",
     "output_type": "stream",
     "text": [
      "{'name': 'Tomas', 'age': 27, 'city': 'Vilnius', 'hobbies': ['coding', 'reading', 'gaming']}\n",
      "{'name': 'Tomas', 'age': 28, 'city': 'Kaunas', 'hobbies': ['coding', 'reading', 'gaming']}\n"
     ]
    }
   ],
   "source": [
    "me = {'name': 'Tomas', 'age': 27, 'city': 'Vilnius', 'hobbies': ['coding', 'reading', 'gaming']}\n",
    "# me['age'] = 29\n",
    "print(me)\n",
    "me.update( {'age': 28, 'city': 'Kaunas',} )\n",
    "print(me)"
   ]
  },
  {
   "cell_type": "code",
   "execution_count": 114,
   "metadata": {},
   "outputs": [
    {
     "name": "stdout",
     "output_type": "stream",
     "text": [
      "key is name and value is Tomas\n",
      "key is age and value is 28\n",
      "key is city and value is Kaunas\n",
      "key is hobbies and value is ['coding', 'reading', 'gaming']\n"
     ]
    }
   ],
   "source": [
    "# for key in me:\n",
    "#     print(key)\n",
    "# same\n",
    "for key in me.keys():\n",
    "    print(f'key is {key} and value is {me[key]}')"
   ]
  },
  {
   "cell_type": "code",
   "execution_count": 115,
   "metadata": {},
   "outputs": [
    {
     "name": "stdout",
     "output_type": "stream",
     "text": [
      "Tomas\n",
      "28\n",
      "Kaunas\n",
      "['coding', 'reading', 'gaming']\n"
     ]
    }
   ],
   "source": [
    "for value in me.values():\n",
    "    print(value)"
   ]
  },
  {
   "cell_type": "code",
   "execution_count": 116,
   "metadata": {},
   "outputs": [
    {
     "name": "stdout",
     "output_type": "stream",
     "text": [
      "key is name and value is Tomas\n",
      "key is age and value is 28\n",
      "key is city and value is Kaunas\n",
      "key is hobbies and value is ['coding', 'reading', 'gaming']\n"
     ]
    }
   ],
   "source": [
    "# for key, value in me.items():\n",
    "for k, v in me.items():\n",
    "    print(f'key is {k} and value is {v}')"
   ]
  },
  {
   "cell_type": "code",
   "execution_count": 118,
   "metadata": {},
   "outputs": [],
   "source": [
    "twitter_post = {\n",
    "  \"created_at\": \"Tue Feb 27 21:11:40 +0000 2018\",\n",
    "  \"id\": 968594506663669800,\n",
    "  \"id_str\": \"968594506663669760\",\n",
    "  \"text\": \"RT @honeydrop_506: 180222 ICN #백현 #BAEKHYUNnn나의 겨울과 너nn#iHeartAwards #BestFanArmy #EXOL @weareoneEXO https://t.co/hg7I3xAlBg\",\n",
    "  \"truncated\": False,\n",
    "  \"in_reply_to_status_id\": None,\n",
    "  \"in_reply_to_status_id_str\": None,\n",
    "  \"in_reply_to_user_id\": None,\n",
    "  \"in_reply_to_user_id_str\": None,\n",
    "  \"in_reply_to_screen_name\": None,\n",
    "  \"user\": {\n",
    "    \"id\": 4448809940,\n",
    "    \"id_str\": \"4448809940\",\n",
    "    \"name\": \"ayah\",\n",
    "    \"screen_name\": \"lovbyun\",\n",
    "    \"location\": \"bbh iu jjh pcy kjd dks\",\n",
    "    \"url\": \"https://curiouscat.me/baekhyun-l\",\n",
    "    \"description\": \"hi hello I love exo\",\n",
    "    \"translator_type\": \"none\",\n",
    "    \"protected\": False,\n",
    "    \"verified\": False,\n",
    "    \"followers_count\": 1142,\n",
    "    \"friends_count\": 125,\n",
    "    \"listed_count\": 20,\n",
    "    \"favourites_count\": 5712,\n",
    "    \"statuses_count\": 4011,\n",
    "    \"created_at\": \"Fri Dec 04 03:44:59 +0000 2015\",\n",
    "    \"utc_offset\": -28800,\n",
    "    \"time_zone\": \"Pacific Time (US & Canada)\",\n",
    "    \"geo_enabled\": False,\n",
    "    \"lang\": \"en\",\n",
    "    \"contributors_enabled\": False,\n",
    "    \"is_translator\": False,\n",
    "    \"profile_background_color\": \"000000\",\n",
    "    \"profile_background_image_url\": \"http://abs.twimg.com/images/themes/theme1/bg.png\",\n",
    "    \"profile_background_image_url_https\": \"https://abs.twimg.com/images/themes/theme1/bg.png\",\n",
    "    \"profile_background_tile\": False,\n",
    "    \"profile_link_color\": \"F58EA8\",\n",
    "    \"profile_sidebar_border_color\": \"000000\",\n",
    "    \"profile_sidebar_fill_color\": \"000000\",\n",
    "    \"profile_text_color\": \"000000\",\n",
    "    \"profile_use_background_image\": False,\n",
    "    \"profile_image_url\": \"http://pbs.twimg.com/profile_images/967130320259526656/0xZ-wxXJ_normal.jpg\",\n",
    "    \"profile_image_url_https\": \"https://pbs.twimg.com/profile_images/967130320259526656/0xZ-wxXJ_normal.jpg\",\n",
    "    \"profile_banner_url\": \"https://pbs.twimg.com/profile_banners/4448809940/1519340670\",\n",
    "    \"default_profile\": False,\n",
    "    \"default_profile_image\": False,\n",
    "    \"following\": None,\n",
    "    \"follow_request_sent\": None,\n",
    "    \"notifications\": None\n",
    "  },\n",
    "}"
   ]
  },
  {
   "cell_type": "code",
   "execution_count": 120,
   "metadata": {},
   "outputs": [
    {
     "name": "stdout",
     "output_type": "stream",
     "text": [
      "125\n"
     ]
    }
   ],
   "source": [
    "# from twitter_post get friends_count\n",
    "print(twitter_post['user']['friends_count'])"
   ]
  },
  {
   "cell_type": "code",
   "execution_count": 124,
   "metadata": {},
   "outputs": [
    {
     "name": "stdout",
     "output_type": "stream",
     "text": [
      "Ford\n",
      "Ford\n",
      "3\n",
      "{'brand': 'Ford', 'model': 'Mustang', 'year': 2022}\n"
     ]
    }
   ],
   "source": [
    "car = {\n",
    "    \"brand\": \"Ford\",\n",
    "    \"model\": \"Mustang\",\n",
    "    \"year\": 1964\n",
    "}\n",
    "print(car['brand'])\n",
    "print(car.get('brand'))\n",
    "\n",
    "print(len(car))\n",
    "car['year'] = 2022\n",
    "print(car)"
   ]
  },
  {
   "cell_type": "code",
   "execution_count": 127,
   "metadata": {},
   "outputs": [
    {
     "name": "stdout",
     "output_type": "stream",
     "text": [
      "{'brand': 'Ford', 'model': 'Mustang', 'year': 2022, 'color': 'red', 'used': True}\n",
      "{'brand': 'Ford', 'model': 'Mustang', 'year': 2022, 'color': 'red', 'used': True}\n"
     ]
    }
   ],
   "source": [
    "car['color'] = 'red'\n",
    "print(car)\n",
    "car['used'] = True\n",
    "print(car)\n",
    "# car.update( {'color': 'red', 'used': True} ) # same"
   ]
  },
  {
   "cell_type": "markdown",
   "metadata": {},
   "source": []
  },
  {
   "cell_type": "code",
   "execution_count": 131,
   "metadata": {},
   "outputs": [
    {
     "name": "stdout",
     "output_type": "stream",
     "text": [
      "{'model': 'Mustang', 'year': 2022, 'color': 'red', 'used': True}\n",
      "{'model': 'Mustang', 'year': None, 'color': 'red', 'used': True}\n"
     ]
    }
   ],
   "source": [
    "# del car['brand']\n",
    "car.pop('brand', None)\n",
    "print(car)\n",
    "car['year'] = None\n",
    "print(car)"
   ]
  },
  {
   "cell_type": "code",
   "execution_count": 133,
   "metadata": {},
   "outputs": [
    {
     "name": "stdout",
     "output_type": "stream",
     "text": [
      "3\n",
      "15\n"
     ]
    }
   ],
   "source": [
    "twitter_post = {\n",
    "  \"created_at\": \"Tue Feb 27 21:11:40 +0000 2018\",\n",
    "  \"in_reply_to_screen_name\": None,\n",
    "  \"user\": {\n",
    "    \"id\": 4448809940,\n",
    "    \"id_str\": \"4448809940\",\n",
    "    \"name\": \"ayah\",\n",
    "    \"screen_name\": \"lovbyun\",\n",
    "    \"location\": \"bbh iu jjh pcy kjd dks\",\n",
    "    \"url\": \"https://curiouscat.me/baekhyun-l\",\n",
    "    \"profile_use_background_image\": False,\n",
    "    \"profile_image_url\": \"http://pbs.twimg.com/profile_images/967130320259526656/0xZ-wxXJ_normal.jpg\",\n",
    "    \"profile_image_url_https\": \"https://pbs.twimg.com/profile_images/967130320259526656/0xZ-wxXJ_normal.jpg\",\n",
    "    \"profile_banner_url\": \"https://pbs.twimg.com/profile_banners/4448809940/1519340670\",\n",
    "    \"default_profile\": False,\n",
    "    \"default_profile_image\": False,\n",
    "    \"following\": None,\n",
    "    \"follow_request_sent\": None,\n",
    "    \"notifications\": None\n",
    "  },\n",
    "}\n",
    "print(len(twitter_post))\n",
    "print(len(twitter_post['user']))"
   ]
  },
  {
   "cell_type": "code",
   "execution_count": null,
   "metadata": {},
   "outputs": [],
   "source": []
  }
 ],
 "metadata": {
  "kernelspec": {
   "display_name": "Python 3",
   "language": "python",
   "name": "python3"
  },
  "language_info": {
   "codemirror_mode": {
    "name": "ipython",
    "version": 3
   },
   "file_extension": ".py",
   "mimetype": "text/x-python",
   "name": "python",
   "nbconvert_exporter": "python",
   "pygments_lexer": "ipython3",
   "version": "3.10.2"
  },
  "orig_nbformat": 4
 },
 "nbformat": 4,
 "nbformat_minor": 2
}
