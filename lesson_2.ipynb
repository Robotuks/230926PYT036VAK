{
 "cells": [
  {
   "cell_type": "code",
   "execution_count": 1,
   "metadata": {},
   "outputs": [
    {
     "name": "stdout",
     "output_type": "stream",
     "text": [
      "I can't go\n",
      "I can't go\n"
     ]
    }
   ],
   "source": [
    "name = \"Darius\"\n",
    "\n",
    "# kabutes\n",
    "# sentence = 'I can't go'\n",
    "# fix 1\n",
    "sentence = \"I can't go\"\n",
    "print(sentence)\n",
    "# fix 2\n",
    "sentence = 'I can\\'t go'\n",
    "print(sentence)\n",
    " \n",
    "# Ctrl + /"
   ]
  },
  {
   "cell_type": "code",
   "execution_count": 2,
   "metadata": {},
   "outputs": [
    {
     "ename": "NameError",
     "evalue": "name 'surname' is not defined",
     "output_type": "error",
     "traceback": [
      "\u001b[1;31m---------------------------------------------------------------------------\u001b[0m",
      "\u001b[1;31mNameError\u001b[0m                                 Traceback (most recent call last)",
      "\u001b[1;32m<ipython-input-2-bca05f06f7cb>\u001b[0m in \u001b[0;36m<module>\u001b[1;34m\u001b[0m\n\u001b[1;32m----> 1\u001b[1;33m \u001b[0mprint\u001b[0m\u001b[1;33m(\u001b[0m\u001b[0msurname\u001b[0m\u001b[1;33m)\u001b[0m\u001b[1;33m\u001b[0m\u001b[1;33m\u001b[0m\u001b[0m\n\u001b[0m",
      "\u001b[1;31mNameError\u001b[0m: name 'surname' is not defined"
     ]
    }
   ],
   "source": [
    "print(surname)"
   ]
  },
  {
   "cell_type": "code",
   "execution_count": null,
   "metadata": {},
   "outputs": [],
   "source": [
    "surname = \"Grigaliunas\""
   ]
  },
  {
   "cell_type": "code",
   "execution_count": null,
   "metadata": {},
   "outputs": [
    {
     "name": "stdout",
     "output_type": "stream",
     "text": [
      "Hello\n"
     ]
    }
   ],
   "source": [
    "# print(my_sentence) # klaida\n",
    "my_sentence =\"Hello\"\n",
    "print(my_sentence)"
   ]
  },
  {
   "cell_type": "code",
   "execution_count": 1,
   "metadata": {},
   "outputs": [
    {
     "name": "stdout",
     "output_type": "stream",
     "text": [
      "6\n"
     ]
    }
   ],
   "source": [
    "from modules.variables import name, number\n",
    "\n",
    "print(number)"
   ]
  },
  {
   "cell_type": "markdown",
   "metadata": {},
   "source": [
    "# Variable names"
   ]
  },
  {
   "cell_type": "code",
   "execution_count": 8,
   "metadata": {},
   "outputs": [],
   "source": [
    "# BAD can't start with number, special symbols\n",
    "# 2nd_number = 10\n",
    "# &numbre =2"
   ]
  },
  {
   "cell_type": "code",
   "execution_count": 3,
   "metadata": {},
   "outputs": [
    {
     "name": "stdout",
     "output_type": "stream",
     "text": [
      "7\n",
      "7\n"
     ]
    }
   ],
   "source": [
    "# BAD don't overwrite functions, reserved names\n",
    "print( len('tekstas') )\n",
    "# len = 10\n",
    "len_2 = 10\n",
    "print( len('tekstas') )"
   ]
  },
  {
   "cell_type": "code",
   "execution_count": 1,
   "metadata": {},
   "outputs": [
    {
     "data": {
      "text/plain": [
       "5"
      ]
     },
     "execution_count": 1,
     "metadata": {},
     "output_type": "execute_result"
    }
   ],
   "source": [
    "len('zodis')"
   ]
  },
  {
   "cell_type": "code",
   "execution_count": 8,
   "metadata": {},
   "outputs": [
    {
     "name": "stdout",
     "output_type": "stream",
     "text": [
      "5\n",
      "10\n"
     ]
    }
   ],
   "source": [
    "MY_CONSTANT = 5\n",
    "print( MY_CONSTANT )\n",
    "\n",
    "# MY_CONSTANT = 10 # works but should not be overwritten \n",
    "print( MY_CONSTANT )"
   ]
  },
  {
   "cell_type": "markdown",
   "metadata": {},
   "source": [
    "Style Guide for Python Code\n",
    "https://peps.python.org/pep-0008 "
   ]
  },
  {
   "cell_type": "code",
   "execution_count": 9,
   "metadata": {},
   "outputs": [
    {
     "data": {
      "text/plain": [
       "5"
      ]
     },
     "execution_count": 9,
     "metadata": {},
     "output_type": "execute_result"
    }
   ],
   "source": [
    "len( 'ilgis' )"
   ]
  },
  {
   "cell_type": "code",
   "execution_count": 15,
   "metadata": {},
   "outputs": [
    {
     "name": "stdout",
     "output_type": "stream",
     "text": [
      "DARIUS\n",
      "darius\n",
      "Darius\n",
      "DARIUS\n"
     ]
    }
   ],
   "source": [
    "name = 'Darius'\n",
    "print( name.upper() )\n",
    "print(name.lower() )\n",
    "print(name)\n",
    "name = name.upper() \n",
    "print(name)"
   ]
  },
  {
   "cell_type": "code",
   "execution_count": 16,
   "metadata": {},
   "outputs": [
    {
     "data": {
      "text/plain": [
       "'darius'"
      ]
     },
     "execution_count": 16,
     "metadata": {},
     "output_type": "execute_result"
    }
   ],
   "source": [
    "name.upper()\n",
    "name.lower()"
   ]
  },
  {
   "cell_type": "code",
   "execution_count": 23,
   "metadata": {},
   "outputs": [
    {
     "name": "stdout",
     "output_type": "stream",
     "text": [
      "today is a rainy Day\n",
      "today is a beautiful Day\n",
      "toduy is u beuutiful Duy\n",
      "tou is a beautiful Day\n"
     ]
    }
   ],
   "source": [
    "text = 'today is a beautiful Day'\n",
    "print (text.replace('beautiful', 'rainy') )\n",
    "print (text)\n",
    "print (text.replace('a', 'u') )\n",
    "print (text.replace('day', 'u') )"
   ]
  },
  {
   "cell_type": "markdown",
   "metadata": {},
   "source": [
    "# String"
   ]
  },
  {
   "cell_type": "markdown",
   "metadata": {},
   "source": [
    "str methods: https://docs.python.org/3/library/stdtypes.html#string-methods "
   ]
  },
  {
   "cell_type": "code",
   "execution_count": 25,
   "metadata": {},
   "outputs": [
    {
     "name": "stdout",
     "output_type": "stream",
     "text": [
      "today is a beautiful Day\n"
     ]
    },
    {
     "data": {
      "text/plain": [
       "'today not a beautiful Day'"
      ]
     },
     "execution_count": 25,
     "metadata": {},
     "output_type": "execute_result"
    }
   ],
   "source": [
    "print(text)\n",
    "text.replace('is', 'not')"
   ]
  },
  {
   "cell_type": "code",
   "execution_count": 37,
   "metadata": {},
   "outputs": [
    {
     "name": "stdout",
     "output_type": "stream",
     "text": [
      "16\n",
      "iful\n",
      "46\n",
      "iful\n"
     ]
    }
   ],
   "source": [
    "text = 'today is a beautiful Day'\n",
    "print( text.find('iful') )\n",
    "print (text[16:20] )\n",
    "text = 'today asdfadssdafasdfasafasdfsdfis not a beautiful Day'\n",
    "print( text.find('iful') )\n",
    "print (text[ text.find('iful'): text.find('iful') + len('iful') ] )\n"
   ]
  },
  {
   "cell_type": "code",
   "execution_count": 43,
   "metadata": {},
   "outputs": [
    {
     "name": "stdout",
     "output_type": "stream",
     "text": [
      "7\n",
      "not\n"
     ]
    }
   ],
   "source": [
    "text = 'today asdfadssdafasdfasdgkfbwasdfaseisafasdfsdfis not a beautiful Day'\n",
    "word_to_find = 'not'\n",
    "# JavaScript - wordToFind\n",
    "print (text.find(word_to_find))\n",
    "print (text[ text.find(word_to_find): text.find(word_to_find) + len(word_to_find) ] )"
   ]
  },
  {
   "cell_type": "code",
   "execution_count": 48,
   "metadata": {},
   "outputs": [
    {
     "name": "stdout",
     "output_type": "stream",
     "text": [
      "Darius Grigaliunas\n",
      "Darius Grigaliunas\n",
      "Darius Grigaliunas\n",
      "Darius Grigaliunas\n"
     ]
    }
   ],
   "source": [
    "name = \"Darius\"\n",
    "surname = 'Grigaliunas'\n",
    "\n",
    "print(name, surname)\n",
    "print(name + ' ' + surname )\n",
    "print('{} {}'.format(name, surname) )\n",
    "print( f'{name} {surname}')"
   ]
  },
  {
   "cell_type": "code",
   "execution_count": 53,
   "metadata": {},
   "outputs": [
    {
     "name": "stdout",
     "output_type": "stream",
     "text": [
      "Python makes me really really happy! o\n",
      "PYTHON MAKES ME REALLY REALLY HAPPY! O\n",
      "PyThOn makes me really really happy! o\n",
      "PyThOn makes me really really happy! O\n"
     ]
    }
   ],
   "source": [
    "text = 'Python makes me really really happy! o'\n",
    "print(text.capitalize())\n",
    "print(text.upper())\n",
    "print(text.replace('Python', 'PyThOn') ) # EOF -End Of File\n",
    "print(text.replace('t', 'T').replace('o', 'O') ) # BAD"
   ]
  },
  {
   "cell_type": "code",
   "execution_count": 57,
   "metadata": {},
   "outputs": [
    {
     "name": "stdout",
     "output_type": "stream",
     "text": [
      "18\n",
      "happy\n",
      "to\n",
      "40\n"
     ]
    }
   ],
   "source": [
    "text = 'Hello World, I am happy to learn Python!'\n",
    "word_to_find = 'happy'\n",
    "\n",
    "print (text.find(word_to_find))\n",
    "print (text[ text.find(word_to_find): text.find(word_to_find) + len(word_to_find) ] )\n",
    "\n",
    "print( text[24:26])\n",
    "\n",
    "print (len(text))"
   ]
  },
  {
   "cell_type": "code",
   "execution_count": 63,
   "metadata": {},
   "outputs": [
    {
     "name": "stdout",
     "output_type": "stream",
     "text": [
      "False\n",
      "False\n",
      "True\n",
      "False\n",
      "45 \n",
      "45\n",
      "True\n"
     ]
    }
   ],
   "source": [
    "print ( 'word'.isdigit() )\n",
    "print ( 'word45'.isdigit() )\n",
    "print ( '45'.isdigit() )\n",
    "print ( '45 '.isdigit() )\n",
    "print ( '45 ' )\n",
    "print ( '45 '.strip() )\n",
    "print ( '45 '.strip().isdigit() )"
   ]
  },
  {
   "cell_type": "code",
   "execution_count": 64,
   "metadata": {},
   "outputs": [
    {
     "name": "stdout",
     "output_type": "stream",
     "text": [
      "   Hello world World      \n",
      "Hello world World\n"
     ]
    }
   ],
   "source": [
    "text = \"   Hello world World      \"\n",
    "print (text)\n",
    "print (text.strip())"
   ]
  },
  {
   "cell_type": "markdown",
   "metadata": {},
   "source": [
    "f-string"
   ]
  },
  {
   "cell_type": "code",
   "execution_count": 73,
   "metadata": {},
   "outputs": [
    {
     "name": "stdout",
     "output_type": "stream",
     "text": [
      "Hi Darius, it is nice to meet you. It is a rainy day\n",
      "Hi Darius, it is nice to meet you. It is a rainy day\n",
      "Hi Darius, it is nice to meet you. It is a rainy day. It is 32 degrees outside\n",
      "Hi Darius, it is nice to meet you. It is a rainy day. It is 32 degrees outside\n",
      "Hi Darius, it is nice to meet you. It is a rainy Grigaliunas day\n"
     ]
    }
   ],
   "source": [
    "name = \"Darius\"\n",
    "surname = 'Grigaliunas'\n",
    "weather = 'rainy'\n",
    "number = 22\n",
    "print('Hi Darius, it is nice to meet you. It is a rainy day')\n",
    "print('Hi ' +   name + ', it is nice to meet you. It is a ' + weather + ' day')\n",
    "\n",
    "print( f'Hi {name}, it is nice to meet you. It is a {weather} day. It is {number + 10} degrees outside' )\n",
    "print( f'Hi {     name   }, it is nice to meet you. It is a {    weather} day. It is {number + 10} degrees outside' )\n",
    "\n",
    "print( 'Hi {}, it is nice to meet you. It is a {} {} day'.format(name, weather, surname) )\n",
    "# print(name, surname)\n",
    "# print(name + ' ' + surname )\n",
    "# print('{} {}'.format(name, surname) )\n",
    "# print( f'{name} {surname}')"
   ]
  },
  {
   "cell_type": "code",
   "execution_count": 77,
   "metadata": {},
   "outputs": [
    {
     "name": "stdout",
     "output_type": "stream",
     "text": [
      "DariusGrigaliunasHello\n",
      "DariusGGGGGGGGGGrigaliunasGGGGGGGGGHello\n"
     ]
    }
   ],
   "source": [
    "print(name,surname,'Hello', sep='')\n",
    "print(name,surname,'Hello', sep='GGGGGGGGG')"
   ]
  },
  {
   "cell_type": "markdown",
   "metadata": {},
   "source": [
    "## string operations"
   ]
  },
  {
   "cell_type": "code",
   "execution_count": 78,
   "metadata": {},
   "outputs": [
    {
     "data": {
      "text/plain": [
       "'hello world'"
      ]
     },
     "execution_count": 78,
     "metadata": {},
     "output_type": "execute_result"
    }
   ],
   "source": [
    "'hello ' + 'world'"
   ]
  },
  {
   "cell_type": "code",
   "execution_count": 79,
   "metadata": {},
   "outputs": [
    {
     "ename": "TypeError",
     "evalue": "unsupported operand type(s) for -: 'str' and 'str'",
     "output_type": "error",
     "traceback": [
      "\u001b[1;31m---------------------------------------------------------------------------\u001b[0m",
      "\u001b[1;31mTypeError\u001b[0m                                 Traceback (most recent call last)",
      "\u001b[1;32m<ipython-input-79-db65be35e485>\u001b[0m in \u001b[0;36m<module>\u001b[1;34m\u001b[0m\n\u001b[1;32m----> 1\u001b[1;33m \u001b[1;34m'Hello'\u001b[0m \u001b[1;33m-\u001b[0m \u001b[1;34m'i'\u001b[0m\u001b[1;33m\u001b[0m\u001b[1;33m\u001b[0m\u001b[0m\n\u001b[0m",
      "\u001b[1;31mTypeError\u001b[0m: unsupported operand type(s) for -: 'str' and 'str'"
     ]
    }
   ],
   "source": [
    "'Hello' - 'l' # doesn't work"
   ]
  },
  {
   "cell_type": "code",
   "execution_count": 80,
   "metadata": {},
   "outputs": [
    {
     "data": {
      "text/plain": [
       "'hi hi hi hi hi hi hi hi hi hi hi hi hi hi hi hi hi hi hi hi hi hi hi hi hi hi hi hi hi hi hi hi hi hi hi hi hi hi hi hi hi hi hi hi hi hi hi hi hi hi hi hi hi hi hi hi hi hi hi hi hi hi hi hi hi hi hi hi hi hi hi hi hi hi hi hi hi hi hi hi hi hi hi hi hi hi hi hi hi hi hi hi hi hi hi hi hi hi hi hi '"
      ]
     },
     "execution_count": 80,
     "metadata": {},
     "output_type": "execute_result"
    }
   ],
   "source": [
    "'hi ' * 100"
   ]
  },
  {
   "cell_type": "code",
   "execution_count": 82,
   "metadata": {},
   "outputs": [
    {
     "ename": "TypeError",
     "evalue": "unsupported operand type(s) for /: 'str' and 'int'",
     "output_type": "error",
     "traceback": [
      "\u001b[1;31m---------------------------------------------------------------------------\u001b[0m",
      "\u001b[1;31mTypeError\u001b[0m                                 Traceback (most recent call last)",
      "\u001b[1;32m<ipython-input-82-698ca6ce71ac>\u001b[0m in \u001b[0;36m<module>\u001b[1;34m\u001b[0m\n\u001b[1;32m----> 1\u001b[1;33m \u001b[1;34m'hi '\u001b[0m \u001b[1;33m/\u001b[0m \u001b[1;36m100\u001b[0m \u001b[1;31m# doesn't work\u001b[0m\u001b[1;33m\u001b[0m\u001b[1;33m\u001b[0m\u001b[0m\n\u001b[0m",
      "\u001b[1;31mTypeError\u001b[0m: unsupported operand type(s) for /: 'str' and 'int'"
     ]
    }
   ],
   "source": [
    "'hi ' / 100 # doesn't work"
   ]
  },
  {
   "cell_type": "code",
   "execution_count": 84,
   "metadata": {},
   "outputs": [
    {
     "name": "stdout",
     "output_type": "stream",
     "text": [
      "<class 'str'>\n",
      "<class 'str'>\n"
     ]
    }
   ],
   "source": [
    "print( type( 'hi' ) )\n",
    "print( type( name ) )"
   ]
  },
  {
   "cell_type": "markdown",
   "metadata": {},
   "source": [
    "# Numbers"
   ]
  },
  {
   "cell_type": "code",
   "execution_count": 85,
   "metadata": {},
   "outputs": [],
   "source": [
    "number = 153\n",
    "\n",
    "float_number = 135.\n",
    "float_number_2 = 135.15334"
   ]
  },
  {
   "cell_type": "code",
   "execution_count": 87,
   "metadata": {},
   "outputs": [
    {
     "name": "stdout",
     "output_type": "stream",
     "text": [
      "<class 'int'>\n",
      "<class 'float'>\n",
      "<class 'float'>\n"
     ]
    }
   ],
   "source": [
    "print( type(number) )\n",
    "print( type(float_number) )\n",
    "print( type(float_number_2) )\n"
   ]
  },
  {
   "cell_type": "markdown",
   "metadata": {},
   "source": [
    "## operations"
   ]
  },
  {
   "cell_type": "code",
   "execution_count": 91,
   "metadata": {},
   "outputs": [
    {
     "name": "stdout",
     "output_type": "stream",
     "text": [
      "288.0 yra <class 'float'>\n",
      "10 - 5 = 5\n",
      "10 * 5 = 50\n",
      "10 / 5 = 2.0\n",
      "13 // 5 = 2\n",
      "18 // 5 = 3\n"
     ]
    }
   ],
   "source": [
    "suma = number + float_number\n",
    "print(f'{suma} yra {type(suma)}')\n",
    "print(f'10 - 5 = {10 - 5}')\n",
    "print(f'10 * 5 = {10 * 5}')\n",
    "print(f'10 / 5 = {10 / 5}')\n",
    "print(f'13 // 5 = {13 // 5}') # sveikoji dalis\n",
    "print(f'18 // 5 = {18 // 5}')"
   ]
  },
  {
   "cell_type": "code",
   "execution_count": 95,
   "metadata": {},
   "outputs": [
    {
     "name": "stdout",
     "output_type": "stream",
     "text": [
      "18 % 5 = 3\n",
      "18 % 5 = 4\n",
      "20 % 5 = 0\n"
     ]
    }
   ],
   "source": [
    "print(f'18 % 5 = {18 % 5}') # liekancioji dalis - modulus\n",
    "print(f'18 % 5 = {19 % 5}') # liekancioji dalis - modulus\n",
    "print(f'20 % 5 = {20 % 5}')"
   ]
  },
  {
   "cell_type": "code",
   "execution_count": 103,
   "metadata": {},
   "outputs": [
    {
     "name": "stdout",
     "output_type": "stream",
     "text": [
      "2 ** 5 = 32\n",
      "3 ** 3 = 27\n",
      "16 ** 0.5 = 4.0\n"
     ]
    }
   ],
   "source": [
    "print(f'2 ** 5 = {2 ** 5}') # kelimas laipsnius\n",
    "print(f'3 ** 3 = {3 ** 3}')\n",
    "print(f'16 ** 0.5 = {16 ** 0.5}')"
   ]
  },
  {
   "cell_type": "code",
   "execution_count": 102,
   "metadata": {},
   "outputs": [
    {
     "data": {
      "text/plain": [
       "4.0"
      ]
     },
     "execution_count": 102,
     "metadata": {},
     "output_type": "execute_result"
    }
   ],
   "source": [
    "import math\n",
    "math.sqrt(16)"
   ]
  },
  {
   "cell_type": "code",
   "execution_count": 109,
   "metadata": {},
   "outputs": [
    {
     "name": "stdout",
     "output_type": "stream",
     "text": [
      "1\n",
      "3\n",
      "2\n",
      "6\n",
      "1.0\n"
     ]
    }
   ],
   "source": [
    "c = 0\n",
    "c = c + 1\n",
    "print(c)\n",
    "c += 1\n",
    "c += 1\n",
    "print(c)\n",
    "c -= 1\n",
    "print(c)\n",
    "c *= 3\n",
    "print(c)\n",
    "c /= 6\n",
    "print(c)"
   ]
  },
  {
   "cell_type": "code",
   "execution_count": 112,
   "metadata": {},
   "outputs": [
    {
     "name": "stdout",
     "output_type": "stream",
     "text": [
      "1000000\n",
      "1000000\n"
     ]
    },
    {
     "data": {
      "text/plain": [
       "True"
      ]
     },
     "execution_count": 112,
     "metadata": {},
     "output_type": "execute_result"
    }
   ],
   "source": [
    "big_number = 1_000_000\n",
    "big_number_2 = 1000000\n",
    "print(big_number)\n",
    "print(big_number_2)\n",
    "big_number_2 == big_number"
   ]
  },
  {
   "cell_type": "code",
   "execution_count": 115,
   "metadata": {},
   "outputs": [
    {
     "name": "stdout",
     "output_type": "stream",
     "text": [
      "10.5 - 3.13 = 7.37\n",
      "10.5 * 3.13 = 32.865\n",
      "10.5 / 3.13 = 3.354632587859425\n",
      "10.5 // 3.13 = 3.0\n",
      "10.5 % 3.13 = 1.1100000000000003\n"
     ]
    }
   ],
   "source": [
    "num_1 = 10.5\n",
    "num_2 = 3.13\n",
    "print(f'{num_1} - {num_2} = {num_1 - num_2}')\n",
    "print(f'{num_1} * {num_2} = {num_1 * num_2}')\n",
    "print(f'{num_1} / {num_2} = {num_1 / num_2}')\n",
    "print(f'{num_1} // {num_2} = {num_1 // num_2}')\n",
    "print(f'{num_1} % {num_2} = {num_1 % num_2}')"
   ]
  },
  {
   "cell_type": "code",
   "execution_count": 117,
   "metadata": {},
   "outputs": [
    {
     "name": "stdout",
     "output_type": "stream",
     "text": [
      "Atstumas iki saules yra 390.625 kartu didesnis nei atstumas iki menulio \n",
      "2560.0\n",
      "106.66666666666667\n",
      "3.5555555555555554\n",
      "0.2962962962962963\n",
      "153600.0\n",
      "9216000.0\n"
     ]
    }
   ],
   "source": [
    "dist_sun = 150_000_000 # same as dist_sun = 150000000\n",
    "dist_moon = 384_000\n",
    "\n",
    "speed_per_hour = 150\n",
    "\n",
    "day = speed_per_hour * 24\n",
    "month = day * 30\n",
    "year = month * 12\n",
    "minutes = speed_per_hour/60\n",
    "seconds = minutes/60\n",
    "\n",
    "print(f'Atstumas iki saules yra {dist_sun / dist_moon} kartu didesnis nei atstumas iki menulio ')\n",
    "\n",
    "print(dist_moon/speed_per_hour)\n",
    "print(dist_moon/day)\n",
    "print(dist_moon/month)\n",
    "print(dist_moon/year)\n",
    "print(dist_moon/minutes)\n",
    "print(dist_moon/seconds)\n"
   ]
  },
  {
   "cell_type": "code",
   "execution_count": 118,
   "metadata": {},
   "outputs": [
    {
     "data": {
      "text/plain": [
       "10220"
      ]
     },
     "execution_count": 118,
     "metadata": {},
     "output_type": "execute_result"
    }
   ],
   "source": [
    "365*28"
   ]
  },
  {
   "cell_type": "code",
   "execution_count": 123,
   "metadata": {},
   "outputs": [
    {
     "name": "stdout",
     "output_type": "stream",
     "text": [
      "1992-09-15 00:00:00\n",
      "2023-09-28 21:07:48.791414\n",
      "11335 days, 21:07:48.791414\n",
      "11335\n"
     ]
    }
   ],
   "source": [
    "from datetime import datetime, date, time\n",
    "\n",
    "birthday = datetime(1992,9,15)\n",
    "print(birthday)\n",
    "now = datetime.now()\n",
    "print(now)\n",
    "time_passed = now - birthday\n",
    "print(time_passed)\n",
    "print(time_passed.days)"
   ]
  },
  {
   "cell_type": "markdown",
   "metadata": {},
   "source": [
    "# Boolean (bool)"
   ]
  },
  {
   "cell_type": "code",
   "execution_count": 124,
   "metadata": {},
   "outputs": [
    {
     "name": "stdout",
     "output_type": "stream",
     "text": [
      "True\n",
      "<class 'bool'>\n"
     ]
    }
   ],
   "source": [
    "bool_1 = True\n",
    "print(bool_1)\n",
    "print(type(bool_1))"
   ]
  },
  {
   "cell_type": "code",
   "execution_count": null,
   "metadata": {},
   "outputs": [],
   "source": [
    "bool_2 = False"
   ]
  },
  {
   "cell_type": "code",
   "execution_count": 133,
   "metadata": {},
   "outputs": [
    {
     "name": "stdout",
     "output_type": "stream",
     "text": [
      "True\n",
      "True\n",
      "True\n",
      "True\n",
      "True\n",
      "False\n"
     ]
    }
   ],
   "source": [
    "number = 1\n",
    "print ( bool(number) )\n",
    "print ( bool(100) )\n",
    "print ( bool(0.1) )\n",
    "print ( bool(0.00000000000000000001) )\n",
    "print ( bool(-2) )\n",
    "print ( bool(0)) \n",
    "# False tik 0"
   ]
  },
  {
   "cell_type": "code",
   "execution_count": 135,
   "metadata": {},
   "outputs": [
    {
     "name": "stdout",
     "output_type": "stream",
     "text": [
      "True\n",
      "True\n",
      "True\n",
      "False\n"
     ]
    }
   ],
   "source": [
    "print ( bool('numbre') )\n",
    "print ( bool(' ') )\n",
    "print ( bool('0') )\n",
    "print ( bool('') )\n",
    "# False tik tuscias tekstas"
   ]
  },
  {
   "cell_type": "code",
   "execution_count": 137,
   "metadata": {},
   "outputs": [
    {
     "name": "stdout",
     "output_type": "stream",
     "text": [
      "False\n",
      "True\n",
      "False\n",
      "True\n",
      "True\n",
      "False\n",
      "nelygus\n",
      "True\n",
      "False\n"
     ]
    }
   ],
   "source": [
    "print (2 > 5)\n",
    "print (2 < 5)\n",
    "print (5 > 5)\n",
    "print (5 >= 5)\n",
    "print (5 == 5)\n",
    "print (10 == 5)\n",
    "\n",
    "print ('nelygus')\n",
    "print(10 != 5)\n",
    "print(10 != 10)"
   ]
  },
  {
   "cell_type": "code",
   "execution_count": 140,
   "metadata": {},
   "outputs": [
    {
     "name": "stdout",
     "output_type": "stream",
     "text": [
      "True\n",
      "True\n",
      "False\n"
     ]
    }
   ],
   "source": [
    "text = 'Hello world'\n",
    "print ( 'w' in text )\n",
    "print ( 'world' in text )\n",
    "print ( 'World' in text )"
   ]
  },
  {
   "cell_type": "code",
   "execution_count": 145,
   "metadata": {},
   "outputs": [
    {
     "name": "stdout",
     "output_type": "stream",
     "text": [
      "True\n",
      "True\n",
      "True\n",
      "False\n"
     ]
    }
   ],
   "source": [
    "print( True == bool(0.9) )\n",
    "print( True == 1 )\n",
    "print( False == 0 )\n",
    "print( False == 0.1 )"
   ]
  },
  {
   "cell_type": "code",
   "execution_count": 147,
   "metadata": {},
   "outputs": [
    {
     "name": "stdout",
     "output_type": "stream",
     "text": [
      "False\n",
      "True\n"
     ]
    }
   ],
   "source": [
    "print( not True )\n",
    "print( not not True )"
   ]
  },
  {
   "cell_type": "code",
   "execution_count": 149,
   "metadata": {},
   "outputs": [
    {
     "name": "stdout",
     "output_type": "stream",
     "text": [
      "and\n",
      "True\n",
      "False\n",
      "or\n",
      "True\n",
      "True\n",
      "False\n"
     ]
    }
   ],
   "source": [
    "print ('and')\n",
    "print (20 > 10 and 5 > 1)\n",
    "print (20 > 10 and 5 > 10)\n",
    "# print (True and False)\n",
    "print ('or')\n",
    "print (20 > 10 or 5 > 1)\n",
    "print (20 > 10 or 5 > 10)\n",
    "print (2 > 10 or 5 > 10)"
   ]
  },
  {
   "cell_type": "markdown",
   "metadata": {},
   "source": [
    "![Alt text](image.png)"
   ]
  },
  {
   "cell_type": "code",
   "execution_count": null,
   "metadata": {},
   "outputs": [],
   "source": []
  }
 ],
 "metadata": {
  "kernelspec": {
   "display_name": "base",
   "language": "python",
   "name": "python3"
  },
  "language_info": {
   "codemirror_mode": {
    "name": "ipython",
    "version": 3
   },
   "file_extension": ".py",
   "mimetype": "text/x-python",
   "name": "python",
   "nbconvert_exporter": "python",
   "pygments_lexer": "ipython3",
   "version": "3.7.1"
  },
  "orig_nbformat": 4
 },
 "nbformat": 4,
 "nbformat_minor": 2
}
