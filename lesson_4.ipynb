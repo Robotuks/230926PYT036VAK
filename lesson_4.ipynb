{
 "cells": [
  {
   "cell_type": "code",
   "execution_count": null,
   "metadata": {},
   "outputs": [],
   "source": []
  },
  {
   "cell_type": "markdown",
   "metadata": {},
   "source": [
    "# Lists"
   ]
  },
  {
   "cell_type": "markdown",
   "metadata": {},
   "source": [
    "## mutable and immutable variables\n",
    "https://medium.com/@meghamohan/mutable-and-immutable-side-of-python-c2145cf72747\n"
   ]
  },
  {
   "cell_type": "code",
   "execution_count": 7,
   "metadata": {},
   "outputs": [
    {
     "name": "stdout",
     "output_type": "stream",
     "text": [
      "before\n",
      "140705386967888\n",
      "140705386967888\n",
      "140705386967888\n",
      "after\n",
      "a 1\n",
      "b 6\n",
      "140705386967888\n",
      "140705386968048\n"
     ]
    }
   ],
   "source": [
    "# immutable\n",
    "a = 1\n",
    "b = a\n",
    "c = 1\n",
    "print('before')\n",
    "print( id(a) )\n",
    "print( id(b) )\n",
    "print( id(c) )\n",
    "b += 5\n",
    "print( 'after')\n",
    "print('a', a)\n",
    "print('b', b)\n",
    "print( id(a) )\n",
    "print( id(b) )"
   ]
  },
  {
   "cell_type": "code",
   "execution_count": 9,
   "metadata": {},
   "outputs": [
    {
     "name": "stdout",
     "output_type": "stream",
     "text": [
      "before\n",
      "2605656589448\n",
      "2605656589448\n",
      "after\n",
      "a [1, 2, 3, 5]\n",
      "b [1, 2, 3, 5]\n",
      "2605656589448\n",
      "2605656589448\n"
     ]
    }
   ],
   "source": [
    "# mutable\n",
    "a = [1,2,3]\n",
    "b = a\n",
    "print('before')\n",
    "print( id(a) )\n",
    "print( id(b) )\n",
    "b.append(5)\n",
    "print( 'after')\n",
    "print('a', a)\n",
    "print('b', b)\n",
    "print( id(a) )\n",
    "print( id(b) )"
   ]
  },
  {
   "cell_type": "code",
   "execution_count": 10,
   "metadata": {},
   "outputs": [
    {
     "name": "stdout",
     "output_type": "stream",
     "text": [
      "before\n",
      "2605667777608\n",
      "2605656235656\n",
      "after\n",
      "a [1, 2, 3]\n",
      "b [1, 2, 3, 5]\n",
      "2605667777608\n",
      "2605656235656\n"
     ]
    }
   ],
   "source": [
    "# fix #1\n",
    "a = [1,2,3]\n",
    "b = a.copy()\n",
    "print('before')\n",
    "print( id(a) )\n",
    "print( id(b) )\n",
    "b.append(5)\n",
    "print( 'after')\n",
    "print('a', a)\n",
    "print('b', b)\n",
    "print( id(a) )\n",
    "print( id(b) )"
   ]
  },
  {
   "cell_type": "code",
   "execution_count": 12,
   "metadata": {},
   "outputs": [
    {
     "name": "stdout",
     "output_type": "stream",
     "text": [
      "before\n",
      "2605657147912\n",
      "2605657147848\n",
      "after\n",
      "a [1, 2, ['a', 'b', 'c', 'd']]\n",
      "b [1, 2, ['a', 'b', 'c', 'd']]\n",
      "2605657147912\n",
      "2605657147848\n",
      "2605657147720\n",
      "2605657147720\n"
     ]
    }
   ],
   "source": [
    "# where fix #1 doesn't work\n",
    "a = [1,2,['a', 'b', 'c'] ]\n",
    "b = a.copy()\n",
    "print('before')\n",
    "print( id(a) )\n",
    "print( id(b) )\n",
    "b[-1].append('d')\n",
    "print( 'after')\n",
    "print('a', a)\n",
    "print('b', b)\n",
    "print( id(a) )\n",
    "print( id(b) )\n",
    "print( id(a[-1]) )\n",
    "print( id(b[-1]) )"
   ]
  },
  {
   "cell_type": "code",
   "execution_count": 13,
   "metadata": {},
   "outputs": [
    {
     "name": "stdout",
     "output_type": "stream",
     "text": [
      "before\n",
      "2605656590600\n",
      "2605657147592\n",
      "after\n",
      "a [1, 2, ['a', 'b', 'c']]\n",
      "b [1, 2, ['a', 'b', 'c', 'd']]\n",
      "2605656590600\n",
      "2605657147592\n",
      "2605667775880\n",
      "2605656589960\n"
     ]
    }
   ],
   "source": [
    "# fix #2 \n",
    "import copy\n",
    "a = [1,2,['a', 'b', 'c'] ]\n",
    "b = copy.deepcopy( a )\n",
    "print('before')\n",
    "print( id(a) )\n",
    "print( id(b) )\n",
    "b[-1].append('d')\n",
    "print( 'after')\n",
    "print('a', a)\n",
    "print('b', b)\n",
    "print( id(a) )\n",
    "print( id(b) )\n",
    "print( id(a[-1]) )\n",
    "print( id(b[-1]) )"
   ]
  },
  {
   "cell_type": "markdown",
   "metadata": {},
   "source": [
    "# Range"
   ]
  },
  {
   "cell_type": "code",
   "execution_count": 21,
   "metadata": {},
   "outputs": [
    {
     "name": "stdout",
     "output_type": "stream",
     "text": [
      "range(0, 10)\n",
      "<class 'range'>\n",
      "[0, 1, 2, 3, 4, 5, 6, 7, 8, 9]\n",
      "[5, 6, 7, 8, 9]\n",
      "[5, 7, 9]\n",
      "[10, 30, 50, 70, 90, 110, 130, 150, 170, 190]\n"
     ]
    }
   ],
   "source": [
    "print( range(10) )\n",
    "print( type( range(10) ) )\n",
    "print( list( range(10) ) )\n",
    "# print( list( range(-5) ) )\n",
    "print( list( range(5, 10) ) )\n",
    "print( list( range(5, 10, 2) ) )\n",
    "print( list( range(10, 200, 20) ) )\n",
    "# range(start=0,stop, step=1)"
   ]
  },
  {
   "cell_type": "markdown",
   "metadata": {},
   "source": [
    "# For loop"
   ]
  },
  {
   "cell_type": "code",
   "execution_count": 34,
   "metadata": {},
   "outputs": [
    {
     "name": "stdout",
     "output_type": "stream",
     "text": [
      "Vilnius yra nuostabus miestas!\n",
      "vieno ciklo pabaiga\n",
      "Kaunas yra nuostabus miestas!\n",
      "vieno ciklo pabaiga\n",
      "Klaipeda yra nuostabus miestas!\n",
      "vieno ciklo pabaiga\n",
      "Siauliai yra nuostabus miestas!\n",
      "vieno ciklo pabaiga\n",
      "pabaiga\n"
     ]
    }
   ],
   "source": [
    "cities = [\n",
    "    'Vilnius',\n",
    "    'Kaunas',\n",
    "    'Klaipeda',\n",
    "    'Siauliai'\n",
    "]\n",
    "\n",
    "# for <any_name> in <list/sequence>:\n",
    "for city in cities:\n",
    "    print (f'{city} yra nuostabus miestas!')\n",
    "    print(\"vieno ciklo pabaiga\")\n",
    "\n",
    "print('pabaiga')\n",
    "    # print(\"klaida\")"
   ]
  },
  {
   "cell_type": "code",
   "execution_count": 37,
   "metadata": {},
   "outputs": [
    {
     "name": "stdout",
     "output_type": "stream",
     "text": [
      "Vilnius yra nuostabus miestas!\n",
      "['Vilnius', 'Kaunas', 'Klaipeda', 'Siauliai']\n",
      "vieno ciklo pabaiga\n",
      "Kaunas yra nuostabus miestas!\n",
      "['Vilnius', 'Kaunas', 'Klaipeda', 'Siauliai']\n",
      "vieno ciklo pabaiga\n",
      "Klaipeda yra nuostabus miestas!\n",
      "['Vilnius', 'Kaunas', 'Klaipeda', 'Siauliai']\n",
      "vieno ciklo pabaiga\n",
      "Siauliai yra nuostabus miestas!\n",
      "['Vilnius', 'Kaunas', 'Klaipeda', 'Siauliai']\n",
      "vieno ciklo pabaiga\n"
     ]
    }
   ],
   "source": [
    "for x in cities:\n",
    "    print (f'{x} yra nuostabus miestas!')\n",
    "    print(\"vieno ciklo pabaiga\")\n"
   ]
  },
  {
   "cell_type": "code",
   "execution_count": 39,
   "metadata": {},
   "outputs": [
    {
     "name": "stdout",
     "output_type": "stream",
     "text": [
      "11 ^ 2 = 121\n",
      "14 ^ 2 = 196\n",
      "17 ^ 2 = 289\n",
      "20 ^ 2 = 400\n",
      "23 ^ 2 = 529\n",
      "26 ^ 2 = 676\n",
      "29 ^ 2 = 841\n",
      "32 ^ 2 = 1024\n"
     ]
    }
   ],
   "source": [
    "for number in range(11,34,3):\n",
    "    print(f\"{number} ^ 2 =\",  number ** 2 )"
   ]
  },
  {
   "cell_type": "code",
   "execution_count": 40,
   "metadata": {},
   "outputs": [
    {
     "name": "stdout",
     "output_type": "stream",
     "text": [
      "[0, 1, 2, 3]\n"
     ]
    }
   ],
   "source": [
    "print(list(range(4)))"
   ]
  },
  {
   "cell_type": "code",
   "execution_count": 42,
   "metadata": {},
   "outputs": [
    {
     "name": "stdout",
     "output_type": "stream",
     "text": [
      "Vilnius yra nuostabus miestas!\n",
      "vieno ciklo pabaiga\n",
      "Kaunas yra nuostabus miestas!\n",
      "vieno ciklo pabaiga\n",
      "Klaipeda yra nuostabus miestas!\n",
      "vieno ciklo pabaiga\n",
      "Siauliai yra nuostabus miestas!\n",
      "vieno ciklo pabaiga\n"
     ]
    }
   ],
   "source": [
    "# ciklas per indeksus\n",
    "# range( len(cities) ) = range( 4 )\n",
    "# i/idx = index\n",
    "for idx in range( len(cities) ):\n",
    "    print (f'{cities[idx]} yra nuostabus miestas!')\n",
    "    print(\"vieno ciklo pabaiga\")"
   ]
  },
  {
   "cell_type": "code",
   "execution_count": 45,
   "metadata": {},
   "outputs": [
    {
     "name": "stdout",
     "output_type": "stream",
     "text": [
      "Vilnius yra nuostabus miestas! Jo indeksas yra 0\n",
      "vieno ciklo pabaiga\n",
      "Kaunas yra nuostabus miestas! Jo indeksas yra 1\n",
      "vieno ciklo pabaiga\n",
      "Klaipeda yra nuostabus miestas! Jo indeksas yra 2\n",
      "vieno ciklo pabaiga\n",
      "Siauliai yra nuostabus miestas! Jo indeksas yra 3\n",
      "vieno ciklo pabaiga\n"
     ]
    }
   ],
   "source": [
    "# Better way\n",
    "for idx, city in enumerate( cities ):\n",
    "    print (f'{city} yra nuostabus miestas! Jo indeksas yra {idx}' )\n",
    "    print(\"vieno ciklo pabaiga\")"
   ]
  },
  {
   "cell_type": "code",
   "execution_count": 47,
   "metadata": {},
   "outputs": [
    {
     "name": "stdout",
     "output_type": "stream",
     "text": [
      "1\n",
      "4\n",
      "9\n",
      "16\n",
      "25\n",
      "36\n",
      "49\n",
      "64\n",
      "81\n",
      "100\n"
     ]
    }
   ],
   "source": [
    "for skaicius in range(1, 11):\n",
    "    print(skaicius)"
   ]
  },
  {
   "cell_type": "code",
   "execution_count": 49,
   "metadata": {},
   "outputs": [
    {
     "name": "stdout",
     "output_type": "stream",
     "text": [
      "skaicius 1, o suma 1\n",
      "skaicius 2, o suma 3\n",
      "skaicius 3, o suma 6\n",
      "skaicius 4, o suma 10\n",
      "skaicius 5, o suma 15\n",
      "skaicius 6, o suma 21\n",
      "skaicius 7, o suma 28\n",
      "skaicius 8, o suma 36\n",
      "skaicius 9, o suma 45\n",
      "skaicius 10, o suma 55\n",
      "skaicius 11, o suma 66\n",
      "skaicius 12, o suma 78\n",
      "skaicius 13, o suma 91\n",
      "skaicius 14, o suma 105\n",
      "skaicius 15, o suma 120\n",
      "skaicius 16, o suma 136\n",
      "skaicius 17, o suma 153\n",
      "skaicius 18, o suma 171\n",
      "skaicius 19, o suma 190\n",
      "skaicius 20, o suma 210\n",
      "skaicius 21, o suma 231\n",
      "skaicius 22, o suma 253\n",
      "skaicius 23, o suma 276\n",
      "skaicius 24, o suma 300\n",
      "skaicius 25, o suma 325\n",
      "skaicius 26, o suma 351\n",
      "skaicius 27, o suma 378\n",
      "skaicius 28, o suma 406\n",
      "skaicius 29, o suma 435\n",
      "skaicius 30, o suma 465\n",
      "skaicius 31, o suma 496\n",
      "skaicius 32, o suma 528\n",
      "skaicius 33, o suma 561\n",
      "skaicius 34, o suma 595\n",
      "skaicius 35, o suma 630\n",
      "skaicius 36, o suma 666\n",
      "skaicius 37, o suma 703\n",
      "skaicius 38, o suma 741\n",
      "skaicius 39, o suma 780\n",
      "skaicius 40, o suma 820\n",
      "skaicius 41, o suma 861\n",
      "skaicius 42, o suma 903\n",
      "skaicius 43, o suma 946\n",
      "skaicius 44, o suma 990\n",
      "skaicius 45, o suma 1035\n",
      "skaicius 46, o suma 1081\n",
      "skaicius 47, o suma 1128\n",
      "skaicius 48, o suma 1176\n",
      "skaicius 49, o suma 1225\n",
      "skaicius 50, o suma 1275\n",
      "1275\n"
     ]
    }
   ],
   "source": [
    "suma = 0\n",
    "for skaicius in range(1, 51):\n",
    "    suma += skaicius\n",
    "    # suma = suma + skaicius # tas pats\n",
    "    print(f'skaicius {skaicius}, o suma {suma}')\n",
    "print(suma)"
   ]
  },
  {
   "cell_type": "code",
   "execution_count": 54,
   "metadata": {},
   "outputs": [
    {
     "name": "stdout",
     "output_type": "stream",
     "text": [
      "7\n",
      "14\n",
      "21\n",
      "28\n",
      "35\n",
      "42\n",
      "49\n",
      "56\n",
      "63\n",
      "70\n"
     ]
    }
   ],
   "source": [
    "str_number = input(\"enter a number\")\n",
    "# print(str_number)\n",
    "# print(type(str_number))\n",
    "number = int(str_number)\n",
    "\n",
    "for i in range(1, 11):\n",
    "    print( i * number )"
   ]
  },
  {
   "cell_type": "code",
   "execution_count": 62,
   "metadata": {},
   "outputs": [
    {
     "name": "stdout",
     "output_type": "stream",
     "text": [
      "[['Pirmadienis', 10], ['Pirmadienis', 11], ['Pirmadienis', 12], ['Pirmadienis', 13], ['Pirmadienis', 14], ['Pirmadienis', 15], ['Pirmadienis', 16], ['Pirmadienis', 17], ['Pirmadienis', 18], ['Pirmadienis', 19], ['Antradienis', 10], ['Antradienis', 11], ['Antradienis', 12], ['Antradienis', 13], ['Antradienis', 14], ['Antradienis', 15], ['Antradienis', 16], ['Antradienis', 17], ['Antradienis', 18], ['Antradienis', 19], ['Treciadienis', 10], ['Treciadienis', 11], ['Treciadienis', 12], ['Treciadienis', 13], ['Treciadienis', 14], ['Treciadienis', 15], ['Treciadienis', 16], ['Treciadienis', 17], ['Treciadienis', 18], ['Treciadienis', 19], ['Ketvirtadienis', 10], ['Ketvirtadienis', 11], ['Ketvirtadienis', 12], ['Ketvirtadienis', 13], ['Ketvirtadienis', 14], ['Ketvirtadienis', 15], ['Ketvirtadienis', 16], ['Ketvirtadienis', 17], ['Ketvirtadienis', 18], ['Ketvirtadienis', 19], ['Penktadienis', 10], ['Penktadienis', 11], ['Penktadienis', 12], ['Penktadienis', 13], ['Penktadienis', 14], ['Penktadienis', 15], ['Penktadienis', 16], ['Penktadienis', 17], ['Penktadienis', 18], ['Penktadienis', 19], ['Sestadienis', 10], ['Sestadienis', 11], ['Sestadienis', 12], ['Sestadienis', 13], ['Sestadienis', 14], ['Sestadienis', 15], ['Sestadienis', 16], ['Sestadienis', 17], ['Sestadienis', 18], ['Sestadienis', 19], ['Sekmadienis', 10], ['Sekmadienis', 11], ['Sekmadienis', 12], ['Sekmadienis', 13], ['Sekmadienis', 14], ['Sekmadienis', 15], ['Sekmadienis', 16], ['Sekmadienis', 17], ['Sekmadienis', 18], ['Sekmadienis', 19]]\n",
      "['Pirmadienis', 15]\n"
     ]
    }
   ],
   "source": [
    "dienos = ['Pirmadienis', 'Antradienis', 'Treciadienis','Ketvirtadienis', 'Penktadienis', 'Sestadienis' , 'Sekmadienis']\n",
    "valandos = [10, 11, 12, 13, 14, 15, 16, 17, 18, 19]\n",
    "\n",
    "kombinacijos = []\n",
    "\n",
    "for diena in dienos:\n",
    "    # print(diena)\n",
    "    for valanda in valandos:\n",
    "        # print(valanda)\n",
    "        # print(diena, valanda)\n",
    "        kombinacijos.append( [diena, valanda] )\n",
    "        # print('antrojo ciklo pabaiga')\n",
    "    # print('pirmojo ciklo pabaiga')\n",
    "\n",
    "\n",
    "print(kombinacijos)\n",
    "print(kombinacijos[5])"
   ]
  },
  {
   "cell_type": "markdown",
   "metadata": {},
   "source": [
    "# If statements"
   ]
  },
  {
   "cell_type": "code",
   "execution_count": 66,
   "metadata": {},
   "outputs": [
    {
     "name": "stdout",
     "output_type": "stream",
     "text": [
      "True\n",
      "Yra daugiau metu nei 18\n",
      "pabaiga\n"
     ]
    }
   ],
   "source": [
    "age = 35\n",
    "\n",
    "print( age >= 18 )\n",
    "if age >= 18:\n",
    "    print('Yra daugiau metu nei 18')\n",
    "\n",
    "print('pabaiga')"
   ]
  },
  {
   "cell_type": "code",
   "execution_count": 68,
   "metadata": {},
   "outputs": [
    {
     "name": "stdout",
     "output_type": "stream",
     "text": [
      "False\n",
      "Yra nepilnametis\n",
      "pabaiga\n"
     ]
    }
   ],
   "source": [
    "age = 15\n",
    "\n",
    "print( age >= 18 )\n",
    "if age >= 18:\n",
    "    print('Yra daugiau metu nei 18')\n",
    "else:\n",
    "    print('Yra nepilnametis')\n",
    "\n",
    "print('pabaiga')"
   ]
  },
  {
   "cell_type": "code",
   "execution_count": 71,
   "metadata": {},
   "outputs": [
    {
     "name": "stdout",
     "output_type": "stream",
     "text": [
      "amzius yra tarp 30 ir 65 metu\n",
      "pabaiga\n"
     ]
    }
   ],
   "source": [
    "age = 50\n",
    "\n",
    "# elif = else if\n",
    "if age >= 65:\n",
    "    print('Yra daugiau metu nei 65')\n",
    "elif age >= 30:\n",
    "    print(\"amzius yra tarp 30 ir 65 metu\")\n",
    "else:\n",
    "    print('Yra nepilnametis')\n",
    "\n",
    "print('pabaiga')"
   ]
  },
  {
   "cell_type": "code",
   "execution_count": 76,
   "metadata": {},
   "outputs": [
    {
     "name": "stdout",
     "output_type": "stream",
     "text": [
      "Yra daugiau metu nei 65\n",
      "amzius yra tarp 30 ir 65 metu\n"
     ]
    }
   ],
   "source": [
    "age = 70\n",
    "if age >= 65:\n",
    "    print('Yra daugiau metu nei 65')\n",
    "if age >= 30:\n",
    "    print(\"amzius yra tarp 30 ir 65 metu\")"
   ]
  },
  {
   "cell_type": "code",
   "execution_count": 81,
   "metadata": {},
   "outputs": [
    {
     "name": "stdout",
     "output_type": "stream",
     "text": [
      "Yra daugiau metu nei 60\n",
      "amzius yra tarp 30 ir 65 metu\n"
     ]
    }
   ],
   "source": [
    "age = 63\n",
    "\n",
    "if age >= 60:\n",
    "    print('Yra daugiau metu nei 60')\n",
    "if age >= 30 and age <65:\n",
    "    print(\"amzius yra tarp 30 ir 65 metu\")\n",
    "if age < 18:\n",
    "    print('Yra nepilnametis')\n"
   ]
  },
  {
   "cell_type": "code",
   "execution_count": 83,
   "metadata": {},
   "outputs": [
    {
     "data": {
      "text/plain": [
       "1"
      ]
     },
     "execution_count": 83,
     "metadata": {},
     "output_type": "execute_result"
    }
   ],
   "source": [
    "7 % 3"
   ]
  },
  {
   "cell_type": "code",
   "execution_count": 84,
   "metadata": {},
   "outputs": [
    {
     "name": "stdout",
     "output_type": "stream",
     "text": [
      "3 - dalinasi\n",
      "6 - dalinasi\n",
      "9 - dalinasi\n",
      "12 - dalinasi\n",
      "15 - dalinasi\n",
      "18 - dalinasi\n"
     ]
    }
   ],
   "source": [
    "for num in range(1,21):\n",
    "    if num % 3 == 0:\n",
    "        print(f'{num} - dalinasi')\n",
    "        "
   ]
  },
  {
   "cell_type": "code",
   "execution_count": 87,
   "metadata": {},
   "outputs": [
    {
     "name": "stdout",
     "output_type": "stream",
     "text": [
      "skaicius 2, tarpine suma: 2\n",
      "skaicius 4, tarpine suma: 6\n",
      "skaicius 6, tarpine suma: 12\n",
      "skaicius 8, tarpine suma: 20\n",
      "skaicius 10, tarpine suma: 30\n",
      "skaicius 12, tarpine suma: 42\n",
      "skaicius 14, tarpine suma: 56\n",
      "skaicius 16, tarpine suma: 72\n",
      "skaicius 18, tarpine suma: 90\n",
      "skaicius 20, tarpine suma: 110\n",
      "skaicius 22, tarpine suma: 132\n",
      "skaicius 24, tarpine suma: 156\n",
      "skaicius 26, tarpine suma: 182\n",
      "skaicius 28, tarpine suma: 210\n",
      "skaicius 30, tarpine suma: 240\n",
      "skaicius 32, tarpine suma: 272\n",
      "skaicius 34, tarpine suma: 306\n",
      "skaicius 36, tarpine suma: 342\n",
      "skaicius 38, tarpine suma: 380\n",
      "skaicius 40, tarpine suma: 420\n",
      "skaicius 42, tarpine suma: 462\n",
      "skaicius 44, tarpine suma: 506\n",
      "skaicius 46, tarpine suma: 552\n",
      "skaicius 48, tarpine suma: 600\n",
      "skaicius 50, tarpine suma: 650\n",
      "650\n"
     ]
    }
   ],
   "source": [
    "suma = 0\n",
    "\n",
    "for num in range(1,51):\n",
    "    if (suma + num) % 2 == 0:\n",
    "        suma += num \n",
    "        print(f'skaicius {num}, tarpine suma: {suma}')\n",
    "\n",
    "print(suma)"
   ]
  },
  {
   "cell_type": "code",
   "execution_count": 91,
   "metadata": {},
   "outputs": [
    {
     "name": "stdout",
     "output_type": "stream",
     "text": [
      "Skaicius 10 pakeltas kvadratu yra lyginis\n"
     ]
    }
   ],
   "source": [
    "user_number = int( input(\"enter a number\") )\n",
    "\n",
    "if (user_number ** 2) % 2 != 0:\n",
    "    for num in range(1,11):\n",
    "        print(f'{num} * {user_number} = {num * user_number}')\n",
    "else:\n",
    "    print(f'Skaicius {user_number} pakeltas kvadratu yra lyginis')"
   ]
  },
  {
   "cell_type": "code",
   "execution_count": 95,
   "metadata": {},
   "outputs": [
    {
     "name": "stdout",
     "output_type": "stream",
     "text": [
      "[['Pirmadienis', 12], ['Pirmadienis', 13], ['Pirmadienis', 14], ['Pirmadienis', 15], ['Pirmadienis', 16], ['Pirmadienis', 17], ['Treciadienis', 12], ['Treciadienis', 13], ['Treciadienis', 14], ['Treciadienis', 15], ['Treciadienis', 16], ['Treciadienis', 17]]\n"
     ]
    }
   ],
   "source": [
    "dienos = ['Pirmadienis', 'Antradienis', 'Treciadienis','Ketvirtadienis', 'Penktadienis', 'Sestadienis' , 'Sekmadienis']\n",
    "valandos = [10, 11, 12, 13, 14, 15, 16, 17, 18, 19]\n",
    "\n",
    "kombinacijos = []\n",
    "\n",
    "for diena in dienos:\n",
    "    # print(diena)\n",
    "    if diena == 'Pirmadienis' or diena == 'Treciadienis':\n",
    "        for valanda in valandos:\n",
    "            if valanda >= 12 and valanda <= 17:\n",
    "                kombinacijos.append( [diena, valanda] )\n",
    "                # print('antrojo ciklo pabaiga')\n",
    "    # print('pirmojo ciklo pabaiga')\n",
    "\n",
    "print(kombinacijos)"
   ]
  },
  {
   "cell_type": "code",
   "execution_count": 97,
   "metadata": {},
   "outputs": [
    {
     "name": "stdout",
     "output_type": "stream",
     "text": [
      "[['Pirmadienis', 12], ['Pirmadienis', 13], ['Pirmadienis', 14], ['Pirmadienis', 15], ['Pirmadienis', 16], ['Pirmadienis', 17], ['Treciadienis', 12], ['Treciadienis', 13], ['Treciadienis', 14], ['Treciadienis', 15], ['Treciadienis', 16], ['Treciadienis', 17], ['Penktadienis', 12], ['Penktadienis', 13], ['Penktadienis', 14], ['Penktadienis', 15], ['Penktadienis', 16], ['Penktadienis', 17]]\n"
     ]
    }
   ],
   "source": [
    "dienos = ['Pirmadienis', 'Antradienis', 'Treciadienis','Ketvirtadienis', 'Penktadienis', 'Sestadienis' , 'Sekmadienis']\n",
    "valandos = [10, 11, 12, 13, 14, 15, 16, 17, 18, 19]\n",
    "\n",
    "kombinacijos = []\n",
    "\n",
    "tinkamos_dienos = ['Pirmadienis', 'Treciadienis', 'Penktadienis']\n",
    "tinkamos_valandos = list(range(12, 18))\n",
    "\n",
    "for diena in dienos:\n",
    "    # print(diena)\n",
    "    if diena in tinkamos_dienos:\n",
    "        for valanda in valandos:\n",
    "            if valanda in tinkamos_valandos:\n",
    "                kombinacijos.append( [diena, valanda] )\n",
    "                # print('antrojo ciklo pabaiga')\n",
    "    # print('pirmojo ciklo pabaiga')\n",
    "\n",
    "print(kombinacijos)"
   ]
  },
  {
   "cell_type": "code",
   "execution_count": null,
   "metadata": {},
   "outputs": [],
   "source": []
  }
 ],
 "metadata": {
  "kernelspec": {
   "display_name": "base",
   "language": "python",
   "name": "python3"
  },
  "language_info": {
   "codemirror_mode": {
    "name": "ipython",
    "version": 3
   },
   "file_extension": ".py",
   "mimetype": "text/x-python",
   "name": "python",
   "nbconvert_exporter": "python",
   "pygments_lexer": "ipython3",
   "version": "3.7.1"
  },
  "orig_nbformat": 4
 },
 "nbformat": 4,
 "nbformat_minor": 2
}
