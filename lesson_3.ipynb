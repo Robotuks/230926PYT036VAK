{
 "cells": [
  {
   "cell_type": "markdown",
   "metadata": {},
   "source": [
    "# Papildomos uzduotis 1"
   ]
  },
  {
   "cell_type": "markdown",
   "metadata": {},
   "source": [
    "1. Susikurkite šiuos kintamuosius, saugančius informaciją apie gyvūną: pavadinimas, amžius, kailio spalva, svoris. Išveskite šiuos duomenis gražiai suformatuotus vienoje eilutėje, sakinio forma. Pavyzdžiui:\n",
    "   \n",
    "   \"Gyvūnas - šuo (2 m.) turi rudą kailio spalvą ir sveria 1.4 kg.\" "
   ]
  },
  {
   "cell_type": "code",
   "execution_count": 1,
   "metadata": {},
   "outputs": [
    {
     "name": "stdout",
     "output_type": "stream",
     "text": [
      "Gyvūnas - šuo (2 m.) turi ruda kailio spalvą ir sveria 1.5 kg\n"
     ]
    }
   ],
   "source": [
    "pavadinimas = 'šuo'\n",
    "amzius = 2\n",
    "# amzius = \"2 m.\" # praktikoje nenaudojama\n",
    "kailio_spalva = 'ruda'\n",
    "svoris = 1.5\n",
    "\n",
    "print(f'Gyvūnas - {pavadinimas} ({amzius} m.) turi {kailio_spalva} kailio spalvą ir sveria {svoris} kg')"
   ]
  },
  {
   "cell_type": "markdown",
   "metadata": {},
   "source": [
    "2. Apverskite žodį \"desserts\". Galima naudoti Slicing arba String metodą."
   ]
  },
  {
   "cell_type": "code",
   "execution_count": 6,
   "metadata": {},
   "outputs": [
    {
     "name": "stdout",
     "output_type": "stream",
     "text": [
      "stressed\n"
     ]
    }
   ],
   "source": [
    "word= \"desserts\"\n",
    "print(word[::-1])\n"
   ]
  },
  {
   "cell_type": "markdown",
   "metadata": {},
   "source": [
    "3. Patikrinti ar kintamojo 'needle' vertė yra dalis 'haystack' kintamojo vertės. Gražinti True arba False."
   ]
  },
  {
   "cell_type": "code",
   "execution_count": 10,
   "metadata": {},
   "outputs": [
    {
     "data": {
      "text/plain": [
       "'the racecar is fast, but can it outrun a palindrome?'"
      ]
     },
     "execution_count": 10,
     "metadata": {},
     "output_type": "execute_result"
    }
   ],
   "source": [
    "\"The Racecar is fast, but can it outrun a palindrome?\".lower()"
   ]
  },
  {
   "cell_type": "code",
   "execution_count": 28,
   "metadata": {},
   "outputs": [
    {
     "name": "stdout",
     "output_type": "stream",
     "text": [
      "False\n",
      "True\n",
      "True\n",
      "True\n",
      "last\n",
      "False\n",
      "end\n"
     ]
    }
   ],
   "source": [
    "needle =\"racecar\"\n",
    "# haystack = \"The racecar is fast, but can it outrun a palindrome?\"\n",
    "haystack = \"The Racecar is fast, but can it outrun a palindrome?\" # case sensitive\n",
    "\n",
    "print(needle in haystack)\n",
    "print(needle in haystack or needle.capitalize() in haystack) # case sensitive\n",
    "\n",
    "# in practice\n",
    "print(needle in haystack.lower())\n",
    "\n",
    "# print( haystack.find(needle) )\n",
    "# print( haystack.find(needle) >= 0)\n",
    "print( haystack.lower().find(needle) >= 0 )\n",
    "\n",
    "print('last')\n",
    "find_a_needle_in_a_haystack = haystack[haystack.find(needle):haystack.find(needle) + len(needle)] \n",
    "print(find_a_needle_in_a_haystack != '' )\n",
    "print('end')"
   ]
  },
  {
   "cell_type": "markdown",
   "metadata": {},
   "source": [
    "4. sudėkite šiuos du kintamuosius kaip skaičius:"
   ]
  },
  {
   "cell_type": "code",
   "execution_count": 18,
   "metadata": {},
   "outputs": [
    {
     "name": "stdout",
     "output_type": "stream",
     "text": [
      "44\n"
     ]
    }
   ],
   "source": [
    "bool_1 = True\n",
    "number_string = \"43\"\n",
    "\n",
    "# type coercion/casting/conversion\n",
    "suma = bool_1 + int(number_string)\n",
    "# suma = int(bool_1) + int(number_string)\n",
    "print(suma)"
   ]
  },
  {
   "cell_type": "markdown",
   "metadata": {},
   "source": [
    "# Lists"
   ]
  },
  {
   "cell_type": "code",
   "execution_count": 29,
   "metadata": {},
   "outputs": [],
   "source": [
    "cities = [ 'Vilnius', 'Kaunas', 'Klaipeda' ]"
   ]
  },
  {
   "cell_type": "code",
   "execution_count": 49,
   "metadata": {},
   "outputs": [
    {
     "name": "stdout",
     "output_type": "stream",
     "text": [
      "['Vilnius', 'Kaunas', 'Klaipeda']\n",
      "Vilnius\n",
      "<class 'list'>\n",
      "<class 'str'>\n",
      "ilgis: 3\n",
      "slicing: ['Vilnius', 'Kaunas']\n",
      "slicing: ['Kaunas', 'Klaipeda']\n",
      "slicing: ['Kaunas', 'Klaipeda'] True [10, 5, 7, 5] 45\n",
      "slicing on element: ipeda\n",
      "ipeda\n"
     ]
    }
   ],
   "source": [
    "print(cities)\n",
    "print( cities[0])\n",
    "print(       type(cities) )\n",
    "print( type( cities[0] ) )\n",
    "\n",
    "print('ilgis:', len(cities) )\n",
    "print('slicing:', cities[0:2] )\n",
    "print('slicing:', cities[-2:] )\n",
    "print('slicing:', cities[-2:], True, [10,5,7,5], 5*9 )\n",
    "# print('slicing:' cities[-2:] True [10,5,7,5] ) # Error\n",
    "# print(f'slicing: {cities[-2:]} {True} {[10,5,7,5]}' )\n",
    "\n",
    "print('slicing on element:', cities[2][-5:] )\n",
    "# same as:\n",
    "city = cities[2]\n",
    "print(city[-5:])"
   ]
  },
  {
   "cell_type": "code",
   "execution_count": 56,
   "metadata": {},
   "outputs": [
    {
     "name": "stdout",
     "output_type": "stream",
     "text": [
      "[1, 2, 3, 4, 5, 6, 7, 8, 9, '100']\n",
      "1: <class 'int'>\n",
      "100: <class 'str'>\n",
      "ilgis: 10\n"
     ]
    }
   ],
   "source": [
    "numbers = [ 1, 2, 3, 4, 5, 6, 7, 8, 9 , '100']\n",
    "print(numbers)\n",
    "print( f'{numbers[0]}:', type(numbers[0]) )\n",
    "print( f'{numbers[-1]}:', type(numbers[-1]) )\n",
    "print('ilgis:', len(numbers) )"
   ]
  },
  {
   "cell_type": "code",
   "execution_count": 92,
   "metadata": {},
   "outputs": [
    {
     "name": "stdout",
     "output_type": "stream",
     "text": [
      "[1, 2, 3, 4, 5, 10, 34, 876, 500]\n",
      "[1, 2, 3, 4, 5, 10, 34, 876, 500, 400]\n",
      "[1, 2, 3, 4, 5, 10, 34, 876, 500, 400, 400]\n"
     ]
    }
   ],
   "source": [
    "numbers = [ 1, 2, 3, 4, 5, 10, 34, 876]\n",
    "numbers.append( 500 )\n",
    "print(numbers)\n",
    "numbers.append( 400 )\n",
    "print(numbers)\n",
    "numbers.append( 400 )\n",
    "print(numbers)"
   ]
  },
  {
   "cell_type": "code",
   "execution_count": 132,
   "metadata": {},
   "outputs": [
    {
     "name": "stdout",
     "output_type": "stream",
     "text": [
      "[1, 2, 3, 4, 5, 10, 34, 876, 400, 400, 400, 400, 400, 400, 400, 400, '400']\n"
     ]
    }
   ],
   "source": [
    "numbers.append( 400 ) # cumulative\n",
    "print(numbers)\n"
   ]
  },
  {
   "cell_type": "code",
   "execution_count": 139,
   "metadata": {},
   "outputs": [
    {
     "name": "stdout",
     "output_type": "stream",
     "text": [
      "None\n",
      "[1, 2, 3, 4, 5, 10, 34, 876, 400, 400, 400, 400, 400, 400, 400, 400, '400', '400', '400']\n"
     ]
    }
   ],
   "source": [
    "print( numbers.append( '400' ) ) # None\n",
    "print(numbers)\n"
   ]
  },
  {
   "cell_type": "code",
   "execution_count": 137,
   "metadata": {},
   "outputs": [
    {
     "name": "stdout",
     "output_type": "stream",
     "text": [
      "8\n"
     ]
    }
   ],
   "source": [
    "print (numbers.count(400) ) "
   ]
  },
  {
   "cell_type": "code",
   "execution_count": 144,
   "metadata": {},
   "outputs": [
    {
     "name": "stdout",
     "output_type": "stream",
     "text": [
      "before [1, 2, 3, 4, 5, 10, 34, 876, 400, 400, 400, 400, 400, 400, 400, 400]\n"
     ]
    },
    {
     "ename": "ValueError",
     "evalue": "list.remove(x): x not in list",
     "output_type": "error",
     "traceback": [
      "\u001b[1;31m---------------------------------------------------------------------------\u001b[0m",
      "\u001b[1;31mValueError\u001b[0m                                Traceback (most recent call last)",
      "\u001b[1;32mc:\\Users\\Robotux\\Documents\\Python\\230926PYT036VAK\\lesson_3.ipynb Cell 19\u001b[0m line \u001b[0;36m<module>\u001b[1;34m\u001b[0m\n\u001b[0;32m      <a href='vscode-notebook-cell:/c%3A/Users/Robotux/Documents/Python/230926PYT036VAK/lesson_3.ipynb#X42sZmlsZQ%3D%3D?line=0'>1</a>\u001b[0m \u001b[39mprint\u001b[39m(\u001b[39m'\u001b[39m\u001b[39mbefore\u001b[39m\u001b[39m'\u001b[39m,numbers)\n\u001b[1;32m----> <a href='vscode-notebook-cell:/c%3A/Users/Robotux/Documents/Python/230926PYT036VAK/lesson_3.ipynb#X42sZmlsZQ%3D%3D?line=1'>2</a>\u001b[0m numbers\u001b[39m.\u001b[39;49mremove(\u001b[39m'\u001b[39;49m\u001b[39m400\u001b[39;49m\u001b[39m'\u001b[39;49m)\n\u001b[0;32m      <a href='vscode-notebook-cell:/c%3A/Users/Robotux/Documents/Python/230926PYT036VAK/lesson_3.ipynb#X42sZmlsZQ%3D%3D?line=2'>3</a>\u001b[0m \u001b[39mprint\u001b[39m(\u001b[39m'\u001b[39m\u001b[39mafter\u001b[39m\u001b[39m'\u001b[39m, numbers)\n",
      "\u001b[1;31mValueError\u001b[0m: list.remove(x): x not in list"
     ]
    }
   ],
   "source": [
    "print('before',numbers)\n",
    "numbers.remove('400') # error if not found\n",
    "print('after', numbers)"
   ]
  },
  {
   "cell_type": "code",
   "execution_count": 154,
   "metadata": {},
   "outputs": [
    {
     "name": "stdout",
     "output_type": "stream",
     "text": [
      "before [1, 2, 3, 4, 5, 10, 34, 876]\n",
      "pop 876\n",
      "after [1, 2, 3, 4, 5, 10, 34]\n",
      "pop 2: 1\n",
      "after [2, 3, 4, 5, 10, 34]\n"
     ]
    }
   ],
   "source": [
    "numbers = [1, 2, 3, 4, 5, 10, 34, 876]\n",
    "print('before',numbers)\n",
    "print('pop', numbers.pop() )\n",
    "print('after', numbers)\n",
    "print('pop 2:', numbers.pop(0) )\n",
    "print('after', numbers)"
   ]
  },
  {
   "cell_type": "code",
   "execution_count": 171,
   "metadata": {},
   "outputs": [
    {
     "name": "stdout",
     "output_type": "stream",
     "text": [
      "[2, 3, 4, 5, 10, 34]\n",
      "after append [2, 3, 4, 5, 10, 34, 400]\n",
      "after insert [2, 3, 4, 500, 5, 10, 34, 400]\n",
      "after extend [2, 3, 4, 500, 5, 10, 34, 400, 600, 700, 800]\n",
      "after append list [2, 3, 4, 500, 5, 10, 34, 400, 600, 700, 800, [900, 1000, 1100]]\n",
      "last element: [900, 1000, 1100]\n",
      "2nd last element: 800\n",
      "last number: 1100\n"
     ]
    }
   ],
   "source": [
    "numbers = [ 2, 3, 4, 5, 10, 34]\n",
    "print(numbers)\n",
    "numbers.append(400)\n",
    "print('after append', numbers)\n",
    "numbers.insert(3, 500)\n",
    "print('after insert', numbers)\n",
    "numbers.extend( [600, 700, 800] )\n",
    "print('after extend', numbers)\n",
    "numbers.append( [900, 1000, 1100] )\n",
    "print('after append list', numbers)\n",
    "print('last element:', numbers[-1])\n",
    "print('2nd last element:', numbers[-2])\n",
    "print('last number:', numbers[-1][-1])"
   ]
  },
  {
   "cell_type": "code",
   "execution_count": 187,
   "metadata": {},
   "outputs": [
    {
     "name": "stdout",
     "output_type": "stream",
     "text": [
      "[654, [[[48, [['65']]], 57]]]\n",
      "[[[48, [['65']]], 57]]\n",
      "[[48, [['65']]], 57]\n",
      "[48, [['65']]]\n",
      "[['65']]\n",
      "['65']\n",
      "65\n",
      "end\n",
      "65\n"
     ]
    }
   ],
   "source": [
    "nested_list = [654, [[[48, [['65']]], 57]]]\n",
    "# atspausdinti `65`\n",
    "# print('65')\n",
    "print(nested_list)\n",
    "print (nested_list[1])\n",
    "print (nested_list[1][0])\n",
    "print (nested_list[1][0][0])\n",
    "print (nested_list[1][0][0][1])\n",
    "print (nested_list[1][0][0][1][0])\n",
    "print (nested_list[1][0][0][1][0][0])\n",
    "print('end')\n",
    "# print (nested_list[0])\n",
    "print (nested_list[-1][0][0][-1][0][0]) # same in this case"
   ]
  },
  {
   "cell_type": "code",
   "execution_count": 199,
   "metadata": {},
   "outputs": [
    {
     "name": "stdout",
     "output_type": "stream",
     "text": [
      "[2, 3, 4, 500, 5, 10, 34, 400, 600, 700, 800]\n",
      "[800, 700, 600, 400, 34, 10, 5, 500, 4, 3, 2]\n",
      "[2, 3, 4, 500, 5, 10, 34, 400, 600, 700, 800]\n",
      "[2, 3, 4, 500, 5, 10, 34, 400, 600, 700, 800]\n",
      "[2, 3, 4, 500, 5, 10, 34, 400, 600, 700, 800]\n"
     ]
    }
   ],
   "source": [
    "numbers = [2, 3, 4, 500, 5, 10, 34, 400, 600, 700, 800]\n",
    "print(numbers)\n",
    "print(numbers[ ::-1 ])\n",
    "print(numbers)\n",
    "print(numbers)\n",
    "print(numbers)"
   ]
  },
  {
   "cell_type": "code",
   "execution_count": 198,
   "metadata": {},
   "outputs": [
    {
     "name": "stdout",
     "output_type": "stream",
     "text": [
      "[2, 3, 4, 500, 5, 10, 34, 400, 600, 700, 800]\n",
      "None\n",
      "[800, 700, 600, 400, 34, 10, 5, 500, 4, 3, 2]\n",
      "[800, 700, 600, 400, 34, 10, 5, 500, 4, 3, 2]\n",
      "None\n",
      "[2, 3, 4, 500, 5, 10, 34, 400, 600, 700, 800]\n"
     ]
    }
   ],
   "source": [
    "print(numbers)\n",
    "print(numbers.reverse()) # same as numbers = numbers[::-1]\n",
    "print(numbers)\n",
    "print(numbers)\n",
    "print(numbers.reverse()) # same as numbers = numbers[::-1]\n",
    "print(numbers)"
   ]
  },
  {
   "cell_type": "code",
   "execution_count": 247,
   "metadata": {},
   "outputs": [
    {
     "name": "stdout",
     "output_type": "stream",
     "text": [
      "[2, 3, 4, 500, 5, 10, 34, 400, 600, 700, 800]\n"
     ]
    }
   ],
   "source": [
    "# numbers = numbers[::-1]\n",
    "numbers.reverse()\n",
    "print(numbers)"
   ]
  },
  {
   "cell_type": "code",
   "execution_count": 224,
   "metadata": {},
   "outputs": [
    {
     "name": "stdout",
     "output_type": "stream",
     "text": [
      "[800, 700, 600, 400, 34, 10, 5, 500, 4, 3, 2]\n",
      "[2, 3, 4, 500, 5, 10, 34, 400, 600, 700, 800]\n"
     ]
    }
   ],
   "source": [
    "print(numbers)\n",
    "print(numbers[::-1])"
   ]
  },
  {
   "cell_type": "code",
   "execution_count": 250,
   "metadata": {},
   "outputs": [
    {
     "name": "stdout",
     "output_type": "stream",
     "text": [
      "[2, 3, 4, 500, 5, 10, 34, 400, 600, 700, 800]\n",
      "None\n",
      "[2, 3, 4, 5, 10, 34, 400, 500, 600, 700, 800]\n",
      "None\n",
      "[800, 700, 600, 500, 400, 34, 10, 5, 4, 3, 2]\n"
     ]
    }
   ],
   "source": [
    "numbers = [2, 3, 4, 500, 5, 10, 34, 400, 600, 700, 800]\n",
    "print(numbers)\n",
    "print( numbers.sort() ) # None\n",
    "print(numbers)\n",
    "print( numbers.sort(reverse=True) ) # None\n",
    "print(numbers)"
   ]
  },
  {
   "cell_type": "code",
   "execution_count": 254,
   "metadata": {},
   "outputs": [
    {
     "name": "stdout",
     "output_type": "stream",
     "text": [
      "[2, 3, 4, 500, 5, 10, 34, 400, 600, 700, 800]\n",
      "[2, 3, 4, 5, 10, 34, 400, 500, 600, 700, 800]\n",
      "[2, 3, 4, 500, 5, 10, 34, 400, 600, 700, 800]\n",
      "[800, 700, 600, 500, 400, 34, 10, 5, 4, 3, 2]\n",
      "[2, 3, 4, 500, 5, 10, 34, 400, 600, 700, 800]\n"
     ]
    }
   ],
   "source": [
    "numbers = [2, 3, 4, 500, 5, 10, 34, 400, 600, 700, 800]\n",
    "print(numbers)\n",
    "print( sorted(numbers) ) # returns new list view\n",
    "print(numbers)\n",
    "print( sorted(numbers, reverse=True) ) # returns new list view\n",
    "print(numbers)"
   ]
  },
  {
   "cell_type": "code",
   "execution_count": null,
   "metadata": {},
   "outputs": [],
   "source": [
    "sorted_numbers = sorted(numbers)"
   ]
  },
  {
   "cell_type": "code",
   "execution_count": 257,
   "metadata": {},
   "outputs": [
    {
     "ename": "TypeError",
     "evalue": "'<' not supported between instances of 'int' and 'str'",
     "output_type": "error",
     "traceback": [
      "\u001b[1;31m---------------------------------------------------------------------------\u001b[0m",
      "\u001b[1;31mTypeError\u001b[0m                                 Traceback (most recent call last)",
      "\u001b[1;32mc:\\Users\\Robotux\\Documents\\Python\\230926PYT036VAK\\lesson_3.ipynb Cell 30\u001b[0m line \u001b[0;36m<module>\u001b[1;34m\u001b[0m\n\u001b[1;32m----> <a href='vscode-notebook-cell:/c%3A/Users/Robotux/Documents/Python/230926PYT036VAK/lesson_3.ipynb#X62sZmlsZQ%3D%3D?line=0'>1</a>\u001b[0m \u001b[39msorted\u001b[39;49m( [\u001b[39m'\u001b[39;49m\u001b[39ma\u001b[39;49m\u001b[39m'\u001b[39;49m,\u001b[39m0\u001b[39;49m ,\u001b[39m1\u001b[39;49m,\u001b[39m5\u001b[39;49m,\u001b[39m7\u001b[39;49m,\u001b[39m-\u001b[39;49m\u001b[39m500\u001b[39;49m, [\u001b[39m10\u001b[39;49m,\u001b[39m20\u001b[39;49m], \u001b[39m'\u001b[39;49m\u001b[39mb\u001b[39;49m\u001b[39m'\u001b[39;49m ] )\n",
      "\u001b[1;31mTypeError\u001b[0m: '<' not supported between instances of 'int' and 'str'"
     ]
    }
   ],
   "source": [
    "sorted( ['a',0 ,1,5,7,-500, [10,20], 'b' ] )"
   ]
  },
  {
   "cell_type": "markdown",
   "metadata": {},
   "source": [
    "Python Built-in functions: https://docs.python.org/3.11/library/functions.html "
   ]
  },
  {
   "cell_type": "code",
   "execution_count": 259,
   "metadata": {},
   "outputs": [
    {
     "data": {
      "text/plain": [
       "['__add__',\n",
       " '__class__',\n",
       " '__class_getitem__',\n",
       " '__contains__',\n",
       " '__delattr__',\n",
       " '__delitem__',\n",
       " '__dir__',\n",
       " '__doc__',\n",
       " '__eq__',\n",
       " '__format__',\n",
       " '__ge__',\n",
       " '__getattribute__',\n",
       " '__getitem__',\n",
       " '__gt__',\n",
       " '__hash__',\n",
       " '__iadd__',\n",
       " '__imul__',\n",
       " '__init__',\n",
       " '__init_subclass__',\n",
       " '__iter__',\n",
       " '__le__',\n",
       " '__len__',\n",
       " '__lt__',\n",
       " '__mul__',\n",
       " '__ne__',\n",
       " '__new__',\n",
       " '__reduce__',\n",
       " '__reduce_ex__',\n",
       " '__repr__',\n",
       " '__reversed__',\n",
       " '__rmul__',\n",
       " '__setattr__',\n",
       " '__setitem__',\n",
       " '__sizeof__',\n",
       " '__str__',\n",
       " '__subclasshook__',\n",
       " 'append',\n",
       " 'clear',\n",
       " 'copy',\n",
       " 'count',\n",
       " 'extend',\n",
       " 'index',\n",
       " 'insert',\n",
       " 'pop',\n",
       " 'remove',\n",
       " 'reverse',\n",
       " 'sort']"
      ]
     },
     "execution_count": 259,
     "metadata": {},
     "output_type": "execute_result"
    }
   ],
   "source": [
    "dir(numbers)"
   ]
  },
  {
   "cell_type": "code",
   "execution_count": 260,
   "metadata": {},
   "outputs": [],
   "source": [
    "name = input('Enter your name: ')"
   ]
  },
  {
   "cell_type": "code",
   "execution_count": 261,
   "metadata": {},
   "outputs": [
    {
     "name": "stdout",
     "output_type": "stream",
     "text": [
      "Darius\n"
     ]
    }
   ],
   "source": [
    "print(name)"
   ]
  },
  {
   "cell_type": "code",
   "execution_count": 264,
   "metadata": {},
   "outputs": [
    {
     "name": "stdout",
     "output_type": "stream",
     "text": [
      "43\n",
      "<class 'str'>\n",
      "53\n"
     ]
    }
   ],
   "source": [
    "number = input('Enter number: ')\n",
    "print(number)\n",
    "print(type(number))\n",
    "# print(number + 10) # error\n",
    "print(int(number) + 10) # no error"
   ]
  },
  {
   "cell_type": "code",
   "execution_count": 268,
   "metadata": {},
   "outputs": [
    {
     "name": "stdout",
     "output_type": "stream",
     "text": [
      "<class 'list'>\n",
      "<class 'str'>\n"
     ]
    }
   ],
   "source": [
    "print(type( ['65'] ))\n",
    "print(type( '65' ))"
   ]
  },
  {
   "cell_type": "code",
   "execution_count": 272,
   "metadata": {},
   "outputs": [
    {
     "name": "stdout",
     "output_type": "stream",
     "text": [
      "[2, 3, 4, 500, 5, 10, 34, 400, 600, 700, 800]\n",
      "max 800\n",
      "min 2\n",
      "sum 3058\n"
     ]
    }
   ],
   "source": [
    "print(numbers)\n",
    "print('max', max(numbers) )\n",
    "print('min', min(numbers) )\n",
    "print('sum', sum(numbers) )"
   ]
  },
  {
   "cell_type": "code",
   "execution_count": 285,
   "metadata": {},
   "outputs": [
    {
     "name": "stdout",
     "output_type": "stream",
     "text": [
      "2.3: 2\n",
      "2.4: 2.5\n",
      "2.5: 2\n",
      "2.6: 3\n",
      "3.5: 4\n",
      "4.5: 4\n",
      "5.5: 6\n"
     ]
    }
   ],
   "source": [
    "\n",
    "print('2.3:', round(2.3))\n",
    "print('2.5:', round(2.5))\n",
    "print('2.6:', round(2.6))\n",
    "\n",
    "print('3.5:', round(3.5))\n",
    "\n",
    "print('4.5:', round(4.5))\n",
    "\n",
    "print('5.5:', round(5.5))\n",
    "# If you need to fix this issue, use standard libraries or 3rd party libraries like NumPy."
   ]
  },
  {
   "cell_type": "code",
   "execution_count": 281,
   "metadata": {},
   "outputs": [],
   "source": [
    "# fix python rounding issue with decimal"
   ]
  },
  {
   "cell_type": "code",
   "execution_count": 286,
   "metadata": {},
   "outputs": [
    {
     "name": "stdout",
     "output_type": "stream",
     "text": [
      "3\n"
     ]
    }
   ],
   "source": [
    "from decimal import Decimal, ROUND_HALF_UP\n",
    "\n",
    "x = Decimal('2.5')\n",
    "y = x.quantize(Decimal('1'), rounding=ROUND_HALF_UP)\n",
    "\n",
    "print(y)  # Output: 3"
   ]
  },
  {
   "cell_type": "code",
   "execution_count": 290,
   "metadata": {},
   "outputs": [
    {
     "name": "stdout",
     "output_type": "stream",
     "text": [
      "['Vilnius', 'Kaunas', 'Klaipeda']\n",
      "True\n",
      "False\n",
      "False\n"
     ]
    }
   ],
   "source": [
    "print(cities)\n",
    "print('Vilnius' in cities)\n",
    "print('Siauliai' in cities)\n",
    "print('kaunas' in cities)"
   ]
  },
  {
   "cell_type": "code",
   "execution_count": 294,
   "metadata": {},
   "outputs": [
    {
     "name": "stdout",
     "output_type": "stream",
     "text": [
      "False\n",
      "True\n",
      "True\n",
      "True\n"
     ]
    }
   ],
   "source": [
    "print( bool( [] ) )\n",
    "print( bool( [ '' ] ) )\n",
    "print( bool( [ False ] ) )\n",
    "print( bool( [ 1,5,3,58 ] ) )"
   ]
  },
  {
   "cell_type": "markdown",
   "metadata": {},
   "source": [
    "## operations"
   ]
  },
  {
   "cell_type": "code",
   "execution_count": 298,
   "metadata": {},
   "outputs": [
    {
     "name": "stdout",
     "output_type": "stream",
     "text": [
      "[1, 2, 3, 'A', 'B', 'C']\n",
      "[1, 2, 3, 1]\n"
     ]
    }
   ],
   "source": [
    "combined_list = [1,2,3] + [\"A\", \"B\", \"C\"]\n",
    "print (combined_list)\n",
    "# print( [1,2,3] + 1 ) # error\n",
    "print( [1,2,3] + [1] ) # no error"
   ]
  },
  {
   "cell_type": "code",
   "execution_count": 299,
   "metadata": {},
   "outputs": [
    {
     "name": "stdout",
     "output_type": "stream",
     "text": [
      "[1, 2, 'A', 1, 2, 'A', 1, 2, 'A', 1, 2, 'A', 1, 2, 'A', 1, 2, 'A', 1, 2, 'A', 1, 2, 'A', 1, 2, 'A', 1, 2, 'A']\n"
     ]
    }
   ],
   "source": [
    "mult_list = [1,2,\"A\"] * 10\n",
    "print(mult_list)"
   ]
  },
  {
   "cell_type": "markdown",
   "metadata": {},
   "source": [
    "division, substraction doesn't work"
   ]
  },
  {
   "cell_type": "code",
   "execution_count": 301,
   "metadata": {},
   "outputs": [
    {
     "name": "stdout",
     "output_type": "stream",
     "text": [
      "[1, 2, 3]\n",
      "3\n",
      "[1, 2, 3, 5]\n",
      "4\n"
     ]
    }
   ],
   "source": [
    "my_list = [1,2,3]\n",
    "print(my_list)\n",
    "print(len(my_list))\n",
    "my_list.append(5)\n",
    "print(my_list)\n",
    "print(len(my_list))"
   ]
  },
  {
   "cell_type": "code",
   "execution_count": 303,
   "metadata": {},
   "outputs": [
    {
     "name": "stdout",
     "output_type": "stream",
     "text": [
      "False\n",
      "True\n"
     ]
    }
   ],
   "source": [
    "print(4 in my_list)\n",
    "print(5 in my_list)"
   ]
  },
  {
   "cell_type": "code",
   "execution_count": 312,
   "metadata": {},
   "outputs": [
    {
     "name": "stdout",
     "output_type": "stream",
     "text": [
      "[1, 2, 3, -5, -4, -3]\n",
      "-3\n",
      "[1, 2, 3, -5, -4]\n",
      "[-5, -4, 1, 2, 3]\n",
      "1\n"
     ]
    }
   ],
   "source": [
    "combined_list = [1,2,3] + [-5,-4,-3]\n",
    "print (combined_list)\n",
    "print( combined_list.pop())\n",
    "print (combined_list)\n",
    "combined_list = sorted(combined_list)\n",
    "print (combined_list)\n",
    "print( combined_list.count(3))"
   ]
  },
  {
   "cell_type": "code",
   "execution_count": null,
   "metadata": {},
   "outputs": [],
   "source": []
  }
 ],
 "metadata": {
  "kernelspec": {
   "display_name": "Python 3",
   "language": "python",
   "name": "python3"
  },
  "language_info": {
   "codemirror_mode": {
    "name": "ipython",
    "version": 3
   },
   "file_extension": ".py",
   "mimetype": "text/x-python",
   "name": "python",
   "nbconvert_exporter": "python",
   "pygments_lexer": "ipython3",
   "version": "3.10.2"
  },
  "orig_nbformat": 4
 },
 "nbformat": 4,
 "nbformat_minor": 2
}
