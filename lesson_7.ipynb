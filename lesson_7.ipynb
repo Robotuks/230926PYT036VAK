{
 "cells": [
  {
   "cell_type": "markdown",
   "metadata": {},
   "source": [
    "# Papildomos užduotys 4"
   ]
  },
  {
   "cell_type": "markdown",
   "metadata": {},
   "source": [
    "1. Rasti pasikartojančius elementus tarp dviejų list'ų.\n",
    "   "
   ]
  },
  {
   "cell_type": "code",
   "execution_count": 5,
   "metadata": {},
   "outputs": [
    {
     "name": "stdout",
     "output_type": "stream",
     "text": [
      "[3, 8, 9, 15]\n",
      "[8, 9, 3, 15]\n"
     ]
    }
   ],
   "source": [
    "a = [1,2,3,4,5,6,7,8,9,15]\n",
    "b = [3,8,9,11,15]\n",
    "# Gauti rezultatą c = [3,8,9,15] nes šie skaičiai pasikartoja abiejuose listuose\n",
    "\n",
    "set_a = set(a)\n",
    "set_b = set(b)\n",
    "c = set_a.intersection(set_b)\n",
    "c = list(c)\n",
    "print(sorted(c))\n",
    "\n",
    "print( list( set(a).intersection(b) ) )"
   ]
  },
  {
   "cell_type": "markdown",
   "metadata": {},
   "source": [
    "2. Išfiltruoti unikalius teigiamus numeris iš sąrašo."
   ]
  },
  {
   "cell_type": "code",
   "execution_count": 7,
   "metadata": {},
   "outputs": [
    {
     "name": "stdout",
     "output_type": "stream",
     "text": [
      "[800, 1, 2, 900, 5, 8, 10, 12, 14]\n",
      "[800, 1, 2, 900, 5, 8, 10, 12, 14]\n"
     ]
    }
   ],
   "source": [
    "x = [1, 5, 1, 2, 8, -9, 10, 1, -8, -900, 14, 5, -8, 2, 1, -20, 900, 800, -6, -8, 12, 1]\n",
    "\n",
    "set_x = set(x)\n",
    "result = [ number for number in set_x if number > 0 ]\n",
    "print(result)\n",
    "\n",
    "###\n",
    "result = []\n",
    "for number in set_x:\n",
    "    if number > 0:\n",
    "        result.append(number)\n",
    "print(result)"
   ]
  },
  {
   "cell_type": "markdown",
   "metadata": {},
   "source": [
    "3. Paskaičiuoti pelną pardavus visas prekes. Informacija apie kainą ir kiekius yra pateikiama kaip dictionary, atsakymą suapvalinti iki 2 skaičių po kablelio."
   ]
  },
  {
   "cell_type": "code",
   "execution_count": 8,
   "metadata": {},
   "outputs": [
    {
     "name": "stdout",
     "output_type": "stream",
     "text": [
      "Pelnas: 14943.96\n"
     ]
    }
   ],
   "source": [
    "x = { \n",
    "    \"cost_price\": 32.67,\n",
    "    \"sell_price\": 45.00,\n",
    "    \"inventory\": 1212\n",
    "}\n",
    "\n",
    "profit = (x[\"sell_price\"] - x[\"cost_price\"]) * x[\"inventory\"] \n",
    "profit = round(profit, 2)\n",
    "print(f'Pelnas: {profit}')"
   ]
  },
  {
   "cell_type": "markdown",
   "metadata": {},
   "source": [
    "4. Turėdami list’ą, gaukite didžiausią šalia esančių skaičių sandaugą."
   ]
  },
  {
   "cell_type": "code",
   "execution_count": 13,
   "metadata": {},
   "outputs": [],
   "source": [
    "my_list = [3, 6, -2, -5, 7, 3]\n",
    "# rezultatas = 21, nes 7 ir 3 sandauga yra didžiausia\n",
    "\n",
    "\n",
    "my_list = [-3, 6, -2, 5, -7, 3]"
   ]
  },
  {
   "cell_type": "code",
   "execution_count": 24,
   "metadata": {},
   "outputs": [
    {
     "name": "stdout",
     "output_type": "stream",
     "text": [
      "0\n",
      "1\n",
      "2\n",
      "3\n",
      "4\n",
      "5\n"
     ]
    },
    {
     "ename": "IndexError",
     "evalue": "list index out of range",
     "output_type": "error",
     "traceback": [
      "\u001b[1;31m---------------------------------------------------------------------------\u001b[0m",
      "\u001b[1;31mIndexError\u001b[0m                                Traceback (most recent call last)",
      "\u001b[1;32mc:\\Users\\Robotux\\Documents\\Python\\230926PYT036VAK\\lesson_7.ipynb Cell 10\u001b[0m line \u001b[0;36m<module>\u001b[1;34m\u001b[0m\n\u001b[0;32m      <a href='vscode-notebook-cell:/c%3A/Users/Robotux/Documents/Python/230926PYT036VAK/lesson_7.ipynb#X24sZmlsZQ%3D%3D?line=2'>3</a>\u001b[0m \u001b[39mfor\u001b[39;00m idx \u001b[39min\u001b[39;00m \u001b[39mrange\u001b[39m(\u001b[39m0\u001b[39m, \u001b[39mlen\u001b[39m(my_list)):\n\u001b[0;32m      <a href='vscode-notebook-cell:/c%3A/Users/Robotux/Documents/Python/230926PYT036VAK/lesson_7.ipynb#X24sZmlsZQ%3D%3D?line=3'>4</a>\u001b[0m     \u001b[39mprint\u001b[39m(idx)\n\u001b[1;32m----> <a href='vscode-notebook-cell:/c%3A/Users/Robotux/Documents/Python/230926PYT036VAK/lesson_7.ipynb#X24sZmlsZQ%3D%3D?line=4'>5</a>\u001b[0m     \u001b[39mif\u001b[39;00m my_list[idx] \u001b[39m*\u001b[39m my_list[idx\u001b[39m+\u001b[39;49m\u001b[39m1\u001b[39;49m] \u001b[39m>\u001b[39m mult:\n\u001b[0;32m      <a href='vscode-notebook-cell:/c%3A/Users/Robotux/Documents/Python/230926PYT036VAK/lesson_7.ipynb#X24sZmlsZQ%3D%3D?line=5'>6</a>\u001b[0m         mult \u001b[39m=\u001b[39m my_list[idx] \u001b[39m*\u001b[39m my_list[idx\u001b[39m+\u001b[39m\u001b[39m1\u001b[39m]\n\u001b[0;32m      <a href='vscode-notebook-cell:/c%3A/Users/Robotux/Documents/Python/230926PYT036VAK/lesson_7.ipynb#X24sZmlsZQ%3D%3D?line=6'>7</a>\u001b[0m \u001b[39mprint\u001b[39m(mult)\n",
      "\u001b[1;31mIndexError\u001b[0m: list index out of range"
     ]
    }
   ],
   "source": [
    "# mult = 1\n",
    "mult = float('-inf')\n",
    "for idx in range(0, len(my_list)-1):\n",
    "    if my_list[idx] * my_list[idx+1] > mult:\n",
    "        mult = my_list[idx] * my_list[idx+1]\n",
    "print(mult)"
   ]
  },
  {
   "cell_type": "code",
   "execution_count": 15,
   "metadata": {},
   "outputs": [
    {
     "name": "stdout",
     "output_type": "stream",
     "text": [
      "[-18, -12, -10, -35, -21]\n",
      "-10\n"
     ]
    }
   ],
   "source": [
    "result = []\n",
    "\n",
    "for num in range(0, len(my_list) - 1):\n",
    "    result.append(my_list[num] * my_list[num + 1])\n",
    "print(result)\n",
    "print(max(result))"
   ]
  },
  {
   "cell_type": "code",
   "execution_count": 26,
   "metadata": {},
   "outputs": [
    {
     "name": "stdout",
     "output_type": "stream",
     "text": [
      "[3, 6, -2, -5, 7]\n",
      "[6, -2, -5, 7, 3]\n",
      "[18, -12, 10, -35, 21]\n",
      "21\n",
      "[(3, 6), (6, -2), (-2, -5), (-5, 7), (7, 3)]\n"
     ]
    }
   ],
   "source": [
    "my_list = [3, 6, -2, -5, 7, 3]\n",
    "\n",
    "neighbor_1st = my_list[:-1]\n",
    "neighbor_2nd = my_list[1:]\n",
    "print(neighbor_1st)\n",
    "print(neighbor_2nd)\n",
    "\n",
    "result = []\n",
    "for num_left, num_right in zip(neighbor_1st, neighbor_2nd): \n",
    "    result.append(num_left * num_right)\n",
    "\n",
    "print(result)\n",
    "print(max(result))\n",
    "print(list( zip(neighbor_1st, neighbor_2nd) ) )"
   ]
  },
  {
   "cell_type": "code",
   "execution_count": 29,
   "metadata": {},
   "outputs": [
    {
     "name": "stdout",
     "output_type": "stream",
     "text": [
      "(3, 6)\n",
      "(6, -2)\n",
      "(-2, -5)\n",
      "(-5, 7)\n",
      "(7, 3)\n"
     ]
    }
   ],
   "source": [
    "for num_tuple in zip(neighbor_1st, neighbor_2nd):\n",
    "    print(num_tuple)"
   ]
  },
  {
   "cell_type": "markdown",
   "metadata": {},
   "source": [
    "5. Iš žodžių sąrašo atsakyti į šiuos klausimus:\n",
    "* Kiek žodžių yra ilgesnių nei 10 simbolių\n",
    "* Kuris žodis yra ilgiausias ir trumpiausias\n",
    "* Ar nors vienas žodis yra palindromas, jei taip, koks arba kokie tai žodžiai\n",
    "\n",
    "Palindromas - atvirkščiai skaitant žodį, gaunasi tas pats žodis.\n",
    "savas -> savas"
   ]
  },
  {
   "cell_type": "code",
   "execution_count": null,
   "metadata": {},
   "outputs": [],
   "source": [
    "words_list = [\"medis\", \"alus\", \"sakotis\", \"kava\", \"mėtėm \", \"saldainis\", \"kepure\", \"automobilis\", \"naman\", \"ragas\"]\n",
    "\n"
   ]
  },
  {
   "cell_type": "code",
   "execution_count": 30,
   "metadata": {},
   "outputs": [
    {
     "name": "stdout",
     "output_type": "stream",
     "text": [
      "['automobilis'] ['naman'] alus automobilis\n"
     ]
    }
   ],
   "source": [
    "words_list = [\"medis\", \"alus\", \"sakotis\", \"kava\", \"mėtėm \", \"saldainis\", \"kepure\", \"automobilis\", \"naman\", \"ragas\"]\n",
    "\n",
    "more_than_ten = []\n",
    "\n",
    "shortest_str = min(words_list, key=len)\n",
    "\n",
    "longest_str = max(words_list, key=len)\n",
    "\n",
    "palindrome_list = []\n",
    "\n",
    "for word in words_list:\n",
    "    if len(word) > 10:\n",
    "        more_than_ten.append(word)\n",
    "    if word[::-1] == word:\n",
    "        palindrome_list.append(word)\n",
    "\n",
    "print(more_than_ten, palindrome_list, shortest_str, longest_str)"
   ]
  },
  {
   "cell_type": "code",
   "execution_count": 32,
   "metadata": {},
   "outputs": [
    {
     "name": "stdout",
     "output_type": "stream",
     "text": [
      "{'words with more than 10 symbols: ': 'automobilis', 'longest word:': ['automobilis'], 'shortest word:': ['alus', 'kava'], 'palindromes:': ['naman']}\n"
     ]
    }
   ],
   "source": [
    "words_list = [\"medis\", \"alus\", \"sakotis\", \"kava\", \"mėtėm \", \"saldainis\", \"kepure\", \"automobilis\", \"naman\", \"ragas\"]\n",
    "\n",
    "result = {\n",
    "    \"words with more than 10 symbols: \": [],\n",
    "    \"longest word:\": [],\n",
    "    \"shortest word:\": [],\n",
    "    \"palindromes:\": []\n",
    "}\n",
    "\n",
    "max_len = len(max(words_list, key = len))\n",
    "min_len = len(min(words_list, key = len))\n",
    "\n",
    "result[\"longest word:\"] = [x for x in words_list if len(x) == max_len]\n",
    "result[\"shortest word:\"] = [x for x in words_list if len(x) == min_len]\n",
    "\n",
    "for i in range(0, len(words_list)-1):\n",
    "    if words_list[i] == words_list[i][::-1]:\n",
    "        result[\"palindromes:\"].append(words_list[i])\n",
    "    if len(words_list[i]) > 10:\n",
    "        result[\"words with more than 10 symbols: \"] = words_list[i]\n",
    "    \n",
    "\n",
    "print(result)"
   ]
  },
  {
   "cell_type": "code",
   "execution_count": 36,
   "metadata": {},
   "outputs": [
    {
     "name": "stdout",
     "output_type": "stream",
     "text": [
      "{'words with more than 10 symbols: ': ['automobilis'], 'longest word:': ['automobilis'], 'shortest word:': ['alus', 'kava'], 'palindromes:': ['naman']}\n"
     ]
    }
   ],
   "source": [
    "words_list = [\"medis\", \"alus\", \"sakotis\", \"kava\", \"mėtėm \", \"saldainis\", \"kepure\", \"automobilis\", \"naman\", \"ragas\"]\n",
    "\n",
    "result = {\n",
    "    \"words with more than 10 symbols: \": [],\n",
    "    \"longest word:\": [],\n",
    "    \"shortest word:\": [],\n",
    "    \"palindromes:\": []\n",
    "}\n",
    "\n",
    "max_len = len(max(words_list, key = len))\n",
    "min_len = len(min(words_list, key = len))\n",
    "\n",
    "# result[\"longest word:\"] = [x for x in words_list if len(x) == max_len]\n",
    "# result[\"shortest word:\"] = [x for x in words_list if len(x) == min_len]\n",
    "\n",
    "for word in words_list:\n",
    "    if word == word[::-1]:\n",
    "        result[\"palindromes:\"].append(word)\n",
    "    if len(word) > 10:\n",
    "        result[\"words with more than 10 symbols: \"].append(word)\n",
    "    if len(word) == min_len:\n",
    "        result[\"shortest word:\"].append(word)\n",
    "    if len(word) == max_len:\n",
    "        result[\"longest word:\"].append(word)\n",
    "\n",
    "print(result)"
   ]
  },
  {
   "cell_type": "markdown",
   "metadata": {},
   "source": [
    "6. Parašykite funkciją, kuri priims string tipo kintamąjį, gražinkite kiek tame stringę yra raidžių, skaičių ir skyrybos (specialių) ženklų, tarpų.\n",
    "   \n",
    "Pvz: \n",
    "simboliu_ieskotojas('vienas 2 ??')\n",
    "\n",
    "atspausdins:\n",
    "\"Raidžių yra 6, skaičių yra 1, simbolių yra 2, tarpų yra 2\""
   ]
  },
  {
   "cell_type": "code",
   "execution_count": 38,
   "metadata": {},
   "outputs": [
    {
     "name": "stdout",
     "output_type": "stream",
     "text": [
      "Ivestyje aptikta: 6 raidziu, 1 skaiciu, 2 simboliu, 2 tarpu\n"
     ]
    }
   ],
   "source": [
    "def simboliu_ieskotojas(word):\n",
    "    raidziu_skaicius = 0\n",
    "    skaiciu_skaicius = 0\n",
    "    simboliu_skaicius = 0\n",
    "    tarpu_skaicius = 0\n",
    "    for char in word:\n",
    "        if char.isalpha():\n",
    "            raidziu_skaicius += 1\n",
    "        elif char.isdigit():\n",
    "            skaiciu_skaicius += 1\n",
    "        elif char.isspace():\n",
    "            tarpu_skaicius += 1\n",
    "        else:\n",
    "            simboliu_skaicius += 1\n",
    "    result = f'Ivestyje aptikta: {raidziu_skaicius} raidziu, {skaiciu_skaicius} skaiciu, {simboliu_skaicius} simboliu, {tarpu_skaicius} tarpu'\n",
    "    return result\n",
    "\n",
    "word = input('Iveskite teksta')\n",
    "result = simboliu_ieskotojas(word)\n",
    "print(result)"
   ]
  },
  {
   "cell_type": "code",
   "execution_count": 40,
   "metadata": {},
   "outputs": [
    {
     "name": "stdout",
     "output_type": "stream",
     "text": [
      "Raidžių yra 7, skaičių yra 9, simbolių yra 9, tarpų yra 8\n"
     ]
    }
   ],
   "source": [
    "def check_str(str):\n",
    "    letters = 0\n",
    "    numbers = 0\n",
    "    symbols = 0\n",
    "    spaces = 0\n",
    "    for char in str:\n",
    "        if ord(char) == 32:\n",
    "            spaces += 1\n",
    "        if ord(char) >= 33 and ord(char) <= 47 or ord(char) >= 58 and ord(char) <= 64:\n",
    "            symbols += 1\n",
    "        if ord(char) >= 65 and ord(char) <= 90 or ord(char) >= 97 and ord(char) <= 122:\n",
    "            letters +=1\n",
    "        if ord(char) >= 48 and ord(char) <= 57:\n",
    "            numbers += 1\n",
    "    return f\"Raidžių yra {letters}, skaičių yra {numbers}, simbolių yra {symbols}, tarpų yra {spaces}\"\n",
    "\n",
    "print(check_str(\"12   3456     789,./,./,./abcdefg\"))\n",
    "# print(check_str(\"vienas 2 ??\"))"
   ]
  },
  {
   "cell_type": "code",
   "execution_count": 47,
   "metadata": {},
   "outputs": [
    {
     "name": "stdout",
     "output_type": "stream",
     "text": [
      "abcdefghijklmnopqrstuvwxyzABCDEFGHIJKLMNOPQRSTUVWXYZ\n",
      "0123456789\n",
      "!\"#$%&'()*+,-./:;<=>?@[\\]^_`{|}~\n"
     ]
    },
    {
     "data": {
      "text/plain": [
       "'0123456789abcdefghijklmnopqrstuvwxyzABCDEFGHIJKLMNOPQRSTUVWXYZ!\"#$%&\\'()*+,-./:;<=>?@[\\\\]^_`{|}~ \\t\\n\\r\\x0b\\x0c'"
      ]
     },
     "execution_count": 47,
     "metadata": {},
     "output_type": "execute_result"
    }
   ],
   "source": [
    "import string\n",
    "\n",
    "print(string.ascii_letters)\n",
    "print(string.digits)\n",
    "print(string.punctuation)\n",
    "# string.whitespace\n",
    "# string.printable"
   ]
  },
  {
   "cell_type": "code",
   "execution_count": 49,
   "metadata": {},
   "outputs": [
    {
     "name": "stdout",
     "output_type": "stream",
     "text": [
      "True\n",
      "True\n",
      "True\n"
     ]
    }
   ],
   "source": [
    "print('5'.isdecimal())\n",
    "print('5'.isalnum())\n",
    "print('5'.isdigit())\n",
    "print('5'.isnumeric())\n"
   ]
  },
  {
   "cell_type": "markdown",
   "metadata": {},
   "source": [
    "7. Parašykite funkciją, kuri priima tris skaičius, jie reikš nuo, iki ir žingsnis. Funkcija turi grąžinti listą skaičių tokių, kokius padavėte funkcijai\n",
    "\n",
    "print(skaiciuKurejas(10,100,5)) ->\n",
    "[10, 15, 20, 25, 30, 35, 40, 45, 50, 55, 60, 65, 70, 75, 80, 85, 90, 95]"
   ]
  },
  {
   "cell_type": "code",
   "execution_count": 52,
   "metadata": {},
   "outputs": [
    {
     "name": "stdout",
     "output_type": "stream",
     "text": [
      "[10, 15, 20, 25, 30, 35, 40, 45, 50, 55, 60, 65, 70, 75, 80, 85, 90, 95, 100]\n"
     ]
    }
   ],
   "source": [
    "# def skaiciu_kurejas(first_num, last_num, step):\n",
    "#     result = []\n",
    "#     for num in range(first_num, last_num + 1, step):\n",
    "#         result.append(num)\n",
    "#     return result\n",
    "\n",
    "def skaiciu_kurejas(first_num, last_num, step):\n",
    "    result = list( range(first_num, last_num + 1, step) )\n",
    "    return result\n",
    "\n",
    "print(skaiciu_kurejas(10,100,5))"
   ]
  },
  {
   "cell_type": "code",
   "execution_count": 53,
   "metadata": {},
   "outputs": [
    {
     "name": "stdout",
     "output_type": "stream",
     "text": [
      "[10, 15, 20, 25, 30, 35, 40, 45, 50, 55, 60, 65, 70, 75, 80, 85, 90, 95]\n"
     ]
    }
   ],
   "source": [
    "def skaiciuKurejas(nuo, iki, step):\n",
    "    result = []\n",
    "    current = nuo\n",
    "    while current < iki:\n",
    "        result.append(current)\n",
    "        current += step\n",
    "    return result\n",
    "\n",
    "rezultatas = skaiciuKurejas(10,100,5)\n",
    "print(rezultatas)"
   ]
  },
  {
   "cell_type": "markdown",
   "metadata": {},
   "source": [
    "8. Parašyti funkciją, kuri priima vieną list tipo kintamąjį, funkcija grąžina skirtumą tarp didžiausio skaičiaus ir mažiausio skaičiaus.\n",
    "\n",
    "my_function([1, 5, 6, 10, 4])\n",
    "\n",
    "ATS: 9 , nes max yra 10, o min yra 1"
   ]
  },
  {
   "cell_type": "code",
   "execution_count": 54,
   "metadata": {},
   "outputs": [
    {
     "data": {
      "text/plain": [
       "9"
      ]
     },
     "execution_count": 54,
     "metadata": {},
     "output_type": "execute_result"
    }
   ],
   "source": [
    "def my_function(arr):\n",
    "    max_num = max(arr)\n",
    "    min_num = min(arr)\n",
    "    return max_num - min_num\n",
    "\n",
    "my_function([1, 5, 6, 10, 4])"
   ]
  },
  {
   "cell_type": "code",
   "execution_count": 55,
   "metadata": {},
   "outputs": [],
   "source": [
    "song_text = \"\"\"\n",
    "Is this the real life? Is this just fantasy?\n",
    "Caught in a landslide, no escape from reality\n",
    "Open your eyes, look up to the skies and see\n",
    "I'm just a poor boy, I need no sympathy\n",
    "Because I'm easy come, easy go, little high, little low\n",
    "Any way the wind blows doesn't really matter to me, to me\n",
    "Mama, just killed a man\n",
    "Put a gun against his head, pulled my trigger, now he's dead\n",
    "Mama, life had just begun\n",
    "But now I've gone and thrown it all away\n",
    "Mama, ooh, didn't mean to make you cry\n",
    "If I'm not back again this time tomorrow\n",
    "Carry on, carry on as if nothing really matters\n",
    "Too late, my time has come\n",
    "Sends shivers down my spine, body's aching all the time\n",
    "Goodbye, everybody, I've got to go\n",
    "Gotta leave you all behind and face the truth\n",
    "Mama, ooh (any way the wind blows)\n",
    "I don't wanna die\n",
    "I sometimes wish I'd never been born at all\n",
    "I see a little silhouetto of a man\n",
    "Scaramouche, Scaramouche, will you do the Fandango?\n",
    "Thunderbolt and lightning, very, very frightening me\n",
    "(Galileo) Galileo, (Galileo) Galileo, Galileo Figaro, magnifico\n",
    "But I'm just a poor boy, nobody loves me\n",
    "He's just a poor boy from a poor family\n",
    "Spare him his life from this monstrosity\n",
    "Easy come, easy go, will you let me go?\n",
    "No, we will not let you go (let him go)\n",
    "We will not let you go (let him go)\n",
    "We will not let you go (let me go)\n",
    "Will not let you go (let me go)\n",
    "Never, never, never, never let me go\n",
    "No, no, no, no, no, no, no\n",
    "Oh, mamma mia, mamma mia\n",
    "Mamma mia, let me go\n",
    "Beelzebub has a devil put aside for me, for me, for me\n",
    "So you think you can stone me and spit in my eye?\n",
    "So you think you can love me and leave me to die?\n",
    "Oh, baby, can't do this to me, baby\n",
    "Just gotta get out, just gotta get right outta here\n",
    "Ooh\n",
    "Ooh, yeah, ooh, yeah\n",
    "Nothing really matters, anyone can see\n",
    "Nothing really matters\n",
    "Nothing really matters to me\n",
    "\"\"\""
   ]
  },
  {
   "cell_type": "code",
   "execution_count": 62,
   "metadata": {},
   "outputs": [
    {
     "name": "stdout",
     "output_type": "stream",
     "text": [
      "354\n",
      "155\n",
      "{'pulled', 'bodys', 'his', 'scaramouche', 'back', 'we', 'aside', 'this', 'here', 'wish', 'my', 'really', 'put', 'baby', 'frightening', 'gone', 'loves', 'right', 'head', 'i', 'spine', 'love', 'fantasy', 'on', 'will', 'very', 'for', 'no', 'nobody', 'fandango', 'any', 'again', 'anyone', 'im', 'because', 'as', 'thrown', 'high', 'caught', 'is', 'yeah', 'magnifico', 'man', 'and', 'been', 'has', 'born', 'make', 'landslide', 'had', 'down', 'dead', 'your', 'go', 'tomorrow', 'cant', 'dont', 'outta', 'cry', 'easy', 'sympathy', 'blows', 'away', 'not', 'got', 'skies', 'begun', 'doesnt', 'look', 'real', 'too', 'a', 'truth', 'eye', 'hes', 'leave', 'beelzebub', 'spit', 'poor', 'so', 'life', 'lightning', 'sends', 'of', 'just', 'but', 'mamma', 'think', 'little', 'figaro', 'mia', 'boy', 'ooh', 'spare', 'reality', 'nothing', 'now', 'monstrosity', 'galileo', 'me', 'matters', 'matter', 'family', 'behind', 'thunderbolt', 'in', 'at', 'let', 'wind', 'face', 'aching', 'late', 'escape', 'trigger', 'you', 'never', 'all', 'die', 'devil', 'way', 'if', 'shivers', 'ive', 'to', 'out', 'silhouetto', 'eyes', 'everybody', 'gotta', 'do', 'oh', 'time', 'it', 'carry', 'come', 'stone', 'gun', 'didnt', 'low', 'mama', 'open', 'get', 'need', 'wanna', 'him', 'from', 'see', 'up', 'mean', 'against', 'goodbye', 'id', 'killed', 'can', 'sometimes'}\n",
      "ration: 0.4378531073446328\n"
     ]
    }
   ],
   "source": [
    "words = song_text.lower().replace('\\'', '').replace('\\\"', '').replace('?', '').replace(',', '').replace('\\'', '').replace('(', '').replace(')', '').replace('the', '').split()\n",
    "\n",
    "print(len(words))\n",
    "# print(words)\n",
    "\n",
    "unique_words = set(words)\n",
    "print(len(unique_words))\n",
    "print(unique_words)\n",
    "print(f'ration: {len(unique_words) / len(words)}')\n"
   ]
  },
  {
   "cell_type": "code",
   "execution_count": 64,
   "metadata": {},
   "outputs": [
    {
     "name": "stdout",
     "output_type": "stream",
     "text": [
      "{'pulled': 0, 'bodys': 0, 'his': 0, 'scaramouche': 0, 'back': 0, 'we': 0, 'aside': 0, 'this': 0, 'here': 0, 'wish': 0, 'my': 0, 'really': 0, 'put': 0, 'baby': 0, 'frightening': 0, 'gone': 0, 'loves': 0, 'right': 0, 'head': 0, 'i': 0, 'spine': 0, 'love': 0, 'fantasy': 0, 'on': 0, 'will': 0, 'very': 0, 'for': 0, 'no': 0, 'nobody': 0, 'fandango': 0, 'any': 0, 'again': 0, 'anyone': 0, 'im': 0, 'because': 0, 'as': 0, 'thrown': 0, 'high': 0, 'caught': 0, 'is': 0, 'yeah': 0, 'magnifico': 0, 'man': 0, 'and': 0, 'been': 0, 'has': 0, 'born': 0, 'make': 0, 'landslide': 0, 'had': 0, 'down': 0, 'dead': 0, 'your': 0, 'go': 0, 'tomorrow': 0, 'cant': 0, 'dont': 0, 'outta': 0, 'cry': 0, 'easy': 0, 'sympathy': 0, 'blows': 0, 'away': 0, 'not': 0, 'got': 0, 'skies': 0, 'begun': 0, 'doesnt': 0, 'look': 0, 'real': 0, 'too': 0, 'a': 0, 'truth': 0, 'eye': 0, 'hes': 0, 'leave': 0, 'beelzebub': 0, 'spit': 0, 'poor': 0, 'so': 0, 'life': 0, 'lightning': 0, 'sends': 0, 'of': 0, 'just': 0, 'but': 0, 'mamma': 0, 'think': 0, 'little': 0, 'figaro': 0, 'mia': 0, 'boy': 0, 'ooh': 0, 'spare': 0, 'reality': 0, 'nothing': 0, 'now': 0, 'monstrosity': 0, 'galileo': 0, 'me': 0, 'matters': 0, 'matter': 0, 'family': 0, 'behind': 0, 'thunderbolt': 0, 'in': 0, 'at': 0, 'let': 0, 'wind': 0, 'face': 0, 'aching': 0, 'late': 0, 'escape': 0, 'trigger': 0, 'you': 0, 'never': 0, 'all': 0, 'die': 0, 'devil': 0, 'way': 0, 'if': 0, 'shivers': 0, 'ive': 0, 'to': 0, 'out': 0, 'silhouetto': 0, 'eyes': 0, 'everybody': 0, 'gotta': 0, 'do': 0, 'oh': 0, 'time': 0, 'it': 0, 'carry': 0, 'come': 0, 'stone': 0, 'gun': 0, 'didnt': 0, 'low': 0, 'mama': 0, 'open': 0, 'get': 0, 'need': 0, 'wanna': 0, 'him': 0, 'from': 0, 'see': 0, 'up': 0, 'mean': 0, 'against': 0, 'goodbye': 0, 'id': 0, 'killed': 0, 'can': 0, 'sometimes': 0}\n",
      "{'pulled': 1, 'bodys': 1, 'his': 2, 'scaramouche': 2, 'back': 1, 'we': 3, 'aside': 1, 'this': 5, 'here': 1, 'wish': 1, 'my': 4, 'really': 5, 'put': 2, 'baby': 2, 'frightening': 1, 'gone': 1, 'loves': 1, 'right': 1, 'head': 1, 'i': 4, 'spine': 1, 'love': 1, 'fantasy': 1, 'on': 2, 'will': 6, 'very': 2, 'for': 3, 'no': 10, 'nobody': 1, 'fandango': 1, 'any': 2, 'again': 1, 'anyone': 1, 'im': 4, 'because': 1, 'as': 1, 'thrown': 1, 'high': 1, 'caught': 1, 'is': 2, 'yeah': 2, 'magnifico': 1, 'man': 2, 'and': 6, 'been': 1, 'has': 2, 'born': 1, 'make': 1, 'landslide': 1, 'had': 1, 'down': 1, 'dead': 1, 'your': 1, 'go': 14, 'tomorrow': 1, 'cant': 1, 'dont': 1, 'outta': 1, 'cry': 1, 'easy': 4, 'sympathy': 1, 'blows': 2, 'away': 1, 'not': 5, 'got': 1, 'skies': 1, 'begun': 1, 'doesnt': 1, 'look': 1, 'real': 1, 'too': 1, 'a': 10, 'truth': 1, 'eye': 1, 'hes': 2, 'leave': 2, 'beelzebub': 1, 'spit': 1, 'poor': 4, 'so': 2, 'life': 3, 'lightning': 1, 'sends': 1, 'of': 1, 'just': 8, 'but': 2, 'mamma': 3, 'think': 2, 'little': 3, 'figaro': 1, 'mia': 3, 'boy': 3, 'ooh': 5, 'spare': 1, 'reality': 1, 'nothing': 4, 'now': 2, 'monstrosity': 1, 'galileo': 5, 'me': 17, 'matters': 4, 'matter': 1, 'family': 1, 'behind': 1, 'thunderbolt': 1, 'in': 2, 'at': 1, 'let': 11, 'wind': 2, 'face': 1, 'aching': 1, 'late': 1, 'escape': 1, 'trigger': 1, 'you': 12, 'never': 5, 'all': 4, 'die': 2, 'devil': 1, 'way': 2, 'if': 2, 'shivers': 1, 'ive': 2, 'to': 8, 'out': 1, 'silhouetto': 1, 'eyes': 1, 'everybody': 1, 'gotta': 3, 'do': 2, 'oh': 2, 'time': 3, 'it': 1, 'carry': 2, 'come': 3, 'stone': 1, 'gun': 1, 'didnt': 1, 'low': 1, 'mama': 4, 'open': 1, 'get': 2, 'need': 1, 'wanna': 1, 'him': 3, 'from': 3, 'see': 3, 'up': 1, 'mean': 1, 'against': 1, 'goodbye': 1, 'id': 1, 'killed': 1, 'can': 3, 'sometimes': 1}\n"
     ]
    }
   ],
   "source": [
    "word_counts = { word : 0 for word in unique_words }\n",
    "print(word_counts)\n",
    "for word in words:\n",
    "    word_counts[word] += 1\n",
    "\n",
    "print(word_counts)"
   ]
  },
  {
   "cell_type": "code",
   "execution_count": 69,
   "metadata": {},
   "outputs": [
    {
     "name": "stdout",
     "output_type": "stream",
     "text": [
      "Counter({'me': 17, 'go': 14, 'you': 12, 'let': 11, 'a': 10, 'no': 10, 'just': 8, 'to': 8, 'and': 6, 'will': 6, 'this': 5, 'really': 5, 'ooh': 5, 'not': 5, 'never': 5, 'galileo': 5, 'im': 4, 'poor': 4, 'i': 4, 'easy': 4, 'mama': 4, 'my': 4, 'all': 4, 'nothing': 4, 'matters': 4, 'life': 3, 'from': 3, 'see': 3, 'boy': 3, 'come': 3, 'little': 3, 'time': 3, 'gotta': 3, 'him': 3, 'we': 3, 'mamma': 3, 'mia': 3, 'for': 3, 'can': 3, 'is': 2, 'in': 2, 'any': 2, 'way': 2, 'wind': 2, 'blows': 2, 'man': 2, 'put': 2, 'his': 2, 'now': 2, 'hes': 2, 'but': 2, 'ive': 2, 'if': 2, 'carry': 2, 'on': 2, 'has': 2, 'leave': 2, 'die': 2, 'scaramouche': 2, 'do': 2, 'very': 2, 'oh': 2, 'so': 2, 'think': 2, 'baby': 2, 'get': 2, 'yeah': 2, 'real': 1, 'fantasy': 1, 'caught': 1, 'landslide': 1, 'escape': 1, 'reality': 1, 'open': 1, 'your': 1, 'eyes': 1, 'look': 1, 'up': 1, 'skies': 1, 'need': 1, 'sympathy': 1, 'because': 1, 'high': 1, 'low': 1, 'doesnt': 1, 'matter': 1, 'killed': 1, 'gun': 1, 'against': 1, 'head': 1, 'pulled': 1, 'trigger': 1, 'dead': 1, 'had': 1, 'begun': 1, 'gone': 1, 'thrown': 1, 'it': 1, 'away': 1, 'didnt': 1, 'mean': 1, 'make': 1, 'cry': 1, 'back': 1, 'again': 1, 'tomorrow': 1, 'as': 1, 'too': 1, 'late': 1, 'sends': 1, 'shivers': 1, 'down': 1, 'spine': 1, 'bodys': 1, 'aching': 1, 'goodbye': 1, 'everybody': 1, 'got': 1, 'behind': 1, 'face': 1, 'truth': 1, 'dont': 1, 'wanna': 1, 'sometimes': 1, 'wish': 1, 'id': 1, 'been': 1, 'born': 1, 'at': 1, 'silhouetto': 1, 'of': 1, 'fandango': 1, 'thunderbolt': 1, 'lightning': 1, 'frightening': 1, 'figaro': 1, 'magnifico': 1, 'nobody': 1, 'loves': 1, 'family': 1, 'spare': 1, 'monstrosity': 1, 'beelzebub': 1, 'devil': 1, 'aside': 1, 'stone': 1, 'spit': 1, 'eye': 1, 'love': 1, 'cant': 1, 'out': 1, 'right': 1, 'outta': 1, 'here': 1, 'anyone': 1})\n"
     ]
    }
   ],
   "source": [
    "import collections\n",
    "# word_counts =  dict( collections.Counter(words) )\n",
    "\n",
    "word_counts_2 = collections.Counter(words)\n",
    "print(word_counts_2)"
   ]
  },
  {
   "cell_type": "code",
   "execution_count": 71,
   "metadata": {},
   "outputs": [
    {
     "data": {
      "text/plain": [
       "5"
      ]
     },
     "execution_count": 71,
     "metadata": {},
     "output_type": "execute_result"
    }
   ],
   "source": [
    "word_counts_2['really']"
   ]
  },
  {
   "cell_type": "code",
   "execution_count": 76,
   "metadata": {},
   "outputs": [
    {
     "name": "stdout",
     "output_type": "stream",
     "text": [
      "pulled: 1\n",
      "bodys: 1\n",
      "his: 2\n",
      "scaramouche: 2\n",
      "back: 1\n",
      "we: 3\n",
      "aside: 1\n",
      "this: 5\n",
      "here: 1\n",
      "wish: 1\n",
      "my: 4\n",
      "really: 5\n",
      "put: 2\n",
      "baby: 2\n",
      "frightening: 1\n",
      "gone: 1\n",
      "loves: 1\n",
      "right: 1\n",
      "head: 1\n",
      "i: 4\n",
      "spine: 1\n",
      "love: 1\n",
      "fantasy: 1\n",
      "on: 2\n",
      "will: 6\n",
      "very: 2\n",
      "for: 3\n",
      "no: 10\n",
      "nobody: 1\n",
      "fandango: 1\n",
      "any: 2\n",
      "again: 1\n",
      "anyone: 1\n",
      "im: 4\n",
      "because: 1\n",
      "as: 1\n",
      "thrown: 1\n",
      "high: 1\n",
      "caught: 1\n",
      "is: 2\n",
      "yeah: 2\n",
      "magnifico: 1\n",
      "man: 2\n",
      "and: 6\n",
      "been: 1\n",
      "has: 2\n",
      "born: 1\n",
      "make: 1\n",
      "landslide: 1\n",
      "had: 1\n",
      "down: 1\n",
      "dead: 1\n",
      "your: 1\n",
      "go: 14\n",
      "tomorrow: 1\n",
      "cant: 1\n",
      "dont: 1\n",
      "outta: 1\n",
      "cry: 1\n",
      "easy: 4\n",
      "sympathy: 1\n",
      "blows: 2\n",
      "away: 1\n",
      "not: 5\n",
      "got: 1\n",
      "skies: 1\n",
      "begun: 1\n",
      "doesnt: 1\n",
      "look: 1\n",
      "real: 1\n",
      "too: 1\n",
      "a: 10\n",
      "truth: 1\n",
      "eye: 1\n",
      "hes: 2\n",
      "leave: 2\n",
      "beelzebub: 1\n",
      "spit: 1\n",
      "poor: 4\n",
      "so: 2\n",
      "life: 3\n",
      "lightning: 1\n",
      "sends: 1\n",
      "of: 1\n",
      "just: 8\n",
      "but: 2\n",
      "mamma: 3\n",
      "think: 2\n",
      "little: 3\n",
      "figaro: 1\n",
      "mia: 3\n",
      "boy: 3\n",
      "ooh: 5\n",
      "spare: 1\n",
      "reality: 1\n",
      "nothing: 4\n",
      "now: 2\n",
      "monstrosity: 1\n",
      "galileo: 5\n",
      "me: 17\n",
      "matters: 4\n",
      "matter: 1\n",
      "family: 1\n",
      "behind: 1\n",
      "thunderbolt: 1\n",
      "in: 2\n",
      "at: 1\n",
      "let: 11\n",
      "wind: 2\n",
      "face: 1\n",
      "aching: 1\n",
      "late: 1\n",
      "escape: 1\n",
      "trigger: 1\n",
      "you: 12\n",
      "never: 5\n",
      "all: 4\n",
      "die: 2\n",
      "devil: 1\n",
      "way: 2\n",
      "if: 2\n",
      "shivers: 1\n",
      "ive: 2\n",
      "to: 8\n",
      "out: 1\n",
      "silhouetto: 1\n",
      "eyes: 1\n",
      "everybody: 1\n",
      "gotta: 3\n",
      "do: 2\n",
      "oh: 2\n",
      "time: 3\n",
      "it: 1\n",
      "carry: 2\n",
      "come: 3\n",
      "stone: 1\n",
      "gun: 1\n",
      "didnt: 1\n",
      "low: 1\n",
      "mama: 4\n",
      "open: 1\n",
      "get: 2\n",
      "need: 1\n",
      "wanna: 1\n",
      "him: 3\n",
      "from: 3\n",
      "see: 3\n",
      "up: 1\n",
      "mean: 1\n",
      "against: 1\n",
      "goodbye: 1\n",
      "id: 1\n",
      "killed: 1\n",
      "can: 3\n",
      "sometimes: 1\n"
     ]
    }
   ],
   "source": [
    "word_counts = { }\n",
    "for word in unique_words:\n",
    "    word_counts[word] = words.count(word)\n",
    "\n",
    "# print(word_counts)\n",
    "for word, count in word_counts.items():\n",
    "    print(f'{word}: {count}')"
   ]
  },
  {
   "cell_type": "markdown",
   "metadata": {},
   "source": [
    "# Lambda"
   ]
  },
  {
   "cell_type": "code",
   "execution_count": 78,
   "metadata": {},
   "outputs": [],
   "source": [
    "zodziai = ['as', 'mes', 'namas', 'kompiuteris', 'labailabaiilgazodis', 'stalas']"
   ]
  },
  {
   "cell_type": "code",
   "execution_count": 79,
   "metadata": {},
   "outputs": [
    {
     "name": "stdout",
     "output_type": "stream",
     "text": [
      "['as', 'kompiuteris', 'labailabaiilgazodis', 'mes', 'namas', 'stalas']\n"
     ]
    }
   ],
   "source": [
    "print (sorted(zodziai) )"
   ]
  },
  {
   "cell_type": "code",
   "execution_count": 80,
   "metadata": {},
   "outputs": [
    {
     "name": "stdout",
     "output_type": "stream",
     "text": [
      "['as', 'mes', 'namas', 'stalas', 'kompiuteris', 'labailabaiilgazodis']\n"
     ]
    }
   ],
   "source": [
    "print (sorted(zodziai, key=len) )"
   ]
  },
  {
   "cell_type": "code",
   "execution_count": 81,
   "metadata": {},
   "outputs": [
    {
     "name": "stdout",
     "output_type": "stream",
     "text": [
      "['as', 'mes', 'namas', 'stalas', 'kompiuteris', 'labailabaiilgazodis']\n"
     ]
    }
   ],
   "source": [
    "print (sorted(zodziai, key=lambda x: len(x)) ) # same as above"
   ]
  },
  {
   "cell_type": "code",
   "execution_count": 82,
   "metadata": {},
   "outputs": [
    {
     "name": "stdout",
     "output_type": "stream",
     "text": [
      "['as', 'namas', 'labailabaiilgazodis', 'stalas', 'mes', 'kompiuteris']\n"
     ]
    }
   ],
   "source": [
    "print (sorted(zodziai, key=lambda x: x.count('e') ) )"
   ]
  },
  {
   "cell_type": "code",
   "execution_count": 83,
   "metadata": {},
   "outputs": [
    {
     "name": "stdout",
     "output_type": "stream",
     "text": [
      "['mes', 'kompiuteris', 'as', 'namas', 'stalas', 'labailabaiilgazodis']\n"
     ]
    }
   ],
   "source": [
    "print (sorted(zodziai, key=lambda x: x.count('a') ) )"
   ]
  },
  {
   "cell_type": "code",
   "execution_count": 84,
   "metadata": {},
   "outputs": [
    {
     "name": "stdout",
     "output_type": "stream",
     "text": [
      "['labailabaiilgazodis', 'namas', 'stalas', 'as', 'mes', 'kompiuteris']\n"
     ]
    }
   ],
   "source": [
    "print (sorted(zodziai, key=lambda x: x.count('a'), reverse=True ) )"
   ]
  },
  {
   "cell_type": "code",
   "execution_count": 87,
   "metadata": {},
   "outputs": [
    {
     "data": {
      "text/plain": [
       "['as', 'namas', 'labailabaiilgazodis', 'stalas']"
      ]
     },
     "execution_count": 87,
     "metadata": {},
     "output_type": "execute_result"
    }
   ],
   "source": [
    "# list( filter(lambda x: x.count('a') , zodziai) )\n",
    "list( filter(lambda x: 'a' in x , zodziai) )"
   ]
  },
  {
   "cell_type": "code",
   "execution_count": 88,
   "metadata": {},
   "outputs": [
    {
     "data": {
      "text/plain": [
       "['mes', 'kompiuteris']"
      ]
     },
     "execution_count": 88,
     "metadata": {},
     "output_type": "execute_result"
    }
   ],
   "source": [
    "list( filter(lambda x: 'e' in x , zodziai) )"
   ]
  },
  {
   "cell_type": "code",
   "execution_count": 95,
   "metadata": {},
   "outputs": [],
   "source": [
    "list_3 = [17,18,19,21]\n",
    "# list_3 = [17,18,19,24]"
   ]
  },
  {
   "cell_type": "code",
   "execution_count": 96,
   "metadata": {},
   "outputs": [
    {
     "name": "stdout",
     "output_type": "stream",
     "text": [
      "Anomalija tarp 19 ir 21\n",
      "Trukstami skaiciai: [20]\n"
     ]
    }
   ],
   "source": [
    "for idx in range(0, len(list_3)-1):\n",
    "    if list_3[idx]+1 == list_3[idx+1]:\n",
    "        # pass\n",
    "        continue\n",
    "    else:\n",
    "        print(f'Anomalija tarp {list_3[idx]} ir {list_3[idx+1]}')\n",
    "        print(f'Trukstami skaiciai: { list(range(list_3[idx] + 1, list_3[idx+1] )) }')\n",
    "    # print('ciklo pabaiga')"
   ]
  },
  {
   "cell_type": "code",
   "execution_count": 99,
   "metadata": {},
   "outputs": [
    {
     "name": "stdout",
     "output_type": "stream",
     "text": [
      "Tarp 17 ir 18 nera anomalijos\n",
      "Tarp 18 ir 19 nera anomalijos\n",
      "Tarp 19 ir 24 yra anomalija\n",
      "Trukstami skaiciai: [20, 21, 22, 23]\n"
     ]
    }
   ],
   "source": [
    "# list_3 = [17,18,19,21]\n",
    "list_3 = [17,18,19,24]\n",
    "neighbor_1st = list_3[:-1]\n",
    "neighbor_2nd = list_3[1:]\n",
    "for num_left, num_right in zip(neighbor_1st, neighbor_2nd):\n",
    "    if num_left + 1 == num_right:\n",
    "        print(f'Tarp {num_left} ir {num_right} nera anomalijos')\n",
    "    else:\n",
    "        print(f'Tarp {num_left} ir {num_right} yra anomalija')\n",
    "        print(f'Trukstami skaiciai: { list(range(num_left + 1, num_right )) }')"
   ]
  },
  {
   "cell_type": "code",
   "execution_count": null,
   "metadata": {},
   "outputs": [],
   "source": []
  }
 ],
 "metadata": {
  "kernelspec": {
   "display_name": "Python 3",
   "language": "python",
   "name": "python3"
  },
  "language_info": {
   "codemirror_mode": {
    "name": "ipython",
    "version": 3
   },
   "file_extension": ".py",
   "mimetype": "text/x-python",
   "name": "python",
   "nbconvert_exporter": "python",
   "pygments_lexer": "ipython3",
   "version": "3.10.2"
  }
 },
 "nbformat": 4,
 "nbformat_minor": 2
}
