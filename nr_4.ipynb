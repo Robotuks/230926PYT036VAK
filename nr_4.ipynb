{
 "cells": [
  {
   "cell_type": "markdown",
   "metadata": {},
   "source": [
    "1. Rasti pasikartojančius elementus tarp dviejų list'ų.\n",
    "   "
   ]
  },
  {
   "cell_type": "code",
   "execution_count": null,
   "metadata": {},
   "outputs": [],
   "source": [
    "a = [1,2,3,4,5,6,7,8,9,15]\n",
    "b = [3,8,9,11,15]\n",
    "# Gauti rezultatą c = [3,8,9,15] nes šie skaičiai pasikartoja abiejuose listuose"
   ]
  },
  {
   "cell_type": "markdown",
   "metadata": {},
   "source": [
    "2. Išfiltruoti unikalius teigiamus numeris iš sąrašo."
   ]
  },
  {
   "cell_type": "code",
   "execution_count": null,
   "metadata": {},
   "outputs": [],
   "source": [
    "x = [1, 5, 1, 2, 8, -9, 10, 1, -8, -900, 14, 5, -8, 2, 1, -20, 900, 800, -6, -8, 12, 1]"
   ]
  },
  {
   "cell_type": "markdown",
   "metadata": {},
   "source": [
    "3. Paskaičiuoti pelną pardavus visas prekes. Informacija apie kainą ir kiekius yra pateikiama kaip dictionary, atsakymą suapvalinti iki 2 skaičių po kablelio."
   ]
  },
  {
   "cell_type": "code",
   "execution_count": null,
   "metadata": {},
   "outputs": [],
   "source": [
    "x = { \n",
    "    \"cost_price\": 32.67,\n",
    "    \"sell_price\": 45.00,\n",
    "    \"inventory\": 1212\n",
    "}"
   ]
  },
  {
   "cell_type": "markdown",
   "metadata": {},
   "source": [
    "4. Turėdami list’ą, gaukite didžiausią šalia esančių skaičių sandaugą."
   ]
  },
  {
   "cell_type": "code",
   "execution_count": null,
   "metadata": {},
   "outputs": [],
   "source": [
    "my_list = [3, 6, -2, -5, 7, 3]\n",
    "# rezultatas = 21, nes 7 ir 3 sandauga yra didžiausia"
   ]
  },
  {
   "cell_type": "markdown",
   "metadata": {},
   "source": [
    "5. Iš žodžių sąrašo atsakyti į šiuos klausimus:\n",
    "* Kiek žodžių yra ilgesnių nei 10 simbolių\n",
    "* Kuris žodis yra ilgiausias ir trumpiausias\n",
    "* Ar nors vienas žodis yra palindromas, jei taip, koks arba kokie tai žodžiai\n",
    "\n",
    "Palindromas - atvirkščiai skaitant žodį, gaunasi tas pats žodis.\n",
    "savas -> savas"
   ]
  },
  {
   "cell_type": "code",
   "execution_count": null,
   "metadata": {},
   "outputs": [],
   "source": [
    "words_list = [\"medis\", \"alus\", \"sakotis\", \"kava\", \"mėtėm \", \"saldainis\", \"kepure\", \"automobilis\", \"naman\", \"ragas\"]"
   ]
  },
  {
   "cell_type": "markdown",
   "metadata": {},
   "source": [
    "6. Parašykite funkciją, kuri priims string tipo kintamąjį, gražinkite kiek tame stringę yra raidžių, skaičių ir skyrybos (specialių) ženklų, tarpų.\n",
    "   \n",
    "Pvz: \n",
    "simboliu_ieskotojas('vienas 2 ??')\n",
    "\n",
    "atspausdins:\n",
    "\"Raidžių yra 6, skaičių yra 1, simbolių yra 2, tarpų yra 2\""
   ]
  },
  {
   "cell_type": "code",
   "execution_count": null,
   "metadata": {},
   "outputs": [],
   "source": []
  },
  {
   "cell_type": "markdown",
   "metadata": {},
   "source": [
    "7. Parašykite funkciją, kuri priima tris skaičius, jie reikš nuo, iki ir žingsnis. Funkcija turi grąžinti listą skaičių tokių, kokius padavėte funkcijai\n",
    "\n",
    "print(skaiciuKurejas(10,100,5)) ->\n",
    "[10, 15, 20, 25, 30, 35, 40, 45, 50, 55, 60, 65, 70, 75, 80, 85, 90, 95]"
   ]
  },
  {
   "cell_type": "code",
   "execution_count": null,
   "metadata": {},
   "outputs": [],
   "source": []
  },
  {
   "cell_type": "markdown",
   "metadata": {},
   "source": [
    "8. Parašyti funkciją, kuri priima vieną list tipo kintamąjį, funkcija grąžina skirtumą tarp didžiausio skaičiaus ir mažiausio skaičiaus.\n",
    "\n",
    "myFunction([1, 5, 6, 10, 4])\n",
    "\n",
    "ATS: 9 , nes max yra 10, o min yra 1"
   ]
  },
  {
   "cell_type": "code",
   "execution_count": null,
   "metadata": {},
   "outputs": [],
   "source": []
  }
 ],
 "metadata": {
  "language_info": {
   "name": "python"
  }
 },
 "nbformat": 4,
 "nbformat_minor": 2
}
