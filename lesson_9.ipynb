{
 "cells": [
  {
   "cell_type": "code",
   "execution_count": null,
   "metadata": {},
   "outputs": [],
   "source": [
    "import os\n",
    "\n",
    "if os.path.exists('better_name.txt'):\n",
    "    os.remove('better_name.txt')\n",
    "\n",
    "if os.path.isfile('text_copy_rename.txt'):\n",
    "    os.remove('text_copy_rename.txt')\n"
   ]
  },
  {
   "cell_type": "markdown",
   "metadata": {},
   "source": [
    "# Class"
   ]
  },
  {
   "cell_type": "code",
   "execution_count": 34,
   "metadata": {},
   "outputs": [],
   "source": [
    "class Unicorn:\n",
    "    # dunder method\n",
    "    def __init__(self, name, color, born_year):\n",
    "        # attributes - savybės\n",
    "        self.name = name\n",
    "        self.color = color\n",
    "        self.born_year = born_year\n",
    "\n",
    "    # methods - metodai\n",
    "    def say(self):\n",
    "        return f'Hello, my name is {self.name} and I am {self.color}'\n",
    "\n",
    "    def say_2(self, current_year):\n",
    "        return f'Hello, my name is {self.name} and I am {self.color}. I am {current_year - self.born_year} years old'\n",
    "    \n",
    "    def __str__(self):\n",
    "        return f'Unicorn {self.name} {self.color}'\n",
    "\n",
    "    # def __repr__(self):\n",
    "    #     return f'Unicorn {self.name} {self.color}'\n",
    "\n",
    "    # def __eq__(self, other):\n",
    "    #     return self.name == other.name and self.color == other.color\n",
    "\n",
    "    # def __hash__(self):\n",
    "    #     return hash(self.name) + hash(self.color)"
   ]
  },
  {
   "cell_type": "code",
   "execution_count": 29,
   "metadata": {},
   "outputs": [],
   "source": [
    "# unicorn_1 = Unicorn()\n",
    "# unicorn_2 = Unicorn()\n",
    "# print(unicorn_1)"
   ]
  },
  {
   "cell_type": "code",
   "execution_count": 35,
   "metadata": {},
   "outputs": [],
   "source": [
    "unicorn_1 = Unicorn('Sparkle', 'white', 1225)\n",
    "unicorn_2 = Unicorn('Vienaragis', 'rainbow', 1000)"
   ]
  },
  {
   "cell_type": "code",
   "execution_count": 36,
   "metadata": {},
   "outputs": [
    {
     "name": "stdout",
     "output_type": "stream",
     "text": [
      "Unicorn Sparkle white\n",
      "Unicorn name is Sparkle and color white\n",
      "Unicorn name is Vienaragis and color rainbow\n"
     ]
    }
   ],
   "source": [
    "print(unicorn_1)\n",
    "print(f'Unicorn name is {unicorn_1.name} and color {unicorn_1.color}' )\n",
    "print(f'Unicorn name is {unicorn_2.name} and color {unicorn_2.color}' )"
   ]
  },
  {
   "cell_type": "code",
   "execution_count": 33,
   "metadata": {},
   "outputs": [
    {
     "name": "stdout",
     "output_type": "stream",
     "text": [
      "Hello, my name is Sparkle and I am white\n",
      "Hello, my name is Sparkle and I am white. I am 798 years old\n",
      "\n",
      "Hello, my name is Vienaragis and I am rainbow\n",
      "Hello, my name is Vienaragis and I am rainbow. I am 1023 years old\n",
      "\n"
     ]
    }
   ],
   "source": [
    "unicorn_list = [ unicorn_1, unicorn_2 ]\n",
    "for unicorn in unicorn_list:\n",
    "    # print(unicorn.name)\n",
    "    print( unicorn.say() )\n",
    "    print( unicorn.say_2(current_year=2023) )\n",
    "    print()"
   ]
  },
  {
   "cell_type": "code",
   "execution_count": 39,
   "metadata": {},
   "outputs": [
    {
     "data": {
      "text/plain": [
       "[1, 4, 9, 16, 25]"
      ]
     },
     "execution_count": 39,
     "metadata": {},
     "output_type": "execute_result"
    }
   ],
   "source": [
    "list( map(lambda x: x**2, [1,2,3,4,5]) )"
   ]
  },
  {
   "cell_type": "code",
   "execution_count": 47,
   "metadata": {},
   "outputs": [],
   "source": [
    "class Animal:\n",
    "    # dunder method\n",
    "    def __init__(self, name, color, born_year):\n",
    "        # attributes - savybės\n",
    "        self.name = name\n",
    "        self.color = color\n",
    "        self.born_year = born_year\n",
    "\n",
    "    def say(self):\n",
    "        # pass\n",
    "        raise NotImplementedError('This method is not implemented yet')"
   ]
  },
  {
   "cell_type": "code",
   "execution_count": 62,
   "metadata": {},
   "outputs": [],
   "source": [
    "class Dog(Animal):\n",
    "\n",
    "    # methods - metodai\n",
    "    def say(self):\n",
    "        return f'Hello, I am a dog woof woof, my name is {self.name} and I am {self.color} woof woof'\n",
    "    \n",
    "    def __str__(self):\n",
    "        return f'Dog {self.name} {self.color}'"
   ]
  },
  {
   "cell_type": "code",
   "execution_count": 63,
   "metadata": {},
   "outputs": [],
   "source": [
    "class Cat(Animal):\n",
    "\n",
    "    # methods - metodai\n",
    "    def say(self):\n",
    "        return f'Hello, I am a cat meow meow, my name is {self.name} and I am {self.color} meow meow'"
   ]
  },
  {
   "cell_type": "code",
   "execution_count": 64,
   "metadata": {},
   "outputs": [],
   "source": [
    "class Unicorn(Animal):\n",
    "\n",
    "    # methods - metodai\n",
    "    def say(self):\n",
    "        return f'Hello, my name is {self.name} and I am {self.color}'\n",
    "\n",
    "    def say_2(self, current_year):\n",
    "        return f'Hello, my name is {self.name} and I am {self.color}. I am {current_year - self.born_year} years old'\n",
    "    \n",
    "    def __str__(self):\n",
    "        return f'Unicorn {self.name} {self.color}'"
   ]
  },
  {
   "cell_type": "code",
   "execution_count": 65,
   "metadata": {},
   "outputs": [
    {
     "name": "stdout",
     "output_type": "stream",
     "text": [
      "Hello, I am a dog woof woof, my name is Rex and I am black woof woof\n",
      "Hello, I am a cat meow meow, my name is Kitty and I am white meow meow\n",
      "Hello, my name is Sparkle and I am white\n"
     ]
    }
   ],
   "source": [
    "dog = Dog('Rex', 'black', 2015)\n",
    "cat = Cat('Kitty', 'white', 2019)\n",
    "unicorn = Unicorn('Sparkle', 'white', 1225)\n",
    "\n",
    "print( dog.say() )\n",
    "print( cat.say() )\n",
    "print( unicorn.say() )"
   ]
  },
  {
   "cell_type": "code",
   "execution_count": 66,
   "metadata": {},
   "outputs": [
    {
     "ename": "NotImplementedError",
     "evalue": "This method is not implemented yet",
     "output_type": "error",
     "traceback": [
      "\u001b[1;31m---------------------------------------------------------------------------\u001b[0m",
      "\u001b[1;31mNotImplementedError\u001b[0m                       Traceback (most recent call last)",
      "\u001b[1;32mc:\\Users\\Robotux\\Documents\\Python\\230926PYT036VAK\\lesson_9.ipynb Cell 14\u001b[0m line \u001b[0;36m<module>\u001b[1;34m\u001b[0m\n\u001b[0;32m      <a href='vscode-notebook-cell:/c%3A/Users/Robotux/Documents/Python/230926PYT036VAK/lesson_9.ipynb#X21sZmlsZQ%3D%3D?line=0'>1</a>\u001b[0m abstract_animal \u001b[39m=\u001b[39m Animal(\u001b[39m'\u001b[39m\u001b[39mAbstract\u001b[39m\u001b[39m'\u001b[39m, \u001b[39m'\u001b[39m\u001b[39mblack\u001b[39m\u001b[39m'\u001b[39m, \u001b[39m2020\u001b[39m) \u001b[39m# Abstract class should not be used\u001b[39;00m\n\u001b[1;32m----> <a href='vscode-notebook-cell:/c%3A/Users/Robotux/Documents/Python/230926PYT036VAK/lesson_9.ipynb#X21sZmlsZQ%3D%3D?line=1'>2</a>\u001b[0m \u001b[39mprint\u001b[39m( abstract_animal\u001b[39m.\u001b[39;49msay() )\n",
      "\u001b[1;32mc:\\Users\\Robotux\\Documents\\Python\\230926PYT036VAK\\lesson_9.ipynb Cell 14\u001b[0m line \u001b[0;36mAnimal.say\u001b[1;34m(self)\u001b[0m\n\u001b[0;32m      <a href='vscode-notebook-cell:/c%3A/Users/Robotux/Documents/Python/230926PYT036VAK/lesson_9.ipynb#X21sZmlsZQ%3D%3D?line=8'>9</a>\u001b[0m \u001b[39mdef\u001b[39;00m \u001b[39msay\u001b[39m(\u001b[39mself\u001b[39m):\n\u001b[0;32m     <a href='vscode-notebook-cell:/c%3A/Users/Robotux/Documents/Python/230926PYT036VAK/lesson_9.ipynb#X21sZmlsZQ%3D%3D?line=9'>10</a>\u001b[0m     \u001b[39m# pass\u001b[39;00m\n\u001b[1;32m---> <a href='vscode-notebook-cell:/c%3A/Users/Robotux/Documents/Python/230926PYT036VAK/lesson_9.ipynb#X21sZmlsZQ%3D%3D?line=10'>11</a>\u001b[0m     \u001b[39mraise\u001b[39;00m \u001b[39mNotImplementedError\u001b[39;00m(\u001b[39m'\u001b[39m\u001b[39mThis method is not implemented yet\u001b[39m\u001b[39m'\u001b[39m)\n",
      "\u001b[1;31mNotImplementedError\u001b[0m: This method is not implemented yet"
     ]
    }
   ],
   "source": [
    "abstract_animal = Animal('Abstract', 'black', 2020) # Abstract class should not be used\n",
    "print( abstract_animal.say() )"
   ]
  },
  {
   "cell_type": "code",
   "execution_count": 67,
   "metadata": {},
   "outputs": [
    {
     "name": "stdout",
     "output_type": "stream",
     "text": [
      "Hello, I am a dog woof woof, my name is Rex and I am black woof woof\n",
      "Dog Rex black\n",
      "Hello, I am a cat meow meow, my name is Kitty and I am white meow meow\n",
      "<__main__.Cat object at 0x000001CF8B13A890>\n",
      "Hello, my name is Sparkle and I am white\n",
      "Unicorn Sparkle white\n"
     ]
    }
   ],
   "source": [
    "animals = [ dog, cat, unicorn ]\n",
    "\n",
    "for animal in animals:\n",
    "    print( animal.say() )\n",
    "    print( str(animal) )"
   ]
  },
  {
   "cell_type": "code",
   "execution_count": 97,
   "metadata": {},
   "outputs": [],
   "source": [
    "class Pipe:\n",
    "    def __init__(self):\n",
    "        pass\n",
    "    \n",
    "    def cross_section(self):\n",
    "        raise NotImplementedError('Use specific pipe type class')\n",
    "    \n",
    "    def flow_rate(self, velocity):\n",
    "        return self.cross_section() * velocity\n",
    "    \n",
    "    def __eq__(self, other): # equal\n",
    "        return self.cross_section() == other.cross_section()\n",
    "    \n",
    "    def __lt__(self, other): # lower than\n",
    "        return self.cross_section() < other.cross_section()"
   ]
  },
  {
   "cell_type": "code",
   "execution_count": 98,
   "metadata": {},
   "outputs": [],
   "source": [
    "class RectanglePipe(Pipe):\n",
    "    def __init__(self, width, height):\n",
    "        self.width = width\n",
    "        self.height = height\n",
    "\n",
    "    # setter and getter\n",
    "    def set_width(self, width):\n",
    "        self.width = width\n",
    "\n",
    "    def get_width(self):\n",
    "        return self.width \n",
    "    \n",
    "    def cross_section(self):\n",
    "        return self.width * self.height"
   ]
  },
  {
   "cell_type": "code",
   "execution_count": 99,
   "metadata": {},
   "outputs": [],
   "source": [
    "class RoundPipe(Pipe):\n",
    "    def __init__(self, radius):\n",
    "        self.radius = radius\n",
    "    \n",
    "    def cross_section(self):\n",
    "        return 3.14 * self.radius**2"
   ]
  },
  {
   "cell_type": "code",
   "execution_count": 100,
   "metadata": {},
   "outputs": [],
   "source": [
    "class OvalPipe(Pipe):\n",
    "    def __init__(self, radius):\n",
    "        self.radius = radius\n",
    "    "
   ]
  },
  {
   "cell_type": "code",
   "execution_count": 101,
   "metadata": {},
   "outputs": [
    {
     "name": "stdout",
     "output_type": "stream",
     "text": [
      "cross section - 200 and flow rate with velocity 3 is 600\n",
      "cross section - 314.0 and flow rate with velocity 3 is 942.0\n"
     ]
    }
   ],
   "source": [
    "pipe_1 = RectanglePipe(10, 20)\n",
    "pipe_2 = RoundPipe(10)\n",
    "velocity = 3\n",
    "print(f'cross section - {pipe_1.cross_section()} and flow rate with velocity {velocity} is {pipe_1.flow_rate(velocity)}' )\n",
    "print(f'cross section - {pipe_2.cross_section()} and flow rate with velocity {velocity} is {pipe_2.flow_rate(velocity)}' )"
   ]
  },
  {
   "cell_type": "code",
   "execution_count": 102,
   "metadata": {},
   "outputs": [
    {
     "data": {
      "text/plain": [
       "False"
      ]
     },
     "execution_count": 102,
     "metadata": {},
     "output_type": "execute_result"
    }
   ],
   "source": [
    "pipe_1 > pipe_2"
   ]
  },
  {
   "cell_type": "code",
   "execution_count": 83,
   "metadata": {},
   "outputs": [
    {
     "data": {
      "text/plain": [
       "False"
      ]
     },
     "execution_count": 83,
     "metadata": {},
     "output_type": "execute_result"
    }
   ],
   "source": [
    "pipe_1 == pipe_2"
   ]
  },
  {
   "cell_type": "code",
   "execution_count": 103,
   "metadata": {},
   "outputs": [
    {
     "name": "stdout",
     "output_type": "stream",
     "text": [
      "True\n",
      "True\n"
     ]
    }
   ],
   "source": [
    "print( RectanglePipe(10,20) == RectanglePipe(20,10) )\n",
    "print( RectanglePipe(25,40) == RectanglePipe(50,20) )\n"
   ]
  },
  {
   "cell_type": "code",
   "execution_count": 104,
   "metadata": {},
   "outputs": [
    {
     "name": "stdout",
     "output_type": "stream",
     "text": [
      "False\n",
      "True\n",
      "False\n"
     ]
    }
   ],
   "source": [
    "print( RectanglePipe(10,20) > RectanglePipe(20,10) )\n",
    "print( RectanglePipe(25,40) == RectanglePipe(50,20) )\n",
    "print( RectanglePipe(25,40) == RoundPipe(7.5) )"
   ]
  },
  {
   "cell_type": "code",
   "execution_count": 91,
   "metadata": {},
   "outputs": [
    {
     "ename": "NotImplementedError",
     "evalue": "Use specific pipe type class",
     "output_type": "error",
     "traceback": [
      "\u001b[1;31m---------------------------------------------------------------------------\u001b[0m",
      "\u001b[1;31mNotImplementedError\u001b[0m                       Traceback (most recent call last)",
      "\u001b[1;32mc:\\Users\\Robotux\\Documents\\Python\\230926PYT036VAK\\lesson_9.ipynb Cell 23\u001b[0m line \u001b[0;36m<module>\u001b[1;34m\u001b[0m\n\u001b[1;32m----> <a href='vscode-notebook-cell:/c%3A/Users/Robotux/Documents/Python/230926PYT036VAK/lesson_9.ipynb#X32sZmlsZQ%3D%3D?line=0'>1</a>\u001b[0m Pipe() \u001b[39m==\u001b[39;49m Pipe()\n",
      "\u001b[1;32mc:\\Users\\Robotux\\Documents\\Python\\230926PYT036VAK\\lesson_9.ipynb Cell 23\u001b[0m line \u001b[0;36mPipe.__eq__\u001b[1;34m(self, other)\u001b[0m\n\u001b[0;32m     <a href='vscode-notebook-cell:/c%3A/Users/Robotux/Documents/Python/230926PYT036VAK/lesson_9.ipynb#X32sZmlsZQ%3D%3D?line=10'>11</a>\u001b[0m \u001b[39mdef\u001b[39;00m \u001b[39m__eq__\u001b[39m(\u001b[39mself\u001b[39m, other):\n\u001b[1;32m---> <a href='vscode-notebook-cell:/c%3A/Users/Robotux/Documents/Python/230926PYT036VAK/lesson_9.ipynb#X32sZmlsZQ%3D%3D?line=11'>12</a>\u001b[0m     \u001b[39mreturn\u001b[39;00m \u001b[39mself\u001b[39;49m\u001b[39m.\u001b[39;49mcross_section() \u001b[39m==\u001b[39m other\u001b[39m.\u001b[39mcross_section()\n",
      "\u001b[1;32mc:\\Users\\Robotux\\Documents\\Python\\230926PYT036VAK\\lesson_9.ipynb Cell 23\u001b[0m line \u001b[0;36mPipe.cross_section\u001b[1;34m(self)\u001b[0m\n\u001b[0;32m      <a href='vscode-notebook-cell:/c%3A/Users/Robotux/Documents/Python/230926PYT036VAK/lesson_9.ipynb#X32sZmlsZQ%3D%3D?line=4'>5</a>\u001b[0m \u001b[39mdef\u001b[39;00m \u001b[39mcross_section\u001b[39m(\u001b[39mself\u001b[39m):\n\u001b[1;32m----> <a href='vscode-notebook-cell:/c%3A/Users/Robotux/Documents/Python/230926PYT036VAK/lesson_9.ipynb#X32sZmlsZQ%3D%3D?line=5'>6</a>\u001b[0m     \u001b[39mraise\u001b[39;00m \u001b[39mNotImplementedError\u001b[39;00m(\u001b[39m'\u001b[39m\u001b[39mUse specific pipe type class\u001b[39m\u001b[39m'\u001b[39m)\n",
      "\u001b[1;31mNotImplementedError\u001b[0m: Use specific pipe type class"
     ]
    }
   ],
   "source": [
    "Pipe() == Pipe()"
   ]
  },
  {
   "cell_type": "code",
   "execution_count": 93,
   "metadata": {},
   "outputs": [
    {
     "ename": "NotImplementedError",
     "evalue": "Use specific pipe type class",
     "output_type": "error",
     "traceback": [
      "\u001b[1;31m---------------------------------------------------------------------------\u001b[0m",
      "\u001b[1;31mNotImplementedError\u001b[0m                       Traceback (most recent call last)",
      "\u001b[1;32mc:\\Users\\Robotux\\Documents\\Python\\230926PYT036VAK\\lesson_9.ipynb Cell 25\u001b[0m line \u001b[0;36m<module>\u001b[1;34m\u001b[0m\n\u001b[1;32m----> <a href='vscode-notebook-cell:/c%3A/Users/Robotux/Documents/Python/230926PYT036VAK/lesson_9.ipynb#X33sZmlsZQ%3D%3D?line=0'>1</a>\u001b[0m OvalPipe(\u001b[39m10\u001b[39;49m) \u001b[39m==\u001b[39;49m OvalPipe(\u001b[39m5\u001b[39;49m)\n",
      "\u001b[1;32mc:\\Users\\Robotux\\Documents\\Python\\230926PYT036VAK\\lesson_9.ipynb Cell 25\u001b[0m line \u001b[0;36mPipe.__eq__\u001b[1;34m(self, other)\u001b[0m\n\u001b[0;32m     <a href='vscode-notebook-cell:/c%3A/Users/Robotux/Documents/Python/230926PYT036VAK/lesson_9.ipynb#X33sZmlsZQ%3D%3D?line=10'>11</a>\u001b[0m \u001b[39mdef\u001b[39;00m \u001b[39m__eq__\u001b[39m(\u001b[39mself\u001b[39m, other):\n\u001b[1;32m---> <a href='vscode-notebook-cell:/c%3A/Users/Robotux/Documents/Python/230926PYT036VAK/lesson_9.ipynb#X33sZmlsZQ%3D%3D?line=11'>12</a>\u001b[0m     \u001b[39mreturn\u001b[39;00m \u001b[39mself\u001b[39;49m\u001b[39m.\u001b[39;49mcross_section() \u001b[39m==\u001b[39m other\u001b[39m.\u001b[39mcross_section()\n",
      "\u001b[1;32mc:\\Users\\Robotux\\Documents\\Python\\230926PYT036VAK\\lesson_9.ipynb Cell 25\u001b[0m line \u001b[0;36mPipe.cross_section\u001b[1;34m(self)\u001b[0m\n\u001b[0;32m      <a href='vscode-notebook-cell:/c%3A/Users/Robotux/Documents/Python/230926PYT036VAK/lesson_9.ipynb#X33sZmlsZQ%3D%3D?line=4'>5</a>\u001b[0m \u001b[39mdef\u001b[39;00m \u001b[39mcross_section\u001b[39m(\u001b[39mself\u001b[39m):\n\u001b[1;32m----> <a href='vscode-notebook-cell:/c%3A/Users/Robotux/Documents/Python/230926PYT036VAK/lesson_9.ipynb#X33sZmlsZQ%3D%3D?line=5'>6</a>\u001b[0m     \u001b[39mraise\u001b[39;00m \u001b[39mNotImplementedError\u001b[39;00m(\u001b[39m'\u001b[39m\u001b[39mUse specific pipe type class\u001b[39m\u001b[39m'\u001b[39m)\n",
      "\u001b[1;31mNotImplementedError\u001b[0m: Use specific pipe type class"
     ]
    }
   ],
   "source": [
    "OvalPipe(10) == OvalPipe(5)"
   ]
  },
  {
   "cell_type": "code",
   "execution_count": 94,
   "metadata": {},
   "outputs": [
    {
     "ename": "NotImplementedError",
     "evalue": "Use specific pipe type class",
     "output_type": "error",
     "traceback": [
      "\u001b[1;31m---------------------------------------------------------------------------\u001b[0m",
      "\u001b[1;31mNotImplementedError\u001b[0m                       Traceback (most recent call last)",
      "\u001b[1;32mc:\\Users\\Robotux\\Documents\\Python\\230926PYT036VAK\\lesson_9.ipynb Cell 26\u001b[0m line \u001b[0;36m<module>\u001b[1;34m\u001b[0m\n\u001b[0;32m      <a href='vscode-notebook-cell:/c%3A/Users/Robotux/Documents/Python/230926PYT036VAK/lesson_9.ipynb#X35sZmlsZQ%3D%3D?line=0'>1</a>\u001b[0m pipe_3 \u001b[39m=\u001b[39m OvalPipe(\u001b[39m10\u001b[39m)\n\u001b[1;32m----> <a href='vscode-notebook-cell:/c%3A/Users/Robotux/Documents/Python/230926PYT036VAK/lesson_9.ipynb#X35sZmlsZQ%3D%3D?line=1'>2</a>\u001b[0m pipe_3\u001b[39m.\u001b[39;49mflow_rate(velocity\u001b[39m=\u001b[39;49m\u001b[39m3\u001b[39;49m)\n",
      "\u001b[1;32mc:\\Users\\Robotux\\Documents\\Python\\230926PYT036VAK\\lesson_9.ipynb Cell 26\u001b[0m line \u001b[0;36mPipe.flow_rate\u001b[1;34m(self, velocity)\u001b[0m\n\u001b[0;32m      <a href='vscode-notebook-cell:/c%3A/Users/Robotux/Documents/Python/230926PYT036VAK/lesson_9.ipynb#X35sZmlsZQ%3D%3D?line=7'>8</a>\u001b[0m \u001b[39mdef\u001b[39;00m \u001b[39mflow_rate\u001b[39m(\u001b[39mself\u001b[39m, velocity):\n\u001b[1;32m----> <a href='vscode-notebook-cell:/c%3A/Users/Robotux/Documents/Python/230926PYT036VAK/lesson_9.ipynb#X35sZmlsZQ%3D%3D?line=8'>9</a>\u001b[0m     \u001b[39mreturn\u001b[39;00m \u001b[39mself\u001b[39;49m\u001b[39m.\u001b[39;49mcross_section() \u001b[39m*\u001b[39m velocity\n",
      "\u001b[1;32mc:\\Users\\Robotux\\Documents\\Python\\230926PYT036VAK\\lesson_9.ipynb Cell 26\u001b[0m line \u001b[0;36mPipe.cross_section\u001b[1;34m(self)\u001b[0m\n\u001b[0;32m      <a href='vscode-notebook-cell:/c%3A/Users/Robotux/Documents/Python/230926PYT036VAK/lesson_9.ipynb#X35sZmlsZQ%3D%3D?line=4'>5</a>\u001b[0m \u001b[39mdef\u001b[39;00m \u001b[39mcross_section\u001b[39m(\u001b[39mself\u001b[39m):\n\u001b[1;32m----> <a href='vscode-notebook-cell:/c%3A/Users/Robotux/Documents/Python/230926PYT036VAK/lesson_9.ipynb#X35sZmlsZQ%3D%3D?line=5'>6</a>\u001b[0m     \u001b[39mraise\u001b[39;00m \u001b[39mNotImplementedError\u001b[39;00m(\u001b[39m'\u001b[39m\u001b[39mUse specific pipe type class\u001b[39m\u001b[39m'\u001b[39m)\n",
      "\u001b[1;31mNotImplementedError\u001b[0m: Use specific pipe type class"
     ]
    }
   ],
   "source": [
    "pipe_3 = OvalPipe(10)\n",
    "pipe_3.flow_rate(velocity=3)"
   ]
  },
  {
   "cell_type": "code",
   "execution_count": 106,
   "metadata": {},
   "outputs": [
    {
     "name": "stdout",
     "output_type": "stream",
     "text": [
      "20\n",
      "30\n"
     ]
    }
   ],
   "source": [
    "print( pipe_1.height)\n",
    "pipe_1.height = 30 # avoid overwriting attributes like this. Use setter and getter methods\n",
    "print( pipe_1.height)"
   ]
  },
  {
   "cell_type": "markdown",
   "metadata": {},
   "source": [
    "# Pandas"
   ]
  },
  {
   "cell_type": "code",
   "execution_count": null,
   "metadata": {},
   "outputs": [],
   "source": [
    "# API - application programming interface"
   ]
  }
 ],
 "metadata": {
  "kernelspec": {
   "display_name": "Python 3",
   "language": "python",
   "name": "python3"
  },
  "language_info": {
   "codemirror_mode": {
    "name": "ipython",
    "version": 3
   },
   "file_extension": ".py",
   "mimetype": "text/x-python",
   "name": "python",
   "nbconvert_exporter": "python",
   "pygments_lexer": "ipython3",
   "version": "3.10.2"
  }
 },
 "nbformat": 4,
 "nbformat_minor": 2
}
