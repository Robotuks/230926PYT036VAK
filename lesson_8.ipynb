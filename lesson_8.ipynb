{
 "cells": [
  {
   "cell_type": "code",
   "execution_count": 1,
   "metadata": {},
   "outputs": [
    {
     "data": {
      "text/plain": [
       "True"
      ]
     },
     "execution_count": 1,
     "metadata": {},
     "output_type": "execute_result"
    }
   ],
   "source": [
    "# True and not False and ( [] or bool(\" \") ) or \"word\".isdigit()\n",
    "# not False and ( [] or bool(\" \") ) or \"word\".isdigit()\n",
    "# ( [] or bool(\" \") ) or \"word\".isdigit()\n",
    "( True ) or \"word\".isdigit()\n",
    "True"
   ]
  },
  {
   "cell_type": "code",
   "execution_count": 10,
   "metadata": {},
   "outputs": [
    {
     "name": "stdout",
     "output_type": "stream",
     "text": [
      "<list_iterator object at 0x00000205A09C7518>\n",
      "2\n",
      "5\n",
      "3\n",
      "<list_iterator object at 0x00000205A09C7518>\n",
      "['__class__', '__delattr__', '__dir__', '__doc__', '__eq__', '__format__', '__ge__', '__getattribute__', '__gt__', '__hash__', '__init__', '__init_subclass__', '__iter__', '__le__', '__length_hint__', '__lt__', '__ne__', '__new__', '__next__', '__reduce__', '__reduce_ex__', '__repr__', '__setattr__', '__setstate__', '__sizeof__', '__str__', '__subclasshook__']\n",
      "<built-in method __dir__ of list_iterator object at 0x00000205A09C7518>\n"
     ]
    }
   ],
   "source": [
    "my_iter = iter([2,5,3])\n",
    "print(my_iter)\n",
    "print( next(my_iter) )\n",
    "print( next(my_iter) )\n",
    "print( next(my_iter) )\n",
    "# print( next(my_iter) )\n",
    "print( my_iter )\n",
    "# print( dir(my_iter) )\n",
    "# print( my_iter.__dir__ )\n"
   ]
  },
  {
   "cell_type": "code",
   "execution_count": 7,
   "metadata": {},
   "outputs": [
    {
     "name": "stdout",
     "output_type": "stream",
     "text": [
      "2\n",
      "5\n",
      "3\n"
     ]
    }
   ],
   "source": [
    "my_iter = iter([2,5,3])\n",
    "for num in my_iter:\n",
    "    print(num)"
   ]
  },
  {
   "cell_type": "markdown",
   "metadata": {},
   "source": [
    "# Raising errors"
   ]
  },
  {
   "cell_type": "code",
   "execution_count": 11,
   "metadata": {},
   "outputs": [],
   "source": [
    "def add_number(a, b):\n",
    "\n",
    "    return a + b"
   ]
  },
  {
   "cell_type": "code",
   "execution_count": 15,
   "metadata": {},
   "outputs": [
    {
     "name": "stdout",
     "output_type": "stream",
     "text": [
      "8\n",
      "53\n",
      "[1, 2, 3, 5, 8]\n"
     ]
    }
   ],
   "source": [
    "print( add_number(5,3) )\n",
    "print( add_number('5','3') )\n",
    "print( add_number([1,2],[3,5,8]) )"
   ]
  },
  {
   "cell_type": "code",
   "execution_count": 35,
   "metadata": {},
   "outputs": [],
   "source": [
    "def add_number_2(a, b):\n",
    "\n",
    "    if not isinstance(a, int):\n",
    "        # raise\n",
    "        # raise ValueError\n",
    "        raise ValueError(f'argument a - {a} is not an integer. Please provide integer value')\n",
    "    if not isinstance(b, int):\n",
    "        raise ValueError(f'argument b - {b} is not an integer. Please provide integer value')\n",
    "    return a + b"
   ]
  },
  {
   "cell_type": "code",
   "execution_count": 36,
   "metadata": {},
   "outputs": [
    {
     "name": "stdout",
     "output_type": "stream",
     "text": [
      "8\n"
     ]
    },
    {
     "ename": "ValueError",
     "evalue": "argument a - [1, 2] is not an integer. Please provide integer value",
     "output_type": "error",
     "traceback": [
      "\u001b[1;31m---------------------------------------------------------------------------\u001b[0m",
      "\u001b[1;31mValueError\u001b[0m                                Traceback (most recent call last)",
      "\u001b[1;32m<ipython-input-36-e9d84c6d45cd>\u001b[0m in \u001b[0;36m<module>\u001b[1;34m\u001b[0m\n\u001b[0;32m      1\u001b[0m \u001b[0mprint\u001b[0m\u001b[1;33m(\u001b[0m \u001b[0madd_number_2\u001b[0m\u001b[1;33m(\u001b[0m\u001b[1;36m5\u001b[0m\u001b[1;33m,\u001b[0m\u001b[1;36m3\u001b[0m\u001b[1;33m)\u001b[0m \u001b[1;33m)\u001b[0m\u001b[1;33m\u001b[0m\u001b[1;33m\u001b[0m\u001b[0m\n\u001b[0;32m      2\u001b[0m \u001b[1;31m# print( add_number_2('5','3') )\u001b[0m\u001b[1;33m\u001b[0m\u001b[1;33m\u001b[0m\u001b[1;33m\u001b[0m\u001b[0m\n\u001b[1;32m----> 3\u001b[1;33m \u001b[0mprint\u001b[0m\u001b[1;33m(\u001b[0m \u001b[0madd_number_2\u001b[0m\u001b[1;33m(\u001b[0m\u001b[1;33m[\u001b[0m\u001b[1;36m1\u001b[0m\u001b[1;33m,\u001b[0m\u001b[1;36m2\u001b[0m\u001b[1;33m]\u001b[0m\u001b[1;33m,\u001b[0m\u001b[1;33m[\u001b[0m\u001b[1;36m3\u001b[0m\u001b[1;33m,\u001b[0m\u001b[1;36m5\u001b[0m\u001b[1;33m,\u001b[0m\u001b[1;36m8\u001b[0m\u001b[1;33m]\u001b[0m\u001b[1;33m)\u001b[0m \u001b[1;33m)\u001b[0m\u001b[1;33m\u001b[0m\u001b[1;33m\u001b[0m\u001b[0m\n\u001b[0m",
      "\u001b[1;32m<ipython-input-35-058fd96e2e73>\u001b[0m in \u001b[0;36madd_number_2\u001b[1;34m(a, b)\u001b[0m\n\u001b[0;32m      4\u001b[0m         \u001b[1;31m# raise\u001b[0m\u001b[1;33m\u001b[0m\u001b[1;33m\u001b[0m\u001b[1;33m\u001b[0m\u001b[0m\n\u001b[0;32m      5\u001b[0m         \u001b[1;31m# raise ValueError\u001b[0m\u001b[1;33m\u001b[0m\u001b[1;33m\u001b[0m\u001b[1;33m\u001b[0m\u001b[0m\n\u001b[1;32m----> 6\u001b[1;33m         \u001b[1;32mraise\u001b[0m \u001b[0mValueError\u001b[0m\u001b[1;33m(\u001b[0m\u001b[1;34mf'argument a - {a} is not an integer. Please provide integer value'\u001b[0m\u001b[1;33m)\u001b[0m\u001b[1;33m\u001b[0m\u001b[1;33m\u001b[0m\u001b[0m\n\u001b[0m\u001b[0;32m      7\u001b[0m     \u001b[1;32mif\u001b[0m \u001b[1;32mnot\u001b[0m \u001b[0misinstance\u001b[0m\u001b[1;33m(\u001b[0m\u001b[0mb\u001b[0m\u001b[1;33m,\u001b[0m \u001b[0mint\u001b[0m\u001b[1;33m)\u001b[0m\u001b[1;33m:\u001b[0m\u001b[1;33m\u001b[0m\u001b[1;33m\u001b[0m\u001b[0m\n\u001b[0;32m      8\u001b[0m         \u001b[1;32mraise\u001b[0m \u001b[0mValueError\u001b[0m\u001b[1;33m(\u001b[0m\u001b[1;34mf'argument b - {b} is not an integer. Please provide integer value'\u001b[0m\u001b[1;33m)\u001b[0m\u001b[1;33m\u001b[0m\u001b[1;33m\u001b[0m\u001b[0m\n",
      "\u001b[1;31mValueError\u001b[0m: argument a - [1, 2] is not an integer. Please provide integer value"
     ]
    }
   ],
   "source": [
    "print( add_number_2(5,3) )\n",
    "# print( add_number_2('5','3') )\n",
    "print( add_number_2([1,2],[3,5,8]) )"
   ]
  },
  {
   "cell_type": "code",
   "execution_count": 26,
   "metadata": {},
   "outputs": [
    {
     "name": "stdout",
     "output_type": "stream",
     "text": [
      "The Zen of Python, by Tim Peters\n",
      "\n",
      "Beautiful is better than ugly.\n",
      "Explicit is better than implicit.\n",
      "Simple is better than complex.\n",
      "Complex is better than complicated.\n",
      "Flat is better than nested.\n",
      "Sparse is better than dense.\n",
      "Readability counts.\n",
      "Special cases aren't special enough to break the rules.\n",
      "Although practicality beats purity.\n",
      "Errors should never pass silently.\n",
      "Unless explicitly silenced.\n",
      "In the face of ambiguity, refuse the temptation to guess.\n",
      "There should be one-- and preferably only one --obvious way to do it.\n",
      "Although that way may not be obvious at first unless you're Dutch.\n",
      "Now is better than never.\n",
      "Although never is often better than *right* now.\n",
      "If the implementation is hard to explain, it's a bad idea.\n",
      "If the implementation is easy to explain, it may be a good idea.\n",
      "Namespaces are one honking great idea -- let's do more of those!\n"
     ]
    }
   ],
   "source": [
    "import this"
   ]
  },
  {
   "cell_type": "markdown",
   "metadata": {},
   "source": [
    "# Try/except"
   ]
  },
  {
   "cell_type": "code",
   "execution_count": 40,
   "metadata": {},
   "outputs": [
    {
     "name": "stdout",
     "output_type": "stream",
     "text": [
      "try begining\n",
      "some error happened\n",
      "end of code\n"
     ]
    }
   ],
   "source": [
    "a = 5\n",
    "b = 0\n",
    "\n",
    "try:\n",
    "    print('try begining')\n",
    "    c = a / b\n",
    "    print('try end')\n",
    "except: # BAD PRACTICE\n",
    "    print('some error happened')\n",
    "\n",
    "print('end of code')\n"
   ]
  },
  {
   "cell_type": "code",
   "execution_count": 44,
   "metadata": {},
   "outputs": [
    {
     "name": "stdout",
     "output_type": "stream",
     "text": [
      "try begining\n",
      "ZeroDivisionError happened\n",
      "end of code\n"
     ]
    }
   ],
   "source": [
    "a = 5\n",
    "b = 0\n",
    "\n",
    "try:\n",
    "    print('try begining')\n",
    "    # print(d)\n",
    "    c = a / b\n",
    "    print('try end')\n",
    "except ZeroDivisionError: # GOOD PRACTICE\n",
    "    print('ZeroDivisionError happened')\n",
    "\n",
    "print('end of code')"
   ]
  },
  {
   "cell_type": "code",
   "execution_count": 62,
   "metadata": {},
   "outputs": [
    {
     "name": "stdout",
     "output_type": "stream",
     "text": [
      "try begining\n",
      "ZeroDivisionError happened: division by zero\n",
      "FINALLY\n",
      "end of code\n"
     ]
    }
   ],
   "source": [
    "a = 5\n",
    "b = 0\n",
    "\n",
    "try:\n",
    "    print('try begining')\n",
    "    # print(d)\n",
    "    # 5 + \"5\"\n",
    "    c = a / b\n",
    "    print('try end')\n",
    "except ZeroDivisionError as e: # GOOD PRACTICE\n",
    "    print(f'ZeroDivisionError happened: {e}')\n",
    "except NameError as e: # GOOD PRACTICE\n",
    "    print(f'NameError happened: {e}')\n",
    "finally:\n",
    "    print('FINALLY') # always execute even if error\n",
    "\n",
    "print('end of code')"
   ]
  },
  {
   "cell_type": "code",
   "execution_count": 55,
   "metadata": {},
   "outputs": [],
   "source": [
    "import math as m"
   ]
  },
  {
   "cell_type": "code",
   "execution_count": 56,
   "metadata": {},
   "outputs": [
    {
     "data": {
      "text/plain": [
       "1.5707963267948966"
      ]
     },
     "execution_count": 56,
     "metadata": {},
     "output_type": "execute_result"
    }
   ],
   "source": [
    "\n",
    "m.radians(90)"
   ]
  },
  {
   "cell_type": "markdown",
   "metadata": {},
   "source": [
    "## Usually can get away without try/except"
   ]
  },
  {
   "cell_type": "code",
   "execution_count": 68,
   "metadata": {},
   "outputs": [
    {
     "name": "stdout",
     "output_type": "stream",
     "text": [
      "0.5\n"
     ]
    }
   ],
   "source": [
    "a = 5\n",
    "b = 10\n",
    "\n",
    "if b == 0:\n",
    "    b = 1\n",
    "\n",
    "# print(d)\n",
    "# 5 + \"5\"\n",
    "c = a / b\n",
    "\n",
    "print(c)\n"
   ]
  },
  {
   "cell_type": "code",
   "execution_count": 72,
   "metadata": {},
   "outputs": [],
   "source": [
    "def add_number_3(a, b):\n",
    "\n",
    "    if isinstance(a, str) and a.isdigit():\n",
    "        a = int(5)\n",
    "    if not isinstance(b, int):\n",
    "        raise ValueError(f'argument b - {b} is not an integer. Please provide integer value')\n",
    "    return a + b"
   ]
  },
  {
   "cell_type": "code",
   "execution_count": 76,
   "metadata": {},
   "outputs": [
    {
     "name": "stdout",
     "output_type": "stream",
     "text": [
      "8\n",
      "8\n"
     ]
    },
    {
     "ename": "TypeError",
     "evalue": "can only concatenate str (not \"int\") to str",
     "output_type": "error",
     "traceback": [
      "\u001b[1;31m---------------------------------------------------------------------------\u001b[0m",
      "\u001b[1;31mTypeError\u001b[0m                                 Traceback (most recent call last)",
      "\u001b[1;32m<ipython-input-76-bc335f49db44>\u001b[0m in \u001b[0;36m<module>\u001b[1;34m\u001b[0m\n\u001b[0;32m      1\u001b[0m \u001b[0mprint\u001b[0m\u001b[1;33m(\u001b[0m\u001b[0madd_number_3\u001b[0m\u001b[1;33m(\u001b[0m\u001b[1;36m5\u001b[0m\u001b[1;33m,\u001b[0m\u001b[1;36m3\u001b[0m\u001b[1;33m)\u001b[0m \u001b[1;33m)\u001b[0m\u001b[1;33m\u001b[0m\u001b[1;33m\u001b[0m\u001b[0m\n\u001b[0;32m      2\u001b[0m \u001b[0mprint\u001b[0m\u001b[1;33m(\u001b[0m\u001b[0madd_number_3\u001b[0m\u001b[1;33m(\u001b[0m\u001b[1;34m\"5\"\u001b[0m\u001b[1;33m,\u001b[0m\u001b[1;36m3\u001b[0m\u001b[1;33m)\u001b[0m \u001b[1;33m)\u001b[0m\u001b[1;33m\u001b[0m\u001b[1;33m\u001b[0m\u001b[0m\n\u001b[1;32m----> 3\u001b[1;33m \u001b[0mprint\u001b[0m\u001b[1;33m(\u001b[0m\u001b[0madd_number_3\u001b[0m\u001b[1;33m(\u001b[0m\u001b[1;34m\"a\"\u001b[0m\u001b[1;33m,\u001b[0m\u001b[1;36m3\u001b[0m\u001b[1;33m)\u001b[0m \u001b[1;33m)\u001b[0m\u001b[1;33m\u001b[0m\u001b[1;33m\u001b[0m\u001b[0m\n\u001b[0m",
      "\u001b[1;32m<ipython-input-72-6a004defb72a>\u001b[0m in \u001b[0;36madd_number_3\u001b[1;34m(a, b)\u001b[0m\n\u001b[0;32m      5\u001b[0m     \u001b[1;32mif\u001b[0m \u001b[1;32mnot\u001b[0m \u001b[0misinstance\u001b[0m\u001b[1;33m(\u001b[0m\u001b[0mb\u001b[0m\u001b[1;33m,\u001b[0m \u001b[0mint\u001b[0m\u001b[1;33m)\u001b[0m\u001b[1;33m:\u001b[0m\u001b[1;33m\u001b[0m\u001b[1;33m\u001b[0m\u001b[0m\n\u001b[0;32m      6\u001b[0m         \u001b[1;32mraise\u001b[0m \u001b[0mValueError\u001b[0m\u001b[1;33m(\u001b[0m\u001b[1;34mf'argument b - {b} is not an integer. Please provide integer value'\u001b[0m\u001b[1;33m)\u001b[0m\u001b[1;33m\u001b[0m\u001b[1;33m\u001b[0m\u001b[0m\n\u001b[1;32m----> 7\u001b[1;33m     \u001b[1;32mreturn\u001b[0m \u001b[0ma\u001b[0m \u001b[1;33m+\u001b[0m \u001b[0mb\u001b[0m\u001b[1;33m\u001b[0m\u001b[1;33m\u001b[0m\u001b[0m\n\u001b[0m",
      "\u001b[1;31mTypeError\u001b[0m: can only concatenate str (not \"int\") to str"
     ]
    }
   ],
   "source": [
    "print(add_number_3(5,3) )\n",
    "print(add_number_3(\"5\",3) )\n",
    "print(add_number_3(\"a\",3) )"
   ]
  },
  {
   "cell_type": "code",
   "execution_count": 75,
   "metadata": {},
   "outputs": [
    {
     "data": {
      "text/plain": [
       "True"
      ]
     },
     "execution_count": 75,
     "metadata": {},
     "output_type": "execute_result"
    }
   ],
   "source": [
    "\"16\".isdigit()"
   ]
  },
  {
   "cell_type": "markdown",
   "metadata": {},
   "source": [
    "# OS library"
   ]
  },
  {
   "cell_type": "code",
   "execution_count": 77,
   "metadata": {},
   "outputs": [],
   "source": [
    "import os"
   ]
  },
  {
   "cell_type": "code",
   "execution_count": 78,
   "metadata": {},
   "outputs": [
    {
     "data": {
      "text/plain": [
       "'c:\\\\Users\\\\grigd\\\\Documents\\\\Python paskaitos\\\\Jupyter\\\\230926PYT036VAK'"
      ]
     },
     "execution_count": 78,
     "metadata": {},
     "output_type": "execute_result"
    }
   ],
   "source": [
    "os.getcwd()"
   ]
  },
  {
   "cell_type": "code",
   "execution_count": 79,
   "metadata": {},
   "outputs": [
    {
     "name": "stdout",
     "output_type": "stream",
     "text": [
      "c:\\Users\\grigd\\Desktop\n"
     ]
    }
   ],
   "source": [
    "# relative\n",
    "os.chdir('c:\\\\Users\\\\grigd\\\\Documents\\\\Python paskaitos\\\\Jupyter\\\\230926PYT036VAK')\n",
    "os.chdir('../../../../Desktop/')\n",
    "print(os.getcwd())"
   ]
  },
  {
   "cell_type": "code",
   "execution_count": 84,
   "metadata": {},
   "outputs": [
    {
     "name": "stdout",
     "output_type": "stream",
     "text": [
      "c:\\Users\\grigd\\Documents\\Python paskaitos\\Jupyter\n"
     ]
    }
   ],
   "source": [
    "# absolute\n",
    "os.chdir('c:\\\\Users\\\\grigd\\\\Documents\\\\Python paskaitos\\\\Jupyter\\\\230926PYT036VAK')\n",
    "os.chdir('c:/Users/grigd/Documents\\\\Python paskaitos\\\\Jupyter')\n",
    "print(os.getcwd())"
   ]
  },
  {
   "cell_type": "code",
   "execution_count": 85,
   "metadata": {},
   "outputs": [
    {
     "data": {
      "text/plain": [
       "['.ipynb_checkpoints',\n",
       " '.vscode',\n",
       " '20201209VCSPYTVAK',\n",
       " '20210225VCSPYTIND',\n",
       " '20210504VCSPYTIND',\n",
       " '20210617VCSPYTIND',\n",
       " '20210729VCSPYTVAK',\n",
       " '20210930VCSPYTVAK',\n",
       " '20220830VCSPYTVAK',\n",
       " '230926PYT036VAK',\n",
       " 'abs.ipynb',\n",
       " 'foto',\n",
       " 'namu_darbai_1_atsakymai.ipynb',\n",
       " 'namu_darbai_2_atsakymai.ipynb',\n",
       " 'Pauliaus',\n",
       " 'testas.ipynb',\n",
       " 'Testo_klausimai.ipynb']"
      ]
     },
     "execution_count": 85,
     "metadata": {},
     "output_type": "execute_result"
    }
   ],
   "source": [
    "os.listdir()"
   ]
  },
  {
   "cell_type": "code",
   "execution_count": 86,
   "metadata": {},
   "outputs": [
    {
     "data": {
      "text/plain": [
       "['.git',\n",
       " '.gitignore',\n",
       " 'image.png',\n",
       " 'lesson_1.ipynb',\n",
       " 'lesson_2.ipynb',\n",
       " 'lesson_3.ipynb',\n",
       " 'lesson_4.ipynb',\n",
       " 'lesson_5.ipynb',\n",
       " 'lesson_6.ipynb',\n",
       " 'lesson_7.ipynb',\n",
       " 'lesson_8.ipynb',\n",
       " 'main.py',\n",
       " 'modules',\n",
       " 'README.md',\n",
       " '__pycache__']"
      ]
     },
     "execution_count": 86,
     "metadata": {},
     "output_type": "execute_result"
    }
   ],
   "source": [
    "os.listdir('230926PYT036VAK')"
   ]
  },
  {
   "cell_type": "code",
   "execution_count": 87,
   "metadata": {},
   "outputs": [
    {
     "data": {
      "text/plain": [
       "['.git',\n",
       " '.gitignore',\n",
       " 'image.png',\n",
       " 'lesson_1.ipynb',\n",
       " 'lesson_2.ipynb',\n",
       " 'lesson_3.ipynb',\n",
       " 'lesson_4.ipynb',\n",
       " 'lesson_5.ipynb',\n",
       " 'lesson_6.ipynb',\n",
       " 'lesson_7.ipynb',\n",
       " 'lesson_8.ipynb',\n",
       " 'main.py',\n",
       " 'modules',\n",
       " 'README.md',\n",
       " '__pycache__']"
      ]
     },
     "execution_count": 87,
     "metadata": {},
     "output_type": "execute_result"
    }
   ],
   "source": [
    "os.listdir('c:\\\\Users\\\\grigd\\\\Documents\\\\Python paskaitos\\\\Jupyter\\\\230926PYT036VAK')"
   ]
  },
  {
   "cell_type": "code",
   "execution_count": 89,
   "metadata": {},
   "outputs": [],
   "source": [
    "os.chdir('c:\\\\Users\\\\grigd\\\\Documents\\\\Python paskaitos\\\\Jupyter\\\\230926PYT036VAK')\n",
    "os.makedirs('folder_1/folder_2/folder_3')"
   ]
  },
  {
   "cell_type": "code",
   "execution_count": 91,
   "metadata": {},
   "outputs": [
    {
     "data": {
      "text/plain": [
       "<generator object walk at 0x00000205A09E50C0>"
      ]
     },
     "execution_count": 91,
     "metadata": {},
     "output_type": "execute_result"
    }
   ],
   "source": [
    "os.walk('.')"
   ]
  },
  {
   "cell_type": "code",
   "execution_count": 94,
   "metadata": {},
   "outputs": [
    {
     "name": "stdout",
     "output_type": "stream",
     "text": [
      "root: c:\\Users\\grigd\\Documents\\Python paskaitos\\Jupyter\\230926PYT036VAK\\folder_1\n",
      "dirs: ['folder_2']\n",
      "files: []\n",
      "root: c:\\Users\\grigd\\Documents\\Python paskaitos\\Jupyter\\230926PYT036VAK\\folder_1\\folder_2\n",
      "dirs: ['folder3']\n",
      "files: []\n",
      "root: c:\\Users\\grigd\\Documents\\Python paskaitos\\Jupyter\\230926PYT036VAK\\folder_1\\folder_2\\folder3\n",
      "dirs: []\n",
      "files: ['text.txt']\n"
     ]
    }
   ],
   "source": [
    "for root, dirs, files in os.walk('c:\\\\Users\\\\grigd\\\\Documents\\\\Python paskaitos\\\\Jupyter\\\\230926PYT036VAK\\\\folder_1'):\n",
    "    print (f'root: {root}')\n",
    "    print (f'dirs: {dirs}') # directories == folder\n",
    "    print (f'files: {files}')"
   ]
  },
  {
   "cell_type": "code",
   "execution_count": 95,
   "metadata": {},
   "outputs": [],
   "source": [
    "os.removedirs('./folder_1/folder_2/folder3/folder_4/folder_5/')\n"
   ]
  },
  {
   "cell_type": "code",
   "execution_count": 96,
   "metadata": {},
   "outputs": [],
   "source": [
    "# delete files and folders inside\n",
    "import shutil\n",
    "shutil.rmtree('folder_1')"
   ]
  },
  {
   "cell_type": "markdown",
   "metadata": {},
   "source": [
    "## Document read"
   ]
  },
  {
   "cell_type": "code",
   "execution_count": 98,
   "metadata": {},
   "outputs": [
    {
     "name": "stdout",
     "output_type": "stream",
     "text": [
      "Hello from text file!\n",
      "\n",
      "new line\n"
     ]
    },
    {
     "ename": "ValueError",
     "evalue": "I/O operation on closed file.",
     "output_type": "error",
     "traceback": [
      "\u001b[1;31m---------------------------------------------------------------------------\u001b[0m",
      "\u001b[1;31mValueError\u001b[0m                                Traceback (most recent call last)",
      "\u001b[1;32m<ipython-input-98-43fed47a489a>\u001b[0m in \u001b[0;36m<module>\u001b[1;34m\u001b[0m\n\u001b[0;32m      3\u001b[0m \u001b[1;33m\u001b[0m\u001b[0m\n\u001b[0;32m      4\u001b[0m \u001b[0mprint\u001b[0m\u001b[1;33m(\u001b[0m\u001b[0mtext\u001b[0m\u001b[1;33m)\u001b[0m\u001b[1;33m\u001b[0m\u001b[1;33m\u001b[0m\u001b[0m\n\u001b[1;32m----> 5\u001b[1;33m \u001b[0mfr\u001b[0m\u001b[1;33m.\u001b[0m\u001b[0mread\u001b[0m\u001b[1;33m(\u001b[0m\u001b[1;33m)\u001b[0m\u001b[1;33m\u001b[0m\u001b[1;33m\u001b[0m\u001b[0m\n\u001b[0m",
      "\u001b[1;31mValueError\u001b[0m: I/O operation on closed file."
     ]
    }
   ],
   "source": [
    "with open('text.txt', 'r') as fr: # name is arbitrary\n",
    "    text = fr.read()\n",
    "\n",
    "print(text)\n",
    "# fr.read() Error. Read only within 'with' statement"
   ]
  },
  {
   "cell_type": "code",
   "execution_count": 99,
   "metadata": {},
   "outputs": [
    {
     "name": "stdout",
     "output_type": "stream",
     "text": [
      "c:\\Users\\grigd\\Documents\\Python paskaitos\\Jupyter\\230926PYT036VAK\n"
     ]
    }
   ],
   "source": [
    "print(os.getcwd())"
   ]
  },
  {
   "cell_type": "markdown",
   "metadata": {},
   "source": [
    "## Document write"
   ]
  },
  {
   "cell_type": "code",
   "execution_count": 100,
   "metadata": {},
   "outputs": [],
   "source": [
    "with open('text_write.txt', 'w') as fw:  # name is arbitrary\n",
    "    fw.write('Hello from Python\\n')\n",
    "    fw.write('Hello from Python for second time')"
   ]
  },
  {
   "cell_type": "markdown",
   "metadata": {},
   "source": [
    "## JSON"
   ]
  },
  {
   "cell_type": "code",
   "execution_count": 103,
   "metadata": {},
   "outputs": [],
   "source": [
    "my_dict = {\n",
    "    'name': 'Darius',\n",
    "    'age': 345,\n",
    "    'hobbies': ['tennis', 'bouldering'],\n",
    "    'has_pet': False\n",
    "}"
   ]
  },
  {
   "cell_type": "code",
   "execution_count": 104,
   "metadata": {},
   "outputs": [],
   "source": [
    "import json\n",
    "\n",
    "with open('person.json', 'w') as fw: # name is arbitrary\n",
    "    json.dump( my_dict, fw)"
   ]
  },
  {
   "cell_type": "code",
   "execution_count": 105,
   "metadata": {},
   "outputs": [
    {
     "name": "stdout",
     "output_type": "stream",
     "text": [
      "{'name': 'Darius', 'age': 345, 'hobbies': ['tennis', 'bouldering'], 'has_pet': False}\n"
     ]
    }
   ],
   "source": [
    "with open('person.json', 'r') as some_file:\n",
    "    person = json.load( some_file )\n",
    "\n",
    "print(person)"
   ]
  },
  {
   "cell_type": "code",
   "execution_count": 107,
   "metadata": {},
   "outputs": [
    {
     "name": "stdout",
     "output_type": "stream",
     "text": [
      "Requirement already satisfied: pyyaml in d:\\anaconda3\\lib\\site-packages (5.4)\n"
     ]
    }
   ],
   "source": [
    "!pip install pyyaml"
   ]
  },
  {
   "cell_type": "code",
   "execution_count": 108,
   "metadata": {},
   "outputs": [],
   "source": [
    "# yaml formatas\n",
    "# import yaml # Need to install\n",
    "import yaml"
   ]
  },
  {
   "cell_type": "code",
   "execution_count": 113,
   "metadata": {},
   "outputs": [],
   "source": [
    "with open('person.yaml', 'w') as fw: # name is arbitrary\n",
    "    yaml.dump( my_dict, fw)"
   ]
  },
  {
   "cell_type": "code",
   "execution_count": 117,
   "metadata": {},
   "outputs": [
    {
     "name": "stdout",
     "output_type": "stream",
     "text": [
      "{'a': {'b': {'c': {'number': 5}}}}\n"
     ]
    }
   ],
   "source": [
    "with open('yaml_example.yaml', 'r') as some_file:\n",
    "    yaml_sample = yaml.safe_load( some_file )\n",
    "\n",
    "print(yaml_sample)"
   ]
  },
  {
   "cell_type": "code",
   "execution_count": 118,
   "metadata": {},
   "outputs": [
    {
     "name": "stdout",
     "output_type": "stream",
     "text": [
      "{'age': 345, 'has_pet': False, 'hobbies': ['tennis', 'bouldering'], 'name': 'Darius'}\n"
     ]
    }
   ],
   "source": [
    "with open('person.yaml', 'r') as some_file:\n",
    "    yaml_sample = yaml.safe_load( some_file )\n",
    "print(yaml_sample)"
   ]
  },
  {
   "cell_type": "code",
   "execution_count": null,
   "metadata": {},
   "outputs": [],
   "source": []
  }
 ],
 "metadata": {
  "kernelspec": {
   "display_name": "base",
   "language": "python",
   "name": "python3"
  },
  "language_info": {
   "codemirror_mode": {
    "name": "ipython",
    "version": 3
   },
   "file_extension": ".py",
   "mimetype": "text/x-python",
   "name": "python",
   "nbconvert_exporter": "python",
   "pygments_lexer": "ipython3",
   "version": "3.7.1"
  }
 },
 "nbformat": 4,
 "nbformat_minor": 2
}
